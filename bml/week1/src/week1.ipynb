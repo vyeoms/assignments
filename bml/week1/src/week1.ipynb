{
 "cells": [
  {
   "cell_type": "markdown",
   "id": "c3ae0790-21ae-4377-aae6-7d2fefd62a65",
   "metadata": {},
   "source": [
    "# Week 1"
   ]
  },
  {
   "cell_type": "code",
   "execution_count": 4,
   "id": "2810a184-815a-4a73-83f4-fefb12e2e1dc",
   "metadata": {},
   "outputs": [
    {
     "name": "stdout",
     "output_type": "stream",
     "text": [
      "Final loss in the test set: 0.3889238238334656\n",
      "Parameter containing:\n",
      "tensor([[-1.7263,  1.2110]], requires_grad=True)\n"
     ]
    }
   ],
   "source": [
    "# Imports\n",
    "import torch\n",
    "\n",
    "def sampler(n = 300):\n",
    "    mu = torch.zeros(2)\n",
    "    cov = torch.tensor([[2.0, 0.5], [0.5, 4.0]])\n",
    "    x = torch.distributions.multivariate_normal.MultivariateNormal(mu, cov).rsample([n])\n",
    "    \n",
    "    w_transp = torch.tensor([[-1.7], [1.2]])\n",
    "    \n",
    "    y = torch.distributions.bernoulli.Bernoulli(1 / (1 + torch.exp(-torch.matmul(x, w_transp)))).sample()\n",
    "    \n",
    "    return x, y\n",
    "\n",
    "n = 300\n",
    "x, y = sampler(n)\n",
    "\n",
    "train_x, test_x = x[:int(0.8*n)], x[int(0.8*n):]\n",
    "train_y, test_y = y[:int(0.8*n),], y[int(0.8*n):,]\n",
    "\n",
    "def train_loop(x_train, y_train, model, loss_fn, optimizer, epochs = 10000):\n",
    "    size = len(x_train)\n",
    "    for _ in range(epochs):\n",
    "        # Compute prediction and loss\n",
    "        pred = model(x_train)\n",
    "        loss = loss_fn(pred, y_train)\n",
    "\n",
    "        # Backpropagation\n",
    "        optimizer.zero_grad()\n",
    "        loss.backward()\n",
    "        optimizer.step()\n",
    "\n",
    "def test_loop(x_test, y_test, model, loss_fn):\n",
    "    with torch.no_grad():\n",
    "        preds = model(x_test)\n",
    "        loss_test = loss_fn(preds, y_test)\n",
    "        print(f\"Final loss in the test set: {loss_test.item()}\")\n",
    "\n",
    "input_dim = 2\n",
    "output_dim = 1\n",
    "learning_rate = 5e-3\n",
    "\n",
    "model = torch.nn.Linear(input_dim, output_dim, bias=False)\n",
    "\n",
    "loss_fn = torch.nn.BCEWithLogitsLoss()\n",
    "\n",
    "optimizer = torch.optim.SGD(model.parameters(), lr=learning_rate)\n",
    "\n",
    "epochs = 20000\n",
    "\n",
    "device = torch.device(\"cuda:0\" if torch.cuda.is_available() else \"cpu\")\n",
    "train_x = train_x.to(device)\n",
    "train_y = train_y.to(device)\n",
    "model = model.to(device)\n",
    "\n",
    "train_loop(train_x, train_y, model, loss_fn, optimizer, epochs)\n",
    "\n",
    "model = model.to(torch.device(\"cpu\"))\n",
    "test_loop(test_x, test_y, model, loss_fn)\n",
    "print(model.weight)"
   ]
  }
 ],
 "metadata": {
  "kernelspec": {
   "display_name": "Python 3 (ipykernel)",
   "language": "python",
   "name": "python3"
  },
  "language_info": {
   "codemirror_mode": {
    "name": "ipython",
    "version": 3
   },
   "file_extension": ".py",
   "mimetype": "text/x-python",
   "name": "python",
   "nbconvert_exporter": "python",
   "pygments_lexer": "ipython3",
   "version": "3.10.6"
  }
 },
 "nbformat": 4,
 "nbformat_minor": 5
}
