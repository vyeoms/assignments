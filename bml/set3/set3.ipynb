{
 "cells": [
  {
   "cell_type": "markdown",
   "metadata": {},
   "source": [
    "# Problem 1: Laplace approximation for the Gamma-Poisson model\n",
    "\n",
    "Let us consider the exact same model and data as in the previous exercise set:\n",
    "\\begin{align*}\n",
    "x_n &\\sim \\text{Poisson}(uv),\\\\\n",
    "u &\\sim \\text{Gamma}(6, 1),\\\\\n",
    "v &\\sim \\text{Gamma}(3, 3).\n",
    "\\end{align*}\n",
    "where individual observations $\\mathbf{x}=[5, 3, 9, 13, 5, 3, 5, 1, 2, 7, 6, 5, 6, 7, 4]$ are conditionally independent of each other. \n",
    "\n",
    "Now we use distributional methods to approximate the posterior, instead of sampling from it. The first problem is about Laplace approximation.\n",
    "\n",
    "1. Find the **Laplace approximation** for the posterior. First find the maximum of $\\log p(\\mathbf{x},u,v)$ with respect to $u$ and $v$ with any algorithm (e.g. gradient-descent) and then compute the precision matrix as the negative of the Hessian of the same density, evaluated at $\\hat u, \\hat v$ that correspond to the optimum.\n",
    "2. **Compare the approximation with the results of Gibbs or Metropolis** (last week), paying particular attention into the tails of the distribution. Explain your main findings: How do the results differ and would you be happy to use the approximation here? \n",
    "\n",
    "For computing the Hessian you can either compute the second derivatives manually (recommended; remember to return also scans of your derivation) or use automatic differentiation in PyTorch (if familiar with that), or both -- then you can check whether your derivations are correct."
   ]
  },
  {
   "cell_type": "code",
   "execution_count": 1,
   "metadata": {},
   "outputs": [],
   "source": [
    "#imports\n",
    "\n",
    "import numpy as np\n",
    "import numpy.random as npr\n",
    "import matplotlib\n",
    "import matplotlib.pyplot as plt\n",
    "from scipy import stats\n",
    "import scipy.special as sps\n",
    "import torch\n",
    "\n",
    "%matplotlib inline"
   ]
  },
  {
   "cell_type": "code",
   "execution_count": 2,
   "metadata": {},
   "outputs": [
    {
     "name": "stdout",
     "output_type": "stream",
     "text": [
      "theoretical: u=5.777213725647858 and v=0.925737908549286\n",
      "torch: u=5.777116775512695 and v=0.9257529377937317\n",
      "theoretical Hessian: tensor([[ -2.5767, -15.0000],\n",
      "        [-15.0000, -96.8505]], dtype=torch.float64)\n",
      "torch Hessian: tensor([[ -2.5768, -15.0000],\n",
      "        [-15.0000, -96.8474]])\n",
      "precision matrix: tensor([[ 2.5767, 15.0000],\n",
      "        [15.0000, 96.8505]], dtype=torch.float64)\n"
     ]
    },
    {
     "data": {
      "image/png": "[encoded data removed]",
      "text/plain": [
       "<Figure size 432x288 with 1 Axes>"
      ]
     },
     "metadata": {
      "needs_background": "light"
     },
     "output_type": "display_data"
    }
   ],
   "source": [
    "x = np.array([5, 3, 9, 13, 5, 3, 5, 1, 2, 7, 6, 5, 6, 7, 4])\n",
    "N = len(x)\n",
    "sum_x = np.sum(x)\n",
    "\n",
    "# Step 1:\n",
    "# Define the model, using the log-density as before\n",
    "# logdensity = ...\n",
    "        \n",
    "# params=[u, v]\n",
    "def log_density(params, x=x):\n",
    "    N = len(x)\n",
    "    return (5+sum_x)*torch.log(params[0]) + (2+sum_x)*torch.log(params[1]) - params[0] - 3*params[1] - N*params[0]*params[1]\n",
    "\n",
    "# Step 2:\n",
    "# Find the best point estimate, used as the mean of the approximation\n",
    "# Hint: You can do this in the same way as in Exercise 1 where you optimized logistic regression in PyTorch\n",
    "# uhat = ...\n",
    "# vhat = ...\n",
    "\n",
    "# Theoretical values of uhat and vhat\n",
    "v_discriminant = (N+1)**2 - 4*N*(-2-sum_x)/3\n",
    "\n",
    "# We take the positive solution because the log-density has log(u) and log(v)\n",
    "theo_vhat = (-(N+1) + np.sqrt(v_discriminant))/(2*N)\n",
    "theo_uhat = 3*(theo_vhat+1)\n",
    "\n",
    "# PyTorch uhat and vhat\n",
    "# Define the optimization algorithm\n",
    "params = [torch.tensor([0.8, 1.2], requires_grad=True)]\n",
    "optimizer = torch.optim.SGD(params, lr=0.01)\n",
    "\n",
    "# Optimization loop\n",
    "for i in range(5000):\n",
    "    optimizer.zero_grad()\n",
    "    loss = -log_density(params[0])\n",
    "    loss.backward()\n",
    "    optimizer.step()\n",
    "\n",
    "# Get the maximum value\n",
    "torch_uhat, torch_vhat = params[0].detach()\n",
    "\n",
    "print(f\"theoretical: u={theo_uhat} and v={theo_vhat}\")\n",
    "print(f\"torch: u={torch_uhat} and v={torch_vhat}\")\n",
    "\n",
    "# Step 3:\n",
    "# Determine the covariance of the approximation\n",
    "# - Compute all second derivatives\n",
    "# - Convert to the covariance\n",
    "# Covhat = ...\n",
    "\n",
    "in_tensor = torch.tensor([torch_uhat, torch_vhat])\n",
    "torch_hess = torch.autograd.functional.hessian(log_density, in_tensor)\n",
    "\n",
    "theo_hess = torch.tensor([[-(5+sum_x)/theo_uhat**2, -N],\n",
    "                          [-N, -(2+sum_x)/theo_vhat**2]])\n",
    "\n",
    "precision = -theo_hess\n",
    "\n",
    "print(f\"theoretical Hessian: {theo_hess}\")\n",
    "print(f\"torch Hessian: {torch_hess}\")\n",
    "print(f\"precision matrix: {precision}\")\n",
    "\n",
    "#\n",
    "# EXAMPLE PLOTTING CODE THAT MAY BE HELPFUL\n",
    "#\n",
    "\n",
    "def Gibbs(log_density, param, T, x=x):\n",
    "    # Storage for samples\n",
    "    N = len(x)\n",
    "    samples = param.copy()\n",
    "    for t in range(T):\n",
    "        # Sample u conditional on v\n",
    "        param[0] = np.random.gamma(6 + np.sum(x), 1./(1+N*param[1]))\n",
    "\n",
    "        # Storing the sample already after updating the mean allows better visualization of\n",
    "        # what is going on, but is not useful in real use\n",
    "        #samples = np.vstack([samples, param])\n",
    "        \n",
    "        # Sample v conditional on u\n",
    "        param[1] = np.random.gamma(3 + np.sum(x), 1./(3 + N*param[0]))\n",
    "\n",
    "        samples = np.vstack([samples, param])\n",
    "    return samples\n",
    "\n",
    "ugrid = np.arange(2,17,0.05)\n",
    "vgrid = np.arange(0.2,3.5,0.05)\n",
    "uset, vset = np.meshgrid(ugrid, vgrid)\n",
    "uv = np.column_stack([uset.flat, vset.flat])\n",
    "\n",
    "# Density values at the grid points\n",
    "pdf_laplace = stats.multivariate_normal(np.array([theo_uhat,theo_vhat]), torch.inverse(precision)).pdf(uv).reshape(uset.shape)\n",
    "\n",
    "# Add some Gibbs samples on top to compare\n",
    "gibbs_samples = Gibbs(x, [3.0, 0.5], 2500)\n",
    "plt.plot(gibbs_samples[500:,0], gibbs_samples[500:,1], '.', alpha=0.2)\n",
    "\n",
    "# Then plot the countours \n",
    "_ = plt.contour(uset, vset, pdf_laplace, levels=6)\n"
   ]
  },
  {
   "cell_type": "markdown",
   "metadata": {},
   "source": [
    "## Gibbs vs approximation\n",
    "\n",
    "We can see that the approximation is able to capture most of the mass of the original distribution; however, it is not able to replicate the geometry or structure of the true distribution, and this is very apparent on the tails. This is due to the restriction on the shape imposed by the approximation's model, since a normal distribution isn't able to \"bend\" in the same manner as the true distribution.\n",
    "\n",
    "In such a simple example with only 2 dimensions it may not be worth it to use the approximation, since the Gibbs sampler can give way more precise results without a lot of additional computational overhead. However, if we were using way more complex models in settings with higher dimensions, using an approximation can be *way* easier and requires considerably less resources (specially time). Reiterating, the approximation is capable of capturing the majority of the mass of the original distribution, so we could be content with using it in these settings."
   ]
  },
  {
   "cell_type": "markdown",
   "metadata": {},
   "source": [
    "# Problem 2: Variational approximation for the Gamma-Poisson model\n",
    "\n",
    "Continue still with the exact same model. Now we form a variational approximation for the posterior using the coordinate-ascent VI method (CAVI).\n",
    "\n",
    "As the approximation we use $q(u,v|\\lambda) = q(u|a,b) q(v|c,d)$ where $\\lambda=\\{a,b,c,d\\}$ are the parameters of the approximation. \n",
    "\n",
    "1. **Figure out the update rules** for the approximation parameters $\\lambda$, starting from the conditional distributions $p(u|\\mathbf{x},v)$ and $p(u|\\mathbf{x},v)$ derived in the previous exercise. The update rule for $q(u|a,b)$ builds on $p(u|\\mathbf{x},v)$ but rather than conditioning on a specific value of $v$ we need to integrate $\\log p(u|\\mathbf{x},v)$ over the current $q(v|c,d)$. Return your derivations.\n",
    "2. **Write code that implements CAVI**, using the update equations. Note that you need to initialize your algorithm with some vlaues for the $\\lambda$ -- think about how to do this, to avoid very bad initializations.\n",
    "3. **Compare the approximation with the results of Gibbs or Metropolis** (last week) and the Laplace approximation, again paying attention to the tails. Explain briefly your main findings. How does the variational approximation differ from Laplace? Which one would you prefer here?"
   ]
  },
  {
   "cell_type": "code",
   "execution_count": 3,
   "metadata": {},
   "outputs": [
    {
     "name": "stdout",
     "output_type": "stream",
     "text": [
      "[87, 15.000873399399522]\n",
      "[84, 89.99493457842519]\n"
     ]
    },
    {
     "data": {
      "image/png": "[encoded data removed]",
      "text/plain": [
       "<Figure size 432x288 with 1 Axes>"
      ]
     },
     "metadata": {
      "needs_background": "light"
     },
     "output_type": "display_data"
    }
   ],
   "source": [
    "# Iterative optimization of q_u and q_v\n",
    "\n",
    "prior_alpha_u = 6\n",
    "prior_beta_u = 1\n",
    "prior_alpha_v = 3\n",
    "prior_beta_v = 3\n",
    "\n",
    "# Definte the approximation\n",
    "# Assume factorized q(mu,sigma) = q(mu|m,s) q(sigma|a,b) (normal and gamma)\n",
    "# params for u: a, b\n",
    "q_u_param = [prior_alpha_u + sum_x, 20.0]\n",
    "\n",
    "# params for v: c, d\n",
    "q_v_param = [prior_alpha_v + sum_x, 20.0]\n",
    "\n",
    "q_u = stats.gamma(q_u_param[0], scale=1.0/q_u_param[1])\n",
    "q_v = stats.gamma(q_v_param[0], scale=1.0/q_v_param[1])\n",
    "\n",
    "# Perform optimization; note how few iterations are enough here\n",
    "for iter in range(100):\n",
    "    ### Update q_u\n",
    "    # Compute required expectations\n",
    "    E_v = q_v.mean()\n",
    "    # If we were to implement the ELBO, we would also need the following expectation that is not\n",
    "    # implemented in scipy.stats\n",
    "    #E_log_prec = np.log(q_prec_param[1]) + scipy.special.digamma(q_prec_param[0])\n",
    "    \n",
    "    # Update the parameters\n",
    "    q_u_param[1] = prior_beta_u + N*E_v\n",
    "    q_u = stats.gamma(q_u_param[0], scale=1./q_u_param[1])\n",
    "    \n",
    "    ### Update q_v\n",
    "    # Compute required expectations\n",
    "    E_u = q_u.mean()\n",
    "    \n",
    "    # Update the parameters\n",
    "    q_v_param[1] = prior_beta_v + N*E_u\n",
    "    q_v = stats.gamma(q_v_param[0], scale=1./q_v_param[1])\n",
    "\n",
    "    \n",
    "print(q_u_param)\n",
    "print(q_v_param)\n",
    "ugrid = np.arange(0.2,20,0.05)\n",
    "vgrid = np.arange(-1,4,0.05)\n",
    "uset, vset = np.meshgrid(ugrid, vgrid)\n",
    "\n",
    "# For the plotting you can get the density with something like the following, assuming your q_u and q_v are common distributions\n",
    "pdf_VI = (q_u.pdf(uset)*q_v.pdf(vset)).reshape(uset.shape)\n",
    "\n",
    "# Density values at the grid points\n",
    "ugrid_lap = np.arange(2,13,0.05)\n",
    "vgrid_lap = np.arange(0.2,3.5,0.05)\n",
    "uset_lap, vset_lap = np.meshgrid(ugrid_lap, vgrid_lap)\n",
    "uv = np.column_stack([uset_lap.flat, vset_lap.flat])\n",
    "pdf_laplace = stats.multivariate_normal(np.array([theo_uhat,theo_vhat]), torch.inverse(precision)).pdf(uv).reshape(uset_lap.shape)\n",
    "\n",
    "# # Add some Gibbs samples on top to compare\n",
    "gibbs_samples = Gibbs(x, [3.0, 0.5], 2500)\n",
    "plt.plot(gibbs_samples[500:,0], gibbs_samples[500:,1], '.', alpha=0.2)\n",
    "\n",
    "# # Then plot the countours \n",
    "_ = plt.contour(uset_lap, vset_lap, pdf_laplace, levels=6, cmap=\"binary\")\n",
    "\n",
    "# # Then plot the countours\n",
    "_ = plt.contour(uset, vset, pdf_VI, levels=10, cmap=\"viridis\")"
   ]
  },
  {
   "cell_type": "markdown",
   "metadata": {},
   "source": [
    "## Comparison\n",
    "As we can see, the approximation using variational inference is putting the majority of its mass in a very restricted region. There are two main reasons that our approximation is considerably off from our target: the mean-field approximation and properties from the KL divergence. The mean-field approximation makes it so that we can't really represent correlation, so we can't \"twist\" our approximation as we did with the Laplace approximation, whereas the KL divergence heavily penalizes distributions that are non-zero when the original distribution is close to zero, which means that our approximation can't \"go wide\" to cover more of the original distribution. Both of these reasons heavily restrict our approximation, which results in a distribution that isn't able to capture the geometry of the original distribution very well (as we can see comparing the distribution contour, in viridis colormap, with the Gibbs samples and the Laplace approximation, in binary colormap). In particular, the tails would be extremely hard to represent well with our variational inference with the mean-field approximation.\n",
    "\n",
    "Nevertheless, if we wish to get an approximation that represents a good proportion of the mass of the original distribution, the mean-field approximation gives a very easy algorithm to implement to give such an approximation. Depending on our use-case it may be fine to use such a model, but in this low-dimensional and highly correlated distribution it is not the best."
   ]
  },
  {
   "cell_type": "markdown",
   "metadata": {},
   "source": [
    "# Problem 3: Variational approximation for mixture models"
   ]
  },
  {
   "cell_type": "markdown",
   "metadata": {},
   "source": [
    "Your task is to derive and implement CAVI algorithm for a mixture of univariate Gaussians. Section 28.2.1 in Murphy's book explains the model briefly and Section 10.2.6 covers variational inference for a more general (multivariate) mixture model. Start by reading these sections.\n",
    "\n",
    "The model is defined as\n",
    "\\begin{align*}\n",
    "p(\\boldsymbol{\\pi}|\\alpha) &= \\text{Dirichlet}(\\alpha)\\\\\n",
    "p(\\mu_k|\\tau_0) &= \\mathcal{N}(0, \\tau_0)\\\\\n",
    "p(\\tau_{k}|\\alpha_0, \\beta_0) &= \\text{Gamma}(\\alpha_0, \\beta_0)\\\\\n",
    "p(z_n|\\boldsymbol{\\pi}) &= \\text{Categorical}(\\boldsymbol{\\pi})\\\\\n",
    "p(x_{n}|\\{\\mu\\},\\{\\tau\\}, z_n) &= \\mathcal{N}(\\mu_{z_n},\\tau_{z_n})\n",
    "\\end{align*}\n",
    "where $\\tau$ is precision. The notation $\\mu_{z_n}$ on the last row indicates we use the mean of the $z_n$:th cluster. The joint likelihood and the conditional distributions needed for a Gibbs sampler are provided below as a starting point to make derivation of variational updates easier. \n",
    "\n",
    "If we write the joint likelihood of cluster allocations and data as\n",
    "\\begin{align*}\n",
    "p(x_n,z_n|\\dots) = \\left (\\prod_k p(z_n|\\boldsymbol{\\pi})   p(x_n|\\mu_{k},\\tau_{k}) \\right )^{I[z_n=k]},\n",
    "\\end{align*}\n",
    "\n",
    "we get a nice expression for the log-density as\n",
    "\n",
    "\\begin{align*}\n",
    "\\log \n",
    "& \\left [ \\prod_n \\prod_k \\left ( p(z_n|\\boldsymbol{\\pi}) p(x_{n}|\\mu_{z_n},\\tau_{z_n})\\right )^{I[z_n=k]} \\right ]\n",
    "\\left [ \\prod_k p(\\mu_k)p(\\tau_k) \\right ]\n",
    "p(\\boldsymbol{\\pi})\\\\\n",
    "= &\n",
    "\\sum_n \\sum_k  \\mathbb{I}[z_n=k] \\left [ \\log \\pi_k + \\left ( -\\frac{1}{2} \\log (2\\pi) + \\frac{1}{2} \\log \\tau_{d} - \\frac{1}{2} \\tau_{d} (x_{d} - \\mu_{d})^2 \\right ) \\right ]\\\\\n",
    "&+ \n",
    "\\sum_k \\left ( -\\frac{1}{2}\\log (2\\pi) + \\frac{1}{2}\\log \\tau_0 - \\frac{1}{2} \\tau_0 \\mu_{k}^2 +  \\alpha_0 \\log (\\beta_0) - \\Gamma(\\alpha_0) + (\\alpha_0-1) \\log (\\tau_{k}) - \\beta_0 \\tau_{k} \\right )\\\\\n",
    "&+\n",
    "\\sum_k (\\alpha-1) \\log \\pi_k - \\log B(\\alpha).\n",
    "\\end{align*}\n",
    "Note that $\\pi$ in $\\log (2\\pi)$ is the mathematical constant, not the parameter.\n",
    "\n",
    "Simple algebraic manipulation of the joint density gives the conditional distributions:\n",
    "\\begin{align*}\n",
    "p(\\pi|\\boldsymbol{z},\\alpha) &= \\text{Dirichlet}\\left(\\alpha + \\sum_k I[z_n=k]\\right) = \\text{Dirichlet}(\\alpha + N_k),\\\\\n",
    "p(\\tau_k|\\dots) &= \\text{Gamma}\\left(\\alpha_0 + \\frac{1}{2}N_k, \\beta_0 + \\frac{1}{2} \\sum_n \\mathbb{I}(z_n=k) (x_{n} - \\mu_{k})^2 \\right),\\\\\n",
    "p(\\mu_{k}|\\dots) &= \\mathcal{N} \\left( \\frac{\\tau_k \\sum_n I[z_n=k] x_{n}}{\\tau_0 + N_k \\tau_k}, \\tau_0 + N_k\\tau_k \\right),\\\\\n",
    "p(z_n=k|x_n,\\dots) &=  \\frac{e^{\\nu_{nk}}}{\\sum_j e^{\\nu_{nj}}}\n",
    "\\end{align*}\n",
    "where \n",
    "\\begin{align*}\n",
    "\\nu_{nk} = \n",
    " \\log p(z_n=k|x_n,\\dots) \\propto \\log \\pi_k + \\left ( -\\frac{1}{2} \\log (2\\pi) + \\frac{1}{2} \\log \\tau_{k} - \\frac{1}{2} \\tau_{k} (x_{n} - \\mu_{k})^2 \\right ) \n",
    "\\end{align*}\n",
    "and $N_k$ is always the number of samples currently allocated for each cluster. In most cases these conditionals follow directly from the simple Gaussian model we covered in the lectures, but now we just need to consider only the samples that belong to this cluster. Note that each sample is always allocated to a single cluster determined by $z_n$, but the allocation naturally changes during the sampling.\n"
   ]
  },
  {
   "cell_type": "markdown",
   "metadata": {},
   "source": [
    "Below is a snippet of code that samples data from this model and visualizes it with histograms. The left plot has separate histogram for the samples of each cluster, whereas the right one shows the full data histogram. In real use cases we naturally do not know the true $z_n$ so we could not draw the left plot."
   ]
  },
  {
   "cell_type": "code",
   "execution_count": 4,
   "metadata": {},
   "outputs": [
    {
     "data": {
      "image/png": "[encoded data removed]",
      "text/plain": [
       "<Figure size 432x288 with 2 Axes>"
      ]
     },
     "metadata": {
      "needs_background": "light"
     },
     "output_type": "display_data"
    }
   ],
   "source": [
    "import numpy as np\n",
    "import scipy.stats as stats\n",
    "import matplotlib.pyplot as plt\n",
    "\n",
    "np.random.seed(7879)\n",
    "\n",
    "# Define the model\n",
    "# This time we specify the model parameters directly rather than sampling from the prior,\n",
    "# to avoid e.g. two clusters with almost identical means.\n",
    "K = 3\n",
    "pi_true = np.array([0.35, 0.2, 0.45])\n",
    "mu_true = np.array([0., -1.5, 1.5])\n",
    "tau_true = np.array([1., 5., 5.])\n",
    "\n",
    "# Sample data\n",
    "N = 500\n",
    "x = np.zeros((N,))\n",
    "z_true = stats.multinomial(1,pi_true).rvs(N) # one-hot-encoding for easier implementation\n",
    "colors = ['r','g','b']\n",
    "plt.subplot(1,2,1)\n",
    "for k in range(3):\n",
    "    x[z_true[:,k]==1] = stats.norm(mu_true[k], 1./np.sqrt(tau_true[k])).rvs(sum(z_true[:,k]))\n",
    "    plt.hist(x[z_true[:,k]==1], color=colors[k], bins=np.linspace(-4.,4.,50))\n",
    "plt.subplot(1,2,2)\n",
    "_ = plt.hist(x,bins=np.linspace(-4.,4.,50))\n"
   ]
  },
  {
   "cell_type": "markdown",
   "metadata": {},
   "source": [
    "Your task is to derive and implement mean-field VI for this model, using the approximation\n",
    "\\begin{align*}\n",
    "q(\\boldsymbol z, \\boldsymbol{\\pi}, \\boldsymbol \\tau, \\boldsymbol \\mu) =  \\prod_n \\left [ q(z_n|\\boldsymbol \\xi_n) \\right ] q(\\boldsymbol{\\pi}|\\boldsymbol{\\eta}) \\prod_k \\left [ q(\\tau_k|a_k,b_k) q(\\mu_k|m_k, t_k) \\right ]\n",
    "\\end{align*}\n",
    "Here $q(z)$ are categorical, $q(\\pi)$ is Dirichlet, $q(\\tau)$ are gamma, and $q(\\mu)$ are normal. Note that we have $N$ copies of $q(z)$, one for each sample, and $K$ copies of $q(\\mu)$ and $q(\\tau)$, one for each cluster.\n",
    "\n",
    "1. **Derive the update rules for all approximation terms**. Start from the conditional distributions provided above and proceed in the same way as in the 2nd problem. Note that Murphy's book gives the correct updates for a more general mixture model in Section 10.2.6. You can follow those derivations but remember that our model is a bit simpler.\n",
    "\n",
    "2. **Implement the CAVI algorithm** and run it on the synthetic data generated above. The code snippet below already defines the approximations and provides one example of how to initialize the approximation terms.\n",
    "\n",
    "3. **Analyse the results**. How does the algorithm converge? What does the posterior approximation look like?\n",
    "\n",
    "HINTS:\n",
    "1. The lecture notebook already shows code for an individual normal distribution and the recorded lecture went through the derivations. You can build on those for the updates for $q(\\mu)$ and $q(\\tau)$.\n",
    "2. In Gibbs sampler the equations for $\\mu_k$ and $\\tau_k$ sum over the samples currently allocated into this cluster (that is, $z_n=k$). Now we have a distribution $q(z_n)$ instead, which can be interpreted as soft memberships. In practice, we always sum over all samples when updating the approximation term for any cluster, but the data points belong to each cluster only partially (and often $q(z_n==k) \\approx 0$ for many $k$).\n",
    "3. For updating $q(z)$ you again need the log-sum-exp trick to avoid underflows\n",
    "4. You will need some non-trivial expectations (in particular, expectation of log of a specific random variable). You should easily find an expression for that with google."
   ]
  },
  {
   "cell_type": "code",
   "execution_count": null,
   "metadata": {},
   "outputs": [],
   "source": [
    "# Hyperparameters (you can use these values or some others if you wish)\n",
    "nIter = 100\n",
    "K = 3\n",
    "alpha = 1.\n",
    "alpha0 = 0.5\n",
    "beta0 = 0.5\n",
    "tau0 = 0.5\n",
    "\n",
    "# Define and initialize approximation\n",
    "nu = np.full(K, N/K)              # Equal probability for all clusters in the beginning\n",
    "\n",
    "xi = stats.dirichlet(nu).rvs(N)   # Each row of xi needs to sum up to one\n",
    "\n",
    "a = np.full((K,), 1.)             # We don't care too much about initial precisions but avoid very large values\n",
    "b = np.full((K,), 5.)\n",
    "\n",
    "m = stats.norm(0., 1.).rvs((K,))  # Need to start with different ones to break symmetry\n",
    "t = np.full((K,), 5.)             # Some uncertainty in beginning\n",
    "\n",
    "# Now you can define the distributions with something like\n",
    "# q_tau = stats.gamma(a,b)\n",
    "# which enables querying most of the needed expectations with expressions like q_tau.mean()\n",
    "# Alternatively, you can just directly compute the expectations; mean(q_tau) = a/b etc.\n",
    "\n",
    "# Might be a good idea to store the parameters after each iteration, to monitor the convergence\n",
    "# However, you might not want to store the biggest matrices (xi).\n",
    "for i in range(nIter):\n",
    "    # Update q(z)\n",
    "    for n in range(N):\n",
    "        xi[n,:] = ...\n",
    "    \n",
    "    # Update q(pi)\n",
    "    nu = ...\n",
    "        \n",
    "    # Update cluster parameters\n",
    "    for k in range(K):\n",
    "        # Precision\n",
    "        a[k] = ...\n",
    "        b[k] = ...\n",
    "        \n",
    "        # Mean\n",
    "        t[k] = ...\n",
    "        m[k] = ...\n",
    "        \n",
    "    history[i,:] = np.concatenate([nu, m, t, a, b])"
   ]
  }
 ],
 "metadata": {
  "kernelspec": {
   "display_name": "Python 3 (ipykernel)",
   "language": "python",
   "name": "python3"
  },
  "language_info": {
   "codemirror_mode": {
    "name": "ipython",
    "version": 3
   },
   "file_extension": ".py",
   "mimetype": "text/x-python",
   "name": "python",
   "nbconvert_exporter": "python",
   "pygments_lexer": "ipython3",
   "version": "3.10.6"
  }
 },
 "nbformat": 4,
 "nbformat_minor": 4
}
