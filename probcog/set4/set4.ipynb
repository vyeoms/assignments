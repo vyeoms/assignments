{
 "cells": [
  {
   "cell_type": "markdown",
   "metadata": {},
   "source": [
    "University of Helsinki, Master's Programme in Data Science  \n",
    "DATA20047 Probabilistic Cognitive Modelling - Spring 2023  \n",
    "Luigi Acerbi  \n",
    "\n",
    "# Problem Set 4: Combining inference with utility, and everything\n",
    "\n",
    "- This homework problem set focuses on **Week 7** of the course, plus a recap of everything we have done in the course.\n",
    "- This problem set is worth **30 points** in total (out of 100 for the full course).\n",
    "- Check the submission deadline on Moodle! **Note that the deadline is at noon.**\n",
    "\n",
    "\n",
    "## Submission instructions\n",
    "\n",
    "Submission must be perfomed entirely on Moodle (**not** by email).\n",
    "1. When you have completed the exercises, save the notebook.\n",
    "2. Report your solutions and answers on Moodle (\"*Problem set 4 answer return*\").\n",
    "3. Submit two files on Moodle (\"*Problem set 4 notebook return*\"): \n",
    "  - The notebook as `.ipynb`.\n",
    "  - The same notebook downloaded as `.pdf` (there are various ways to save the file as PDF, the most general is \"File\" > \"Print Preview\" and then print the page to PDF using your browser - remember to enter the Print Preview first).\n",
    "\n",
    "## IMPORTANT\n",
    "\n",
    "1. Do not share your code and answers with others. Contrary to the class exercises, which you can do with others, these problems are *not* group work and must be done individually.\n",
    "2. It is allowed to use snippets of code from the lecture exercises and model solutions.\n",
    "3. It is your responsibility to ensure that the notebook has fully finished running all the cells, all the plots view properly etc. before submitting it. However, the notebook should be runnable from scratch if needed (\"Kernel > Restart & Run All\").\n",
    "4. Submit your work by the deadline.\n",
    "5. Unless stated otherwise, please report your numerical answers in Moodle with full numerical precision (~14-15 digits), unless the answer is an integer.\n",
    "6. If you are confused, think there is a mistake or find things too difficult, please ask on Moodle.\n",
    "\n",
    "## References\n",
    "\n",
    "- \\[**MKG22**\\] Ma WJ, Körding K, and Goldreich D. \"Bayesian Models of Perception and Action: An Introduction\". MIT Press, 2022.\n",
    "- \\[**AWV12**\\] Acerbi L, Wolpert DM, Vijayakumar S. \"Internal Representations of Temporal Statistics and Feedback Calibrate Motor-Sensory Interval Timing\". *PLoS Computational Biology*, 2012. [Link](https://journals.plos.org/ploscompbiol/article?id=10.1371/journal.pcbi.1002771)"
   ]
  },
  {
   "cell_type": "code",
   "execution_count": 1,
   "metadata": {},
   "outputs": [],
   "source": [
    "# set-up -- do not change\n",
    "import numpy as np\n",
    "import numpy.random as npr\n",
    "import scipy as sp\n",
    "import scipy.stats as sps\n",
    "import pandas as pd\n",
    "import matplotlib.pyplot as plt\n",
    "npr.seed(1)"
   ]
  },
  {
   "cell_type": "markdown",
   "metadata": {},
   "source": [
    "# Question 4.1 (6 pts)\n",
    "\n",
    "> In this question, we will look at the optimal aim location when playing a modified game of darts.\n",
    "\n",
    "Assume you are playing a game of darts, that is you need to throw a dart at a target a couple of meters away from you. For simplicity, we assume this is a modified version of the game in which the target board comprises of a series of vertical bands, so that only the horizontal landing location of the dart matters. Landing the dart on each different sector is associated with a different score.\n",
    "\n",
    "We measure horizontal location starting from the center of the dart board ($0$ cm), with negative numbers meaning a position to the left of the center and positive numbers a position to the right of the center. We ignore the vertical position, assuming the bands are tall enough to be easy to hit on the vertical axis.\n",
    "\n",
    "The sectors are characterized by their bounds on the board (start and end location) and their score, as follows:\n",
    "\n",
    "- -25 to -15 cm: 15 points.\n",
    "- -15 to -5 cm: 10 points.\n",
    "- -5 to 5 cm: 20 points.\n",
    "- 5 to 15 cm: 5 points.\n",
    "- 15 to 25 cm: 25 points.\n",
    "\n",
    "If the dart lands outside the board, you would get 0 points.\n",
    "\n",
    "Given the aim location $\\hat{s}$, we assume that due to motor noise, the actual *hit* location $r$ (where the dart actually lands) is distributed as follows:\n",
    "$$\n",
    "p(r|\\hat{s}) = (1-\\lambda) \\mathcal{N}\\left(r; \\hat{s},\\sigma^2_\\text{motor}\\right) + \\lambda \\mathcal{N}\\left(r; \\hat{s},\\sigma^2_\\text{lapse}\\right),\n",
    "$$\n",
    "where $\\sigma_\\text{motor}$ is the standard spread location due to motor error and throwing variability. The novelty of this equation is that we also consider a probability $\\lambda \\in [0, 1]$ of lapsing (e.g., sneezing or being distracted by a friend while throwing), which produces a bad throw with a larger error $\\sigma_\\text{lapse}$. For this exercise, we assume $\\sigma_\\text{lapse} = 20$ cm.\n",
    "\n",
    "Write a function that computes the expected score as a function of aim location $\\hat{s}$ and task parameters $\\left(\\sigma_\\text{motor}, \\lambda, \\sigma_\\text{lapse}\\right)$. Then, write a function that for given task parameters $\\left(\\sigma_\\text{motor}, \\lambda, \\sigma_\\text{lapse}\\right)$, returns the optimal aim location $s^\\star$ (the aim point which produces the maximum expected score).\n",
    "\n",
    "- a) For $\\sigma_\\text{motor} \\in [2, 10]$ cm and $\\lambda \\in [0, 0.2]$, what are the rightmost (maximum) and leftmost (minimum) locations for $s^\\star$?\n",
    "- b) For $\\lambda = 0.1$, plot $s^\\star$ as a function of $\\sigma_\\text{motor}$, for $\\sigma_\\text{motor} \\in [2, 10]$ cm. You should see an interesting switch of optimal strategy. Around which value of $\\sigma_\\text{motor}$ the optimal strategy switches and it becomes more convenient to throw the dart to the left of the center as opposed to the right of the center?"
   ]
  },
  {
   "cell_type": "code",
   "execution_count": 2,
   "metadata": {},
   "outputs": [
    {
     "data": {
      "image/png": "[encoded data removed]",
      "text/plain": [
       "<Figure size 432x288 with 1 Axes>"
      ]
     },
     "metadata": {
      "needs_background": "light"
     },
     "output_type": "display_data"
    }
   ],
   "source": [
    "bands = [-np.inf,-25,-15,-5,5,15,25,np.inf]\n",
    "scores = [0,15,10,20,5,25,0]\n",
    "\n",
    "# Plot target score\n",
    "\n",
    "s = np.linspace(-30,30,200)\n",
    "for index, band in enumerate(scores):\n",
    "    a = np.maximum(bands[index], -40)\n",
    "    b = np.minimum(bands[index+1], 40)\n",
    "    plt.plot((a,a,b,b),np.array((0,scores[index],scores[index],0)))\n",
    "\n",
    "plt.xlabel('r (cm)')\n",
    "plt.ylabel('score (points)')\n",
    "plt.title('Target score based on landing point')\n",
    "plt.show()"
   ]
  },
  {
   "cell_type": "markdown",
   "metadata": {},
   "source": [
    "## Part A"
   ]
  },
  {
   "cell_type": "code",
   "execution_count": 20,
   "metadata": {},
   "outputs": [
    {
     "name": "stdout",
     "output_type": "stream",
     "text": [
      "leftmost: -1.9921875\n",
      "rightmost: 19.921875\n"
     ]
    }
   ],
   "source": [
    "def expected_utility(a, lapse_rate, sigma_motor, sigma_lapse=20, scores=scores):\n",
    "    \"\"\"Expected loss.\"\"\"\n",
    "    eutil = 0.\n",
    "    for i in range(1, 6):\n",
    "        eutil += ((1-lapse_rate)*sps.norm.cdf(bands[i+1], a, sigma_motor) + lapse_rate*sps.norm.cdf(bands[i+1], a, sigma_lapse) \\\n",
    "              - (1-lapse_rate)*sps.norm.cdf(bands[i], a, sigma_motor) - lapse_rate*sps.norm.cdf(bands[i], a, sigma_lapse))*scores[i]\n",
    "    return eutil\n",
    "\n",
    "def optimal_action(lapse_rate, sigma_motor):\n",
    "    \"\"\"Optimal action computation.\"\"\"\n",
    "    Na = 2**9+1\n",
    "    a = np.linspace(-30., 30., Na).reshape((Na, 1, 1))\n",
    "    eutil = expected_utility(a, lapse_rate, sigma_motor)\n",
    "    a_star = a[np.argmax(eutil, axis=0)]\n",
    "    return a_star\n",
    "\n",
    "N = 2**9+1\n",
    "sigma_grid = np.linspace(2, 10, N).reshape((1, N, 1))\n",
    "lapse_grid = np.linspace(0, 0.2, N).reshape((1, 1, N))\n",
    "\n",
    "a_star = optimal_action(lapse_grid, sigma_grid)\n",
    "\n",
    "print(\"leftmost:\", np.min(a_star))\n",
    "print(\"rightmost:\", np.max(a_star))"
   ]
  },
  {
   "cell_type": "markdown",
   "metadata": {},
   "source": [
    "## Part B"
   ]
  },
  {
   "cell_type": "code",
   "execution_count": 21,
   "metadata": {},
   "outputs": [
    {
     "data": {
      "image/png": "[encoded data removed]",
      "text/plain": [
       "<Figure size 432x288 with 1 Axes>"
      ]
     },
     "metadata": {
      "needs_background": "light"
     },
     "output_type": "display_data"
    },
    {
     "name": "stdout",
     "output_type": "stream",
     "text": [
      "7.140625\n"
     ]
    }
   ],
   "source": [
    "s_star = optimal_action(0.1, sigma_grid)\n",
    "\n",
    "plt.plot( sigma_grid.flatten(), s_star.flatten(), label=\"$s^*$ as a function of $\\sigma_{\\text{motor}}$\" )\n",
    "plt.xlabel( \"$\\sigma_{\\text{motor}}$\" )\n",
    "plt.ylabel( \"$s^*$\" )\n",
    "plt.legend()\n",
    "plt.show()\n",
    "\n",
    "print(sigma_grid.flatten()[s_star.flatten() <= 0][0])"
   ]
  },
  {
   "cell_type": "markdown",
   "metadata": {},
   "source": [
    "# Question 4.2 (6 pts)\n",
    "\n",
    "> In this question, we will infer the empirical loss function of an observer in a task based on their responses.\n",
    "\n",
    "In each trial of this experiment, the participant is shown a cloud of dots on a screen. The horizontal location of each dot is drawn from the following mixture distribution:\n",
    "  $$\n",
    "  p(s; h) = 0.8 \\mathcal{N}\\left(s; 0, 0.2^2\\right) + 0.2 \\mathcal{N}\\left(s; h, 0.2^2\\right)\n",
    "  $$\n",
    "  where $h$ is a parameter controlled by the experimenter, and is changed from trial to trial. The horizontal location is measured in normalized screen units $s \\in [-1, 1]$, where $0$ is the center of the screen. \n",
    "- Along the vertical axis, the dots show a small jitter along the center of the screen (we ignore the vertical displacement).\n",
    "- In each trial, the subject is asked to report the horizontal position of the *center* of the cloud of dots. The word \"center\" is ambiguous, as we could be asking for the mean, the median, or other [measures of central tendency](https://en.wikipedia.org/wiki/Central_tendency). The question is what the subject would naturally report. We assume the subject reports the estimate $\\hat{s}$ that minimizes their expected loss. \n",
    "- For the purpose of this question, we also assume that the observer's loss function takes the parametric form\n",
    "  $$\n",
    "  \\mathcal{L}_\\alpha\\left(s^\\prime, s \\right) = \\left| s^\\prime - s \\right|^\\alpha\n",
    "  $$\n",
    "  which is the loss for reporting $s^\\prime$ for a dot position $s$. \n",
    "- In each trial, the expected loss is the expectation of the loss over the presented dot locations, $p(s; h)$.\n",
    "- A sequence of trials is thus represented by the trial design (the presented distribution of dots, parameterized by $h_t$) and the observer's responses $\\hat{s}_t$ in each trial $t$.\n",
    "- For simplicity, here we assume that there is no response noise.\n",
    "\n",
    "Given the data reported below, infer the exponent $\\alpha \\ge 0$ of the loss function that best describes the subject behavior. Do so by finding the $\\alpha$ that minimizes the squared error between the model prediction (assuming the observer follows Bayesian decision theory) and the data. Report the best estimate for $\\alpha$ in Moodle (error tolerance $\\pm 0.1$).\n",
    "\n",
    "*Notes*: \n",
    "- Assume that the horizontal location $s \\in [-1, 1]$ (i.e., within the width of the screen).\n",
    "- In real data, the observer's responses would be corrupted by decision and motor noise, which would make inferring the loss function still more complex. For example, it would be better to use Bayesian inference to infer a posterior over $\\alpha$, as opposed to a point estimate. Still, the logic would be the same."
   ]
  },
  {
   "cell_type": "code",
   "execution_count": 2,
   "metadata": {},
   "outputs": [],
   "source": [
    "# Trial parameters h_t and subject's responses s_hat_t\n",
    "\n",
    "h_t = np.array([-0.0663824 ,  0.17625959, -0.3999085 , -0.15813394, -0.28259529,\n",
    "       -0.32612912, -0.25099183, -0.12355142, -0.08258602,  0.03105339,\n",
    "       -0.06464439,  0.1481756 , -0.2364382 ,  0.30249395, -0.37808993,\n",
    "        0.13637401, -0.06615616,  0.04695186, -0.28769045, -0.24151881])\n",
    "s_hat_t = np.array([-0.0125   ,  0.034375 , -0.0734375, -0.03125  , -0.0546875,\n",
    "       -0.0609375, -0.0484375, -0.025    , -0.0171875,  0.00625  ,\n",
    "       -0.0125   ,  0.0296875, -0.0453125,  0.0578125, -0.0703125,\n",
    "        0.0265625, -0.0125   ,  0.009375 , -0.0546875, -0.046875 ])"
   ]
  },
  {
   "cell_type": "code",
   "execution_count": 3,
   "metadata": {},
   "outputs": [],
   "source": [
    "def loss_fn(s_prime, s, alpha):\n",
    "    return np.power(np.abs(s_prime - s), alpha)\n",
    "\n",
    "h_t = h_t.reshape((1, 1, h_t.size))\n",
    "\n",
    "def model_estimate(h, alpha, N=2**9+1):\n",
    "    s_grid = np.linspace(-1, 1, N).reshape((1, N, 1))\n",
    "    s_prime_grid = np.linspace(-1, 1, N).reshape((N, 1, 1))\n",
    "    ds = s_grid.flatten()[1] - s_grid.flatten()[0]\n",
    "    \n",
    "    trial_pdf = 0.8*sps.norm.pdf(s_grid, 0, 0.2) + 0.2*sps.norm.pdf(s_grid, h, 0.2)\n",
    "    loss = loss_fn(s_prime_grid, s_grid, alpha)\n",
    "    eloss = sp.integrate.romb(trial_pdf*loss, dx=ds, axis=1)\n",
    "    return s_prime_grid[np.argmin(eloss, axis=0)]\n",
    "\n",
    "N = 2**9+1\n",
    "\n",
    "alpha_grid = np.linspace(0., 2., N)\n",
    "\n",
    "sq_err = np.array([np.sum((model_estimate(h_t, alpha).flatten() - s_hat_t)**2) for alpha in alpha_grid])\n",
    "\n",
    "alpha_star = alpha_grid[np.argmin(sq_err)]"
   ]
  },
  {
   "cell_type": "code",
   "execution_count": 4,
   "metadata": {},
   "outputs": [
    {
     "name": "stdout",
     "output_type": "stream",
     "text": [
      "1.73828125\n"
     ]
    }
   ],
   "source": [
    "print(alpha_star)"
   ]
  },
  {
   "cell_type": "markdown",
   "metadata": {},
   "source": [
    "# Question 4.3 (18 pts)\n",
    "\n",
    "> For this question, which amounts to a small modelling and model fitting project, we will put together several topics seen in the course. Using the data of the sensorimotor timing experiment \\[**AWV12**\\] that we encountered several times in this course, we will use a Bayesian observer model to recover the observer's prior from their responses.\n",
    "\n",
    "We analyze the data with the `gaussianmixobserverwithlapse` model, defines as follows:\n",
    "\n",
    "- We assume the observer builds a (mismatched) Gaussian prior with two components:\n",
    "  $$p(s) = w_\\text{prior} \\mathcal{N}\\left(s| \\mu_{\\text{prior}}, \\sigma_{\\text{prior}, 1}^2 \\right) + \n",
    "  \\left(1 - w_\\text{prior} \\right)\\mathcal{N}\\left(s| \\mu_{\\text{prior}}, \\sigma_{\\text{prior}, 2}^2 \\right)$$ \n",
    "  over the stimuli (time intervals). We assume the two components have the same mean $\\mu_\\text{prior}$, but different weights ($w_\\text{prior}$ and $1 - w_\\text{prior}$) and standard deviations ($\\sigma_{\\text{prior}, 1}$ and $\\sigma_{\\text{prior}, 2}$).\n",
    "- We assume that the measurement distribution and likelihood are also Gaussian, $p(x|s) = \\mathcal{N}\\left(x| s, \\sigma^2 \\right)$.\n",
    "- The observer uses the *posterior mean* estimator for the value of the stimulus, $\\hat{s}_\\text{PM}$.\n",
    "- Gaussian motor response noise is added to the estimate, $p(r|\\hat{s}) = \\mathcal{N}\\left(r| \\hat{s}, \\sigma_\\text{motor}^2 \\right)$. For this exercise, we assume that $\\sigma_\\text{motor} = 70$ ms for all subjects.\n",
    "- In each trial, the observer lapses with probability $\\lambda$ (the *lapse rate*), in which case the response is drawn from $p_\\text{lapse}(r) = \\text{Uniform}\\left(r; 0, 1500 \\right)$ ms. Otherwise, the observer responds normally (according to $p(r|\\hat{s})$ described above) with probability $1 - \\lambda$. \n",
    "- The free parameters of this model are $\\mathbf{\\theta} = \\left(\\sigma, \\lambda, w_\\text{prior}, \\mu_\\text{prior}, \\sigma_{\\text{prior}, 1}, \\sigma_{\\text{prior}, 2} \\right)$.\n",
    "\n",
    "Note that the parameters $w_\\text{prior}, \\mu_\\text{prior}, \\sigma_{\\text{prior}, 1}, \\sigma_{\\text{prior,2}}$ model the subject's prior. In other words, we can use the estimates of these parameters to visualize what the subject's prior might look like.\n",
    "\n",
    "-----------------------------------------------\n",
    "\n",
    "For this analysis, we will separately consider all subjects, but for all subjects' datasets we will discard the first session, to ensure that subjects have achieved enough training in the task. We provide below example code that retrieves the stimuli $\\mathbf{s}$ and responses $\\mathbf{r}$ for a subject, withouth the first session.\n",
    "\n",
    "- a) As a sanity check, compute the log-likelihood of model parameter $\\theta_\\star = \\left(\\sigma = 100, \\lambda = 0.01, w_\\text{prior} = 0.5, \\mu_\\text{prior} = 787, \\sigma_{\\text{prior}, 1} = 100, \\sigma_{\\text{prior}, 2} = 120 \\right)$ for the dataset of subject 5 (having removed the first session) and report the result in Moodle.\n",
    "- b) Separately fit the `gaussianmixobserverwithlapse` model to all the six subjects' datasets (removing the first session from all data) via maximum-likelihood estimation. For each subject, report the maximum log-likelihood value in Moodle.\n",
    "- c) Consider now the `idealgaussianobserverwithlapse` observer model. The `idealgaussianobserverwithlapse` is the same as the model above with the difference that the observer's prior is a single Gaussian $p(s) = \\mathcal{N}\\left(s | \\mu_\\text{prior}, \\sigma^2_\\text{prior} \\right)$ with $\\mu_\\text{prior} = 787.5$ ms and $\\sigma_{\\text{prior}} = 128.1$ ms. As above, we fix $\\sigma_\\text{motor} = 70$ ms. The `idealgaussianobserverwithlapse`  model has two free parameters, $\\theta = \\left(\\sigma, \\lambda \\right)$. As a sanity check, compute the log-likelihood of model parameter $\\theta_\\star = \\left(\\sigma = 100, \\lambda = 0.01\\right)$ for the dataset of subject 5 (having removed the first session) and report the result in Moodle.\n",
    "- d) Separately fit the `idealgaussianobserverwithlapse` model to all the six subjects' datasets (removing the first session from all data) via maximum-likelihood estimation.  For each dataset, separately compute the AIC and BIC for the two models `gaussianmixobserverwithlapse` and `idealgaussianobserverwithlapse`. Sum the AIC and BIC values across subjects to find the sum AIC (or BIC) of the two models. Report the summed AIC (and BIC) for the two models separately in Moodle.\n",
    "- e) Which model is best, according to the metrics, and why do you think it is the case? Discuss your findings (max 300 words).\n",
    "\n",
    "*Hints*:\n",
    "- Both in parts (a) and (c), the log-likelihoods that you find should be between $-6000$ and $-5800$.\n",
    "- There is an analytical solution for the posterior (and $\\hat{s}_\\text{PM}$), but there is no analytical solution for the response distribution $p(r|s)$, so you will need to use numerical integration at least to compute the response distribution.\n",
    "- Finding the maximum-likelihood solution can be difficult as the optimization landscape is nontrivial. As a sanity check, verify that your solutions are consistent across different runs. If not, you might need to run additional optimization runs to increase the chance of finding the global optimum - possibly of the order of ten or even more.\n",
    "- Beware that running multiple optimizations for all subjects will take quite some time (easily 30-60 minutes overall, possibly more - depending on your code, your computer, and how many runs you do). Model fitting is time consuming!\n",
    "- Remember that you can ask questions in the Moodle discussion forum if you need further hints."
   ]
  },
  {
   "cell_type": "code",
   "execution_count": 8,
   "metadata": {},
   "outputs": [],
   "source": [
    "import numpy as np\n",
    "import numpy.random as npr\n",
    "import scipy as sp\n",
    "import scipy.stats as sps\n",
    "import pandas as pd\n",
    "import matplotlib.pyplot as plt\n",
    "\n",
    "# Load data of Experiment 3 of [AWV12] from .csv file to a Pandas dataframe\n",
    "df = pd.read_csv('https://raw.githubusercontent.com/lacerbi/prob-cog-mod-files/main/data/awv12_exp3.csv')\n",
    "\n",
    "# Remove unused columns\n",
    "df.drop(df.columns[[6, 7, 8]], axis=1, inplace=True)\n",
    "\n",
    "# Remove rows with NaNs\n",
    "df.dropna(axis=0, inplace=True)\n",
    "\n",
    "# Example code to take the data of subject 1, excluding the first session\n",
    "subject = 1\n",
    "s = np.array(df['Stimulus (ms)'][(df['Subject id'] == subject) & (df['Session id'] > 1)])\n",
    "r = np.array(df['Response (ms)'][(df['Subject id'] == subject) & (df['Session id'] > 1)])\n",
    "\n",
    "sigma_motor = 70"
   ]
  },
  {
   "cell_type": "markdown",
   "metadata": {},
   "source": [
    "## Part A"
   ]
  },
  {
   "cell_type": "code",
   "execution_count": 11,
   "metadata": {},
   "outputs": [
    {
     "name": "stdout",
     "output_type": "stream",
     "text": [
      "Log-likelihood for subject 5 with theta_star: -5971.365115020627\n"
     ]
    }
   ],
   "source": [
    "# Theta is [lambda, sigma, w_prior, mu_prior, sigma_prior_1, sigma_prior_2]\n",
    "theta_star = np.array([0.01, 100, 0.5, 787, 100, 120])\n",
    "\n",
    "def compute_posterior_mean(s_grid, prior_pdf, likelihood):\n",
    "    \"\"\"Compute s_hat_PM (posterior mean) for an arbitrary prior and likelihood in 1d.\"\"\"\n",
    "    ds = s_grid.flatten()[1] - s_grid.flatten()[0] # grid spacing\n",
    "    protoposterior = prior_pdf * likelihood\n",
    "    normalization_constant = sp.integrate.romb(protoposterior, dx=ds, axis=0)\n",
    "    posterior_pdf = protoposterior / normalization_constant\n",
    "    posterior_mean = sp.integrate.romb(s_grid * posterior_pdf, dx=ds, axis=0)\n",
    "    return posterior_mean\n",
    "\n",
    "def compute_response_numeric(theta, s_experiment, Nx=2**8+1, Ns=2**8+1, Nr=2**8+1):\n",
    "    _, sigma, w_prior, mu_prior, sigma_prior_1, sigma_prior_2 = theta\n",
    "    \n",
    "    lb = mu_prior - (sigma_prior_1 + sigma_prior_2)*5\n",
    "    ub = mu_prior + (sigma_prior_1 + sigma_prior_2)*5\n",
    "    x_row = np.linspace(lb, ub, Nx).reshape((1, Nx)) # make x a row vector\n",
    "    dx = x_row.flatten()[1] - x_row.flatten()[0]\n",
    "    s_hyp_col = np.linspace(lb, ub, Ns).reshape((Ns, 1))\n",
    "    \n",
    "    prior = w_prior*sps.norm.pdf(s_hyp_col, mu_prior, sigma_prior_1) + (1-w_prior)*sps.norm.pdf(s_hyp_col, mu_prior, sigma_prior_2)\n",
    "    likelihood = sps.norm.pdf(x_row, s_hyp_col, sigma)\n",
    "    s_hat_row = compute_posterior_mean(s_hyp_col, prior, likelihood)\n",
    "    \n",
    "    r_grid = np.linspace(lb, ub, Nr).reshape((Nr, 1))\n",
    "    motor_noise = sps.norm.pdf(r_grid, s_hat_row, sigma_motor)\n",
    "    \n",
    "    s_experiment = s_experiment.reshape((s_experiment.size, 1))\n",
    "    measure_distribution = sps.norm.pdf(x_row, s_experiment, sigma)\n",
    "    measure_distribution = np.expand_dims(measure_distribution, 0)\n",
    "    motor_noise = np.expand_dims(motor_noise, 1)\n",
    "    p_response = sp.integrate.romb(motor_noise*measure_distribution, dx=dx, axis=2)\n",
    "    \n",
    "    mu_resp = sp.integrate.romb(x_row.T*p_response, dx=dx, axis=0)\n",
    "    std_resp = np.sqrt(sp.integrate.romb((x_row.T - mu_resp)**2 * p_response, dx=dx, axis=0))\n",
    "    return mu_resp, std_resp\n",
    "\n",
    "def gauss_mix_lapse_log_likelihood_numeric(theta, s_subject, r_subject):\n",
    "    # Unpack theta\n",
    "    lapse_rate, sigma, w_prior, mu_prior, sigma_prior_1, sigma_prior_2 = theta\n",
    "    \n",
    "    # log-pdf for the chance of a lapse\n",
    "    lapse_pdf = sps.uniform.logpdf(r_subject, 1e-10, 1500) + np.log(lapse_rate)\n",
    "    \n",
    "    mu_resp, sigma_resp = compute_response_numeric(theta, s_subject)\n",
    "    \n",
    "    # log-pdf of a normal response\n",
    "    loglike_vec = np.log(1-lapse_rate) + sps.norm.logpdf(r_subject,mu_resp,sigma_resp)\n",
    "    \n",
    "    # Setting up the terms for a log-sum-exp\n",
    "    terms = [loglike_vec, lapse_pdf]\n",
    "    lse_result = sp.special.logsumexp(terms, axis=0)\n",
    "    \n",
    "    return np.sum(lse_result)\n",
    "\n",
    "s = np.array(df['Stimulus (ms)'][(df['Subject id'] == 5) & (df['Session id'] > 1)])\n",
    "r = np.array(df['Response (ms)'][(df['Subject id'] == 5) & (df['Session id'] > 1)])\n",
    "\n",
    "print(\"Log-likelihood for subject 5 with theta_star:\", gauss_mix_lapse_log_likelihood_numeric(theta_star, s, r))"
   ]
  },
  {
   "cell_type": "code",
   "execution_count": 5,
   "metadata": {},
   "outputs": [],
   "source": [
    "# Theta is [lambda, sigma, w_prior, mu_prior, sigma_prior_1, sigma_prior_2]\n",
    "theta_star = np.array([0.01, 100, 0.5, 787, 100, 120])\n",
    "\n",
    "def compute_response(theta, s_experiment, Nx=2**8+1, Nr=2**8+1):\n",
    "    _, sigma, w_prior, mu_prior, sigma_prior_1, sigma_prior_2 = theta\n",
    "    \n",
    "    lb = mu_prior - (sigma_prior_1 + sigma_prior_2)*5\n",
    "    ub = mu_prior + (sigma_prior_1 + sigma_prior_2)*5\n",
    "    x_row = np.linspace(lb, ub, Nx).reshape((1,Nx)) # make x a row vector\n",
    "    dx = x_row.flatten()[1] - x_row.flatten()[0]\n",
    "    \n",
    "    w_1 = (sigma_prior_1**2) / (sigma_prior_1**2 + sigma**2)\n",
    "    w_2 = (sigma_prior_2**2) / (sigma_prior_2**2 + sigma**2)\n",
    "    mu_post_1 = w_1*x_row + (1-w_1)*mu_prior\n",
    "    mu_post_2 = w_2*x_row + (1-w_2)*mu_prior\n",
    "    s_hat_row = w_prior*mu_post_1 + (1-w_prior)*mu_post_2\n",
    "    # s_hat_row = compute_posterior_mean(x_row, theta)\n",
    "    \n",
    "    r_grid = np.linspace(lb, ub, Nr).reshape((Nr, 1))\n",
    "    motor_noise = sps.norm.pdf(r_grid, s_hat_row, sigma_motor)\n",
    "    \n",
    "    s_experiment = s_experiment.reshape((s_experiment.size, 1))\n",
    "    measure_distribution = sps.norm.pdf(x_row, s_experiment, sigma)\n",
    "    measure_distribution = np.expand_dims(measure_distribution, 0)\n",
    "    motor_noise = np.expand_dims(motor_noise, 1)\n",
    "    p_response = sp.integrate.romb(motor_noise*measure_distribution, dx=dx, axis=2)\n",
    "    \n",
    "    mu_resp = sp.integrate.romb(x_row.T*p_response, dx=dx, axis=0)\n",
    "    std_resp = np.sqrt(sp.integrate.romb((x_row.T - mu_resp)**2 * p_response, dx=dx, axis=0))\n",
    "    return mu_resp, std_resp\n",
    "\n",
    "\n",
    "def gauss_mix_lapse_log_likelihood(theta, s_subject, r_subject):\n",
    "    # Unpack theta\n",
    "    lapse_rate, sigma, w_prior, mu_prior, sigma_prior_1, sigma_prior_2 = theta\n",
    "    \n",
    "    # log-pdf for the chance of a lapse\n",
    "    lapse_pdf = sps.uniform.logpdf(r_subject, 1e-10, 1500) + np.log(lapse_rate)\n",
    "    \n",
    "    mu_resp, sigma_resp = compute_response(theta, s_subject)\n",
    "    \n",
    "    # log-pdf of a normal response\n",
    "    loglike_vec = np.log(1-lapse_rate) + sps.norm.logpdf(r_subject,mu_resp,sigma_resp)\n",
    "    \n",
    "    # Setting up the terms for a log-sum-exp\n",
    "    terms = [loglike_vec, lapse_pdf]\n",
    "    lse_result = sp.special.logsumexp(terms, axis=0)\n",
    "    \n",
    "    return np.sum(lse_result)"
   ]
  },
  {
   "cell_type": "markdown",
   "metadata": {},
   "source": [
    "## Part B"
   ]
  },
  {
   "cell_type": "code",
   "execution_count": 6,
   "metadata": {},
   "outputs": [],
   "source": [
    "def multioptimize(target_fun,lower_bounds,upper_bounds,plausible_lower_bounds,plausible_upper_bounds,num_runs=3):\n",
    "    \"\"\"Simple function for multi-start optimization.\"\"\"\n",
    "    # Run num_runs optimization runs from different starting points    \n",
    "    num_params = lower_bounds.shape[0]\n",
    "    theta_res = np.zeros((num_runs,num_params))\n",
    "    nll_res = np.zeros(num_runs)    \n",
    "    \n",
    "    for index in range(num_runs):\n",
    "        if index == 0:\n",
    "            theta0 = 0.5*(plausible_lower_bounds + plausible_upper_bounds)\n",
    "        else:\n",
    "            theta0 = np.random.uniform(low=plausible_lower_bounds,high=plausible_upper_bounds)    \n",
    "        bounds = sp.optimize.Bounds(lower_bounds,upper_bounds,True) # Set hard bounds\n",
    "        res = sp.optimize.minimize(target_fun, theta0, method='L-BFGS-B', bounds=bounds)\n",
    "        nll_res[index] = res.fun\n",
    "        theta_res[index] = res.x\n",
    "        print('Run {}: log-likelihood {}'.format(index, -res.fun))\n",
    "        \n",
    "    # Pick the best solution\n",
    "    idx_best = np.argmin(nll_res)\n",
    "    nll_best = nll_res[idx_best]\n",
    "    theta_best = theta_res[idx_best]        \n",
    "    return nll_best,theta_best\n",
    "\n",
    "def calc_aic_and_bic(s, theta_best, nll):\n",
    "    num_params = np.shape(theta_best)[0]\n",
    "    num_trials = np.shape(s)[0]\n",
    "\n",
    "    aic = 2*nll + 2*num_params\n",
    "    bic = 2*nll + num_params*np.log(num_trials)\n",
    "\n",
    "    return aic, bic\n",
    "\n",
    "def optimize_subject(subject, num_runs=3):\n",
    "    s = np.array(df['Stimulus (ms)'][(df['Subject id'] == subject) & (df['Session id'] > 1)])\n",
    "    r = np.array(df['Response (ms)'][(df['Subject id'] == subject) & (df['Session id'] > 1)])\n",
    "    target_fun = lambda theta_: -gauss_mix_lapse_log_likelihood(np.array(theta_),s,r)\n",
    "\n",
    "    # Define hard parameter bounds\n",
    "    # Theta is [lambda, sigma, w_prior, mu_prior, sigma_prior_1, sigma_prior_2]\n",
    "    lower_bounds = np.array([1e-8, 1., 0.01, 0., 1., 1.])\n",
    "    upper_bounds = np.array([0.1, 1500., 0.99, 1500., 1500., 1500.])\n",
    "\n",
    "    # Define plausible range\n",
    "    plausible_lower_bounds = np.array([0.01, np.mean(s)*0.05, 0.1, np.mean(s)*0.5, np.mean(s)*0.05, np.mean(s)*0.05])\n",
    "    plausible_upper_bounds = np.array([0.05, np.mean(s)*0.2, 0.9, np.mean(s)*1.5, np.mean(s)*0.2, np.mean(s)*0.2])\n",
    "\n",
    "    nll_best, theta_best = multioptimize(target_fun,lower_bounds,upper_bounds,plausible_lower_bounds,plausible_upper_bounds,num_runs)\n",
    "    print('The maximum-likelihood solution (dataset S{}) is theta_ML = {} with log-likelihood: {}'.format(\n",
    "        subject, theta_best, -nll_best))\n",
    "    aic, bic = calc_aic_and_bic(s, theta_best, nll_best)\n",
    "    return aic, bic"
   ]
  },
  {
   "cell_type": "code",
   "execution_count": null,
   "metadata": {},
   "outputs": [
    {
     "name": "stdout",
     "output_type": "stream",
     "text": [
      "Run 0: log-likelihood -11537.032217964135\n",
      "Run 1: log-likelihood -11519.917539437836\n",
      "Run 2: log-likelihood -11519.917156069714\n",
      "The maximum-likelihood solution (dataset S1) is theta_ML = [1.00000000e-06 3.69509896e+01 6.98978861e-01 7.92181203e+02\n",
      " 3.12466217e+01 3.26378398e+02] with log-likelihood: -11519.917156069714\n",
      "Run 0: log-likelihood -5538.421082439012\n",
      "Run 1: log-likelihood -5567.656678578438\n",
      "Run 2: log-likelihood -5573.724609103672\n",
      "The maximum-likelihood solution (dataset S2) is theta_ML = [1.00000000e-06 1.11046374e+01 5.41144357e-01 7.48875690e+02\n",
      " 2.13775942e+02 1.13001126e+01] with log-likelihood: -5538.421082439012\n",
      "Run 0: log-likelihood -6131.016349491927\n",
      "Run 1: log-likelihood -6210.118913442074\n",
      "Run 2: log-likelihood -6130.986524461159\n",
      "The maximum-likelihood solution (dataset S3) is theta_ML = [8.19653248e-03 1.15486016e+02 5.05698305e-01 7.64997405e+02\n",
      " 6.24273118e+01 7.05682955e+02] with log-likelihood: -6130.986524461159\n",
      "Run 0: log-likelihood -5995.755047763788\n",
      "Run 1: log-likelihood -5993.842284326517\n",
      "Run 2: log-likelihood -5993.559252822732\n",
      "The maximum-likelihood solution (dataset S4) is theta_ML = [1.50847379e-03 1.43648345e+02 9.78743659e-01 7.14682833e+02\n",
      " 1.14419498e+02 9.95260980e+02] with log-likelihood: -5993.559252822732\n",
      "Run 0: log-likelihood -5911.0162418122445\n",
      "Run 1: log-likelihood -5909.465942943514\n",
      "Run 2: log-likelihood -6001.662624074547\n",
      "The maximum-likelihood solution (dataset S5) is theta_ML = [1.81427628e-03 5.69396878e+01 7.77486201e-01 8.04313058e+02\n",
      " 9.60743503e+01 1.67577978e+02] with log-likelihood: -5909.465942943514\n",
      "Run 0: log-likelihood -5935.6793193165195\n",
      "Run 1: log-likelihood -5935.120525628047\n",
      "Run 2: log-likelihood -6015.646111269089\n",
      "The maximum-likelihood solution (dataset S6) is theta_ML = [2.48624922e-03 7.42358339e+01 9.89986527e-01 7.81901177e+02\n",
      " 1.01213872e+02 1.68681180e+02] with log-likelihood: -5935.120525628047\n",
      "Total AIC for mixture model: 82126.94096872835\n",
      "Total BIC for mixture model: 82308.1490351763\n"
     ]
    }
   ],
   "source": [
    "num_runs = 3\n",
    "aic = np.empty(6)\n",
    "bic = np.empty(6)\n",
    "for i in range(6):\n",
    "    aic[i], bic[i] = optimize_subject(i+1, num_runs)\n",
    "print(\"Total AIC for mixture model:\", aic.sum())\n",
    "print(\"Total BIC for mixture model:\", bic.sum())"
   ]
  },
  {
   "cell_type": "code",
   "execution_count": 51,
   "metadata": {},
   "outputs": [
    {
     "name": "stdout",
     "output_type": "stream",
     "text": [
      "Run 0: log-likelihood -11519.979228897428\n",
      "Run 1: log-likelihood -11519.97827074855\n",
      "Run 2: log-likelihood -11520.039319222233\n",
      "Run 3: log-likelihood -11520.284273330533\n",
      "Run 4: log-likelihood -11519.975766185642\n",
      "Run 5: log-likelihood -11519.978248355128\n",
      "Run 6: log-likelihood -11520.219274423196\n",
      "Run 7: log-likelihood -11520.183464021004\n"
     ]
    },
    {
     "name": "stderr",
     "output_type": "stream",
     "text": [
      "/home/vyeoms/.local/lib/python3.10/site-packages/scipy/stats/_distn_infrastructure.py:2126: RuntimeWarning: divide by zero encountered in divide\n",
      "  x = np.asarray((x - loc)/scale, dtype=dtyp)\n"
     ]
    },
    {
     "name": "stdout",
     "output_type": "stream",
     "text": [
      "Run 8: log-likelihood -12084.498728254272\n",
      "Run 9: log-likelihood -11519.978387835497\n",
      "Run 10: log-likelihood -11519.979599618138\n",
      "Run 11: log-likelihood -11520.032133088196\n",
      "Run 12: log-likelihood -11520.287895079382\n",
      "Run 13: log-likelihood -11519.9865246755\n",
      "Run 14: log-likelihood -11519.97829316288\n",
      "The maximum-likelihood solution (dataset S1) is theta_ML = [1.00000000e-06 3.72629789e+01 8.02740133e-01 7.92118416e+02\n",
      " 3.66949437e+01 2.58228186e+02] with log-likelihood: -11519.975766185642\n",
      "Run 0: log-likelihood -6133.859748714673\n",
      "Run 1: log-likelihood -6131.016376302321\n",
      "Run 2: log-likelihood -6169.564417810813\n",
      "Run 3: log-likelihood -6225.812774722974\n",
      "Run 4: log-likelihood -6210.84417171778\n",
      "Run 5: log-likelihood -6200.851629090923\n",
      "Run 6: log-likelihood -6131.736624133195\n",
      "Run 7: log-likelihood -6131.016376822619\n",
      "Run 8: log-likelihood -6131.016376386975\n",
      "Run 9: log-likelihood -6130.957168157953\n",
      "Run 10: log-likelihood -6131.016388145893\n",
      "Run 11: log-likelihood -6303.844528848798\n",
      "Run 12: log-likelihood -6131.447300208916\n",
      "Run 13: log-likelihood -6131.88339568681\n",
      "Run 14: log-likelihood -6131.037650231709\n",
      "The maximum-likelihood solution (dataset S3) is theta_ML = [8.20706195e-03 1.15534570e+02 9.86727215e-01 7.65342474e+02\n",
      " 1.38455840e+02 1.16758008e+03] with log-likelihood: -6130.957168157953\n",
      "Run 0: log-likelihood -5993.841531876112\n",
      "Run 1: log-likelihood -5993.841497607216\n",
      "Run 2: log-likelihood -5995.7857313173745\n",
      "Run 3: log-likelihood -5993.841521848071\n",
      "Run 4: log-likelihood -5993.841530012698\n",
      "Run 5: log-likelihood -5994.341875028496\n",
      "Run 6: log-likelihood -5993.840912468159\n",
      "Run 7: log-likelihood -5993.841531356133\n",
      "Run 8: log-likelihood -5993.841530146056\n",
      "Run 9: log-likelihood -5993.841497635232\n",
      "Run 10: log-likelihood -5993.841529362338\n",
      "Run 11: log-likelihood -5993.841529710759\n",
      "Run 12: log-likelihood -5997.455492672439\n",
      "Run 13: log-likelihood -5993.840998793374\n",
      "Run 14: log-likelihood -5994.025761105218\n",
      "The maximum-likelihood solution (dataset S4) is theta_ML = [1.40342113e-03 1.43678882e+02 7.73513657e-02 7.13938134e+02\n",
      " 4.60008258e+02 1.07871449e+02] with log-likelihood: -5993.840912468159\n"
     ]
    }
   ],
   "source": [
    "num_runs = 15\n",
    "retry_subjects = [1, 3, 4]\n",
    "for i in retry_subjects:\n",
    "    optimize_subject(i, num_runs)"
   ]
  },
  {
   "cell_type": "code",
   "execution_count": 52,
   "metadata": {},
   "outputs": [
    {
     "name": "stdout",
     "output_type": "stream",
     "text": [
      "Run 0: log-likelihood -11519.979228897428\n",
      "Run 1: log-likelihood -11519.978297039639\n",
      "Run 2: log-likelihood -11519.978333721156\n",
      "Run 3: log-likelihood -11522.577255064198\n",
      "Run 4: log-likelihood -11652.517235141517\n",
      "The maximum-likelihood solution (dataset S1) is theta_ML = [1.00000000e-06 3.72734012e+01 9.89999538e-01 7.92103831e+02\n",
      " 4.42195581e+01 1.87010753e+02] with log-likelihood: -11519.978297039639\n",
      "Run 0: log-likelihood -6133.859748714673\n",
      "Run 1: log-likelihood -6131.01637567499\n",
      "Run 2: log-likelihood -6131.016376754247\n",
      "Run 3: log-likelihood -6130.958291686529\n",
      "Run 4: log-likelihood -6266.411062372599\n",
      "The maximum-likelihood solution (dataset S3) is theta_ML = [8.19605439e-03 1.15571574e+02 4.05285431e-02 7.65393127e+02\n",
      " 1.14388744e+03 1.35277739e+02] with log-likelihood: -6130.958291686529\n",
      "Run 0: log-likelihood -5993.841531876112\n",
      "Run 1: log-likelihood -5992.0974020886615\n",
      "Run 2: log-likelihood -5993.841520955174\n",
      "Run 3: log-likelihood -5993.841411012083\n",
      "Run 4: log-likelihood -5994.738849970733\n",
      "The maximum-likelihood solution (dataset S4) is theta_ML = [2.05064456e-03 1.34973904e+02 1.00000000e-02 7.14566743e+02\n",
      " 1.00000000e+00 1.15045268e+02] with log-likelihood: -5992.0974020886615\n"
     ]
    }
   ],
   "source": [
    "num_runs = 5\n",
    "retry_subjects = [1, 3, 4]\n",
    "for i in retry_subjects:\n",
    "    optimize_subject(i, num_runs)"
   ]
  },
  {
   "cell_type": "markdown",
   "metadata": {},
   "source": [
    "## Part C"
   ]
  },
  {
   "cell_type": "code",
   "execution_count": 7,
   "metadata": {},
   "outputs": [
    {
     "name": "stdout",
     "output_type": "stream",
     "text": [
      "-5950.256415040454\n"
     ]
    }
   ],
   "source": [
    "theta_star = np.array([100, 0.01])\n",
    "\n",
    "def gaussian_response(s,theta):\n",
    "    \"\"\"Compute mean and standard deviation of p(r|s; theta).\"\"\"\n",
    "    # Unpack parameter vector theta\n",
    "    mu_prior = 787.5\n",
    "    sigma_prior = 128.1\n",
    "    sigma_motor = 70\n",
    "    sigma = theta[0]\n",
    "    # Compute mean and std of the response\n",
    "    w = sigma_prior**2/(sigma_prior**2 + sigma**2)    \n",
    "    mu_resp = w*s + (1-w)*mu_prior\n",
    "    sigma_resp = np.sqrt(w**2*sigma**2 + sigma_motor**2)\n",
    "    return mu_resp, sigma_resp\n",
    "\n",
    "def idealgaussianobserverwithlapse_loglike(theta, s_vec, r_vec):\n",
    "    \"\"\"Log-likelihood of ideal Gaussian observer with added lapse.\"\"\"\n",
    "    mu_prior = 787.5\n",
    "    sigma_prior = 128.1\n",
    "    sigma_motor = 70\n",
    "    \n",
    "    sigma = theta[0]\n",
    "    lapse_rate = theta[1]\n",
    "    \n",
    "    # log-pdf for the chance of a lapse\n",
    "    lapse_pdf = sps.uniform.logpdf(r_vec, 0, 1500) + np.log(lapse_rate)\n",
    "    mu_resp, sigma_resp = gaussian_response(s_vec,theta)\n",
    "    \n",
    "    # log-pdf of a normal response\n",
    "    loglike_vec = np.log(1-lapse_rate) + sps.norm.logpdf(r_vec,mu_resp,sigma_resp) # Vector of log-likelihood per trials\n",
    "    \n",
    "    # Setting up the terms for a log-sum-exp\n",
    "    terms = [loglike_vec, lapse_pdf]\n",
    "    lse_result = sp.special.logsumexp(terms, axis=0)\n",
    "    \n",
    "    return np.sum(lse_result)\n",
    "\n",
    "s = np.array(df['Stimulus (ms)'][(df['Subject id'] == 5) & (df['Session id'] > 1)])\n",
    "r = np.array(df['Response (ms)'][(df['Subject id'] == 5) & (df['Session id'] > 1)])\n",
    "print(idealgaussianobserverwithlapse_loglike(theta_star, s, r))"
   ]
  },
  {
   "cell_type": "markdown",
   "metadata": {},
   "source": [
    "## Part D"
   ]
  },
  {
   "cell_type": "code",
   "execution_count": 8,
   "metadata": {},
   "outputs": [
    {
     "name": "stdout",
     "output_type": "stream",
     "text": [
      "Optimization loop...\n",
      "Run 0: log-likelihood -11624.338670310026\n",
      "Run 1: log-likelihood -11624.338670297893\n",
      "Run 2: log-likelihood -11624.338670298694\n",
      "The maximum-likelihood solution (dataset S1) is theta_ML = [9.58173647e+01 1.00000000e-10] with log-likelihood: -11624.338670297893\n",
      "Optimization loop...\n",
      "Run 0: log-likelihood -5636.6277281441135\n",
      "Run 1: log-likelihood -5636.62772814477\n",
      "Run 2: log-likelihood -5636.627728174724\n",
      "The maximum-likelihood solution (dataset S2) is theta_ML = [3.96772793e+01 1.00000000e-10] with log-likelihood: -5636.6277281441135\n",
      "Optimization loop...\n",
      "Run 0: log-likelihood -6137.263690600243\n",
      "Run 1: log-likelihood -6137.26369010446\n",
      "Run 2: log-likelihood -6137.263690088744\n",
      "The maximum-likelihood solution (dataset S3) is theta_ML = [1.07498832e+02 9.81784133e-03] with log-likelihood: -6137.263690088744\n",
      "Optimization loop...\n",
      "Run 0: log-likelihood -6103.817274256799\n",
      "Run 1: log-likelihood -6103.817274126373\n",
      "Run 2: log-likelihood -6103.817274193609\n",
      "The maximum-likelihood solution (dataset S4) is theta_ML = [1.52870645e+02 1.57237480e-03] with log-likelihood: -6103.817274126373\n",
      "Optimization loop...\n",
      "Run 0: log-likelihood -5913.26958708983\n",
      "Run 1: log-likelihood -5913.276266162698\n",
      "Run 2: log-likelihood -5913.269587163872\n",
      "The maximum-likelihood solution (dataset S5) is theta_ML = [6.39156045e+01 1.62414429e-03] with log-likelihood: -5913.26958708983\n",
      "Optimization loop...\n",
      "Run 0: log-likelihood -5941.674021942302\n",
      "Run 1: log-likelihood -5941.6740221522805\n",
      "Run 2: log-likelihood -5941.682796126563\n",
      "The maximum-likelihood solution (dataset S6) is theta_ML = [8.85600030e+01 1.75265707e-03] with log-likelihood: -5941.674021942302\n",
      "Total AIC for ideal gaussian with lapse model: 82737.98194337852\n",
      "Total BIC for ideal gaussian with lapse model: 82798.38463219449\n"
     ]
    }
   ],
   "source": [
    "def multioptimize(target_fun,lower_bounds,upper_bounds,plausible_lower_bounds,plausible_upper_bounds,num_runs=3):\n",
    "    \"\"\"Simple function for multi-start optimization.\"\"\"\n",
    "    # Run num_runs optimization runs from different starting points    \n",
    "    num_params = lower_bounds.shape[0]\n",
    "    theta_res = np.zeros((num_runs,num_params))\n",
    "    nll_res = np.zeros(num_runs)    \n",
    "    \n",
    "    for index in range(num_runs):\n",
    "        if index == 0:\n",
    "            theta0 = 0.5*(plausible_lower_bounds + plausible_upper_bounds)\n",
    "        else:\n",
    "            theta0 = np.random.uniform(low=plausible_lower_bounds,high=plausible_upper_bounds)    \n",
    "        bounds = sp.optimize.Bounds(lower_bounds,upper_bounds,True) # Set hard bounds\n",
    "        res = sp.optimize.minimize(target_fun, theta0, method='L-BFGS-B', bounds=bounds)\n",
    "        nll_res[index] = res.fun\n",
    "        theta_res[index] = res.x\n",
    "        print('Run {}: log-likelihood {}'.format(index, -res.fun))\n",
    "        \n",
    "    # Pick the best solution\n",
    "    idx_best = np.argmin(nll_res)\n",
    "    nll_best = nll_res[idx_best]\n",
    "    theta_best = theta_res[idx_best]        \n",
    "    return nll_best,theta_best\n",
    "\n",
    "def calc_aic_and_bic(s, theta_best, nll):\n",
    "    num_params = np.shape(theta_best)[0]\n",
    "    num_trials = np.shape(s)[0]\n",
    "\n",
    "    aic = 2*nll + 2*num_params\n",
    "    bic = 2*nll + num_params*np.log(num_trials)\n",
    "\n",
    "    return aic, bic\n",
    "\n",
    "def optimize_subject(subject, num_runs=3):\n",
    "    s = np.array(df['Stimulus (ms)'][(df['Subject id'] == subject) & (df['Session id'] > 1)])\n",
    "    r = np.array(df['Response (ms)'][(df['Subject id'] == subject) & (df['Session id'] > 1)])\n",
    "    target_fun = lambda theta_: -idealgaussianobserverwithlapse_loglike(np.array(theta_),s,r)\n",
    "\n",
    "    # Define hard parameter bounds\n",
    "    lower_bounds = np.array([1., 1e-10])\n",
    "    upper_bounds = np.array([1000., 1-1e-10])\n",
    "\n",
    "    # Define plausible range\n",
    "    plausible_lower_bounds = np.array([np.mean(s)*0.05, 0.01])\n",
    "    plausible_upper_bounds = np.array([np.mean(s)*0.20, 0.05])\n",
    "\n",
    "    print(\"Optimization loop...\")\n",
    "    nll_best, theta_best = multioptimize(target_fun,lower_bounds,upper_bounds,plausible_lower_bounds,plausible_upper_bounds,num_runs)\n",
    "    print('The maximum-likelihood solution (dataset S{}) is theta_ML = {} with log-likelihood: {}'.format(\n",
    "        subject, theta_best, -nll_best))\n",
    "    aic, bic = calc_aic_and_bic(s, theta_best, nll_best)\n",
    "    return aic, bic\n",
    "\n",
    "num_runs = 3\n",
    "aic = np.empty(6)\n",
    "bic = np.empty(6)\n",
    "for i in range(6):\n",
    "    aic[i], bic[i] = optimize_subject(i+1, num_runs)\n",
    "print(\"Total AIC for ideal gaussian with lapse model:\", aic.sum())\n",
    "print(\"Total BIC for ideal gaussian with lapse model:\", bic.sum())\n"
   ]
  }
 ],
 "metadata": {
  "kernelspec": {
   "display_name": "Python 3 (ipykernel)",
   "language": "python",
   "name": "python3"
  },
  "language_info": {
   "codemirror_mode": {
    "name": "ipython",
    "version": 3
   },
   "file_extension": ".py",
   "mimetype": "text/x-python",
   "name": "python",
   "nbconvert_exporter": "python",
   "pygments_lexer": "ipython3",
   "version": "3.10.6"
  }
 },
 "nbformat": 4,
 "nbformat_minor": 4
}
