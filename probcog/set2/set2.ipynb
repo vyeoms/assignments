{
 "cells": [
  {
   "cell_type": "markdown",
   "metadata": {},
   "source": [
    "University of Helsinki, Master's Programme in Data Science  \n",
    "DATA20047 Probabilistic Cognitive Modelling - Spring 2023  \n",
    "Luigi Acerbi  \n",
    "\n",
    "# Problem Set 2: Response distribution and model fitting\n",
    "\n",
    "- This homework problem set focuses on **Week 3 and 4** of the course.\n",
    "- This problem set is worth **25 points** in total (out of 100 for the full course).\n",
    "- Check the submission deadline on Moodle! **Note that the deadline is at noon.**\n",
    "\n",
    "\n",
    "## Submission instructions\n",
    "\n",
    "Submission must be perfomed entirely on Moodle (**not** by email).\n",
    "1. When you have completed the exercises, save the notebook.\n",
    "2. Report your solutions and answers on Moodle (\"*Problem set 2 answer return*\").\n",
    "3. Submit two files on Moodle (\"*Problem set 2 notebook return*\"): \n",
    "  - The notebook as `.ipynb`.\n",
    "  - The same notebook downloaded as `.pdf` (there are various ways to save the file as PDF, the most general is \"File\" > \"Print Preview\" and then print the page to PDF using your browser - remember to enter the Print Preview first).\n",
    "\n",
    "## IMPORTANT\n",
    "\n",
    "1. Do not share your code and answers with others. Contrary to the class exercises, which you can do with others, these problems are *not* group work and must be done individually.\n",
    "2. It is allowed to use snippets of code from the lecture exercises and model solutions.\n",
    "3. It is your responsibility to ensure that the notebook has fully finished running all the cells, all the plots view properly etc. before submitting it. However, the notebook should be runnable from scratch if needed (\"Kernel > Restart & Run All\").\n",
    "4. Submit your work by the deadline.\n",
    "5. Unless stated otherwise, please report your numerical answers in Moodle with full numerical precision (~14-15 digits), unless the answer is an integer.\n",
    "6. If you are confused, think there is a mistake or find things too difficult, please ask on Moodle.\n",
    "\n",
    "## References\n",
    "\n",
    "- \\[**MKG22**\\] Ma WJ, Körding K, and Goldreich D. \"Bayesian Models of Perception and Action: An Introduction\". MIT Press, 2022.\n",
    "- \\[**AWV12**\\] Acerbi L, Wolpert DM, Vijayakumar S. \"Internal Representations of Temporal Statistics and Feedback Calibrate Motor-Sensory Interval Timing\". *PLoS Computational Biology*, 2012. [Link](https://journals.plos.org/ploscompbiol/article?id=10.1371/journal.pcbi.1002771)"
   ]
  },
  {
   "cell_type": "code",
   "execution_count": 1,
   "metadata": {},
   "outputs": [],
   "source": [
    "# set-up -- do not change\n",
    "import numpy as np\n",
    "import numpy.random as npr\n",
    "import scipy as sp\n",
    "import scipy.stats as sps\n",
    "import pandas as pd\n",
    "import matplotlib.pyplot as plt\n",
    "npr.seed(1)"
   ]
  },
  {
   "cell_type": "markdown",
   "metadata": {},
   "source": [
    "# Question 2.1 (7 pts)\n",
    "\n",
    "> This question is about computing the total (root mean squared) error (RMSE) for a Bayesian observer, as seen in Week 3 of the course. The take-home message here is that the Bayesian observer whose prior matches the true empirical distribution of stimuli will perform best at the task (lower RMSE), compared to a Bayesian observer with an incorrect (aka *mismatched*) belief about the distribution of stimuli (i.e., whose prior does not match the true stimulus distribution). See Chapter 4.5 of \\[**MKG22**\\] and the lecture notes for Week 3.\n",
    "\n",
    "A Bayesian observer is estimating a stimulus with empirical distribution $p(s) = \\text{Uniform}(s; -5, 5)$.\n",
    "The measurement distribution and likelihood are Gaussian $p(x|s) = \\mathcal{N}\\left(x; s, \\sigma^2 \\right)$ with $\\sigma = 2$.\n",
    "We assume that the observer uses the posterior mean estimator $\\hat{s}_{PM}$ and we ignore response noise. However, we consider the observer uses as prior a distribution $q(s)$ which might differ from the true prior (mismatched prior).\n",
    "\n",
    "- a) Compute the total RMSE assuming $q(s) = p(s)$, i.e. the observer uses the true stimulus distribution as prior.\n",
    "- b) Compute the total RMSE assuming the observer uses an approximate Gaussian prior, $q(s) = \\mathcal{N}\\left(s; \\mu_s, \\sigma_s^2 \\right)$ with mean $\\mu_s$ and variance $\\sigma^2_s$ equal to the mean and variance of the true stimulus distribution. *Hint*: You can find the variance of a continuous uniform distribution [here](https://en.wikipedia.org/wiki/Continuous_uniform_distribution).\n",
    "- c) Compute the total RMSE assuming the observer uses as prior a mismatched, wider Uniform distribution, $q(s) = \\text{Uniform}\\left(s; -8, 8 \\right)$.\n",
    "\n",
    "Report your results in Moodle. The accepted tolerance is $\\pm 0.01$ from the true value.\n",
    "\n",
    "*Hints*: \n",
    "- Remember that the (total) RMSE of an estimator $\\hat{s}$ is computed as\n",
    "$$\n",
    "\\text{RMSE}[\\hat{s}] = \\sqrt{\\int \\text{MSE}\\left[\\hat{s}|s\\right] p(s) ds}\n",
    "$$\n",
    "  where $p(s)$ is the true empirical distribution and $\\text{MSE}\\left[\\hat{s}|s\\right]$ is the mean squared error at each stimulus, defined as\n",
    "$$\n",
    "\\text{MSE}\\left[\\hat{s}|s\\right] = \\mathbb{E}_{\\hat{s}|s}\\left[\\left(\\hat{s}-s\\right)^2|s \\right] = \\text{Bias}\\left[\\hat{s}|s\\right]^2 + \\text{Var}\\left[\\hat{s}|s\\right],\n",
    "$$\n",
    "  where the definitions for bias and variance can be found in the textbook or lecture notes.\n",
    "- Note that changing the prior $q(s)$ will change $\\hat{s}(x)$, but nothing else! So once you manage to compute (a), you should be able to compute (b) and (c) with a small change to the code (only where $\\hat{s}(x)$ is computed).\n",
    "- You may want to check out Exercise 3.3 of the workshops."
   ]
  },
  {
   "cell_type": "code",
   "execution_count": null,
   "metadata": {},
   "outputs": [],
   "source": []
  },
  {
   "cell_type": "markdown",
   "metadata": {},
   "source": [
    "# Question 2.2 (6 pts)\n",
    "\n",
    "\n",
    "> In this question, we compute the response distribution for \\[**JS10**\\] under different assumptions about the Bayesian observer.\n",
    "\n",
    "Consider the time perception experiment from \\[**JS10**\\] which we analyzed in Exercise 3.4.\n",
    "We recall the setup below. Note that there are differences from Exercise 3.4 (marked as **NEW**):\n",
    "- In this experiment, an observer is asked to judge the time interval $s$ between two flashes, measured in milliseconds (ms). In each trial, the duration is drawn from an interval distribution $p(s)$. \n",
    "- The experiment consist of three separate blocks of sessions run over multiple days. Each experimental block is identical except for the distribution of intervals $p(s)$. The distribution of time intervals in the three blocks are: \n",
    "  - $p_\\text{short}(s) = \\text{Uniform}\\left(s; 494, 847\\right)$\n",
    "  - $p_\\text{medium}(s) = \\text{Uniform}\\left(s; 671, 1023\\right)$\n",
    "  - $p_\\text{long}(s) = \\text{Uniform}\\left(s; 847,1200\\right)$\n",
    "- The observer's measurement distribution follows *Weber's law* (known in time perception as the \"scalar property\" of temporal judgment). According to this empirical law, the measurement noise is roughly linearly proportional to the magnitude of the stimulus. In formulas, $$p(x|s) = \\mathcal{N}\\left(x|s,\\sigma^2(s)\\right) \\qquad \\text{with} \\quad \\sigma(s) = w_s \\cdot s$$\n",
    "  where $w_s$ is known as *Weber's fraction*. Typical values of $w_s$ in timing are around 0.05-0.2, here we assume $w_s = 0.1$.\n",
    "- It is assumed that, after some practice, the observer develops a prior $p(s)$ which matches the stimulus distribution used in that block of sessions (and that the likelihood also matches the measurement distribution).\n",
    "- **NEW**: The observer responds with a deterministic estimate $\\hat{s}_\\text{MAP}$ which we assume is the mode of the posterior (also known as *maximum-a-posteriori* or MAP estimate). \n",
    "- **NEW**: The response is corrupted by motor noise which is proportional to the estimate:\n",
    "$$p(r|\\hat{s}) = \\mathcal{N}\\left(r; \\hat{s}, \\sigma_\\text{m}^2(\\hat{s})\\right) \\qquad \\text{with} \\quad \\sigma_\\text{m}(\\hat{s}) = w_\\text{m} \\cdot \\hat{s}$$ \n",
    "  where $w_\\text{m}$ represents the Weber's fraction for the motor noise. Here we assume $w_\\text{m} = 0.05$.\n",
    "  \n",
    "-------------------------------\n",
    "\n",
    "In this exercise, we look at the *distribution of responses* $p(r|s)$ that the experimenter would observe for a given stimulus in the three different experimental blocks (short, medium, or long). We consider the stimulus $s^\\star = 847$ ms which appears in all three experimental blocks.\n",
    "\n",
    "- a) Compute $p(r|s = s^\\star)$ for the \"short\" block. Compute the mean and standard deviation of $p(r|s = s^\\star)$ and report them on Moodle.\n",
    "- b) Compute $p(r|s = s^\\star)$ for the \"medium\" block. Compute the mean and standard deviation of $p(r|s = s^\\star)$ and report them on Moodle.\n",
    "- c) Compute $p(r|s = s^\\star)$ for the \"long\" block. Compute the mean and standard deviation of $p(r|s = s^\\star)$ and report them on Moodle.\n",
    "\n",
    "The accepted tolerance for the solutions is $\\pm 0.2$ ms for (a) and (b), and $\\pm 0.5$ ms for (c).\n",
    "\n",
    "*Hints*: \n",
    "- Be careful that the likelihood, $p(x|s)$ as a function of $s$, is *not* Gaussian, because $\\sigma(s)$ is not constant in $s$. As a consequence, the posterior will *not* be Gaussian. This affects the MAP estimate, $\\hat{s}_\\text{MAP}$, which you will need to compute numerically.\n",
    "- To compute the response distribution, remember the definition:\n",
    "$$\n",
    "p(r|s) = \\int p(r|\\hat{s}(x)) p(x|s) dx,\n",
    "$$\n",
    "  which you can solve via numerical integration.\n",
    "- It is recommended that you first compute $\\hat{s}_\\text{MAP}(x)$ for a grid of $x$, and then compute the response distribution numerically via the integral above.\n",
    "- The MAP estimate $\\hat{s}_\\text{MAP}$ is the value of $s$ that maximizes the posterior $p(s|x)$. Note that this value does not depend on the normalization constant, so you can compute $p(s|x) \\propto p(s) p(x|s)$ for a (fine) grid of values `s_grid` and take the argument $s$ that maximizes this quantity."
   ]
  },
  {
   "cell_type": "code",
   "execution_count": null,
   "metadata": {},
   "outputs": [],
   "source": []
  },
  {
   "cell_type": "markdown",
   "metadata": {},
   "source": [
    "# Question 2.3 (6 pts)\n",
    "\n",
    "> The key quantity for model fitting is the log-likelihood for a dataset and some model parameters. In this exercise, we compute the log-likelihood for a Bayesian observer model which also includes the possibility of *lapses*, a common mechanism used in cognitive science to explain away \"random\" responses and subjects' mistakes.\n",
    "\n",
    "In this question, we consider the datasets from Experiment 3 of \\[**AWV12**\\]. The experimental setup which involves time perception and interval reproduction is very similar to \\[**JS10**\\], so we can consider the same type of models.\n",
    "\n",
    "We analyze the data with the `gaussianobserverwithlapse` model, defines as follows:\n",
    "\n",
    "- We assume the observer builds a (mismatched) Gaussian prior $p(s) = \\mathcal{N}\\left(s| \\mu_\\text{prior}, \\sigma_\\text{prior}^2 \\right)$ over the stimuli (time intervals). \n",
    "- We assume that the measurement distribution and likelihood are also Gaussian, $p(x|s) = \\mathcal{N}\\left(x| s, \\sigma^2 \\right)$.\n",
    "- The observer uses the *posterior mean* estimator for the value of the stimulus, $\\hat{s}_\\text{PM}$.\n",
    "- Gaussian motor response noise is added to the estimate, $p(r|\\hat{s}) = \\mathcal{N}\\left(r| \\hat{s}, \\sigma_\\text{motor}^2 \\right)$.\n",
    "- In each trial, the observer lapses with probability $\\lambda$ (the *lapse rate*), in which case the response is drawn from $p_\\text{lapse}(r) = \\text{Uniform}\\left(r; 0, 1500 \\right)$ ms. Otherwise, the observer responds normally (according to $p(r|\\hat{s})$ described above) with probability $1 - \\lambda$. \n",
    "- The parameters of this model are $\\mathbf{\\theta} = \\left(\\mu_\\text{prior}, \\sigma_\\text{prior}, \\sigma, \\sigma_\\text{motor}, \\lambda \\right)$.\n",
    "\n",
    "For this question, we consider parameters $\\mathbf{\\theta}_\\star = \\left(\\mu_\\text{prior} = 780, \\sigma_\\text{prior} = 140, \\sigma = 90, \\sigma_\\text{motor} = 60, \\lambda = 0.02 \\right)$. \n",
    "\n",
    "- a) Compute the log-likelihood of model parameter $\\theta_\\star$ for the dataset of subject 2.\n",
    "- b) Compute the log-likelihood of model parameter $\\theta_\\star$ for the dataset of subject 5.\n",
    "\n",
    "Report your results on Moodle with high precision.\n",
    "\n",
    "*Hint*:\n",
    "- If you use code from the lectures, be careful about the model definition, as there may be subtle differences."
   ]
  },
  {
   "cell_type": "code",
   "execution_count": 2,
   "metadata": {},
   "outputs": [
    {
     "data": {
      "text/html": [
       "<div>\n",
       "<style scoped>\n",
       "    .dataframe tbody tr th:only-of-type {\n",
       "        vertical-align: middle;\n",
       "    }\n",
       "\n",
       "    .dataframe tbody tr th {\n",
       "        vertical-align: top;\n",
       "    }\n",
       "\n",
       "    .dataframe thead th {\n",
       "        text-align: right;\n",
       "    }\n",
       "</style>\n",
       "<table border=\"1\" class=\"dataframe\">\n",
       "  <thead>\n",
       "    <tr style=\"text-align: right;\">\n",
       "      <th></th>\n",
       "      <th>Subject id</th>\n",
       "      <th>Session id</th>\n",
       "      <th>Run id</th>\n",
       "      <th>Stimulus (ms)</th>\n",
       "      <th>Response (ms)</th>\n",
       "      <th>Stimulus id</th>\n",
       "    </tr>\n",
       "  </thead>\n",
       "  <tbody>\n",
       "    <tr>\n",
       "      <th>0</th>\n",
       "      <td>1</td>\n",
       "      <td>1</td>\n",
       "      <td>1</td>\n",
       "      <td>973.327049</td>\n",
       "      <td>862.947945</td>\n",
       "      <td>6.0</td>\n",
       "    </tr>\n",
       "    <tr>\n",
       "      <th>1</th>\n",
       "      <td>1</td>\n",
       "      <td>1</td>\n",
       "      <td>1</td>\n",
       "      <td>677.519900</td>\n",
       "      <td>574.920276</td>\n",
       "      <td>2.0</td>\n",
       "    </tr>\n",
       "    <tr>\n",
       "      <th>2</th>\n",
       "      <td>1</td>\n",
       "      <td>1</td>\n",
       "      <td>1</td>\n",
       "      <td>826.253049</td>\n",
       "      <td>870.995615</td>\n",
       "      <td>4.0</td>\n",
       "    </tr>\n",
       "    <tr>\n",
       "      <th>3</th>\n",
       "      <td>1</td>\n",
       "      <td>1</td>\n",
       "      <td>1</td>\n",
       "      <td>677.854859</td>\n",
       "      <td>695.055098</td>\n",
       "      <td>2.0</td>\n",
       "    </tr>\n",
       "    <tr>\n",
       "      <th>4</th>\n",
       "      <td>1</td>\n",
       "      <td>1</td>\n",
       "      <td>1</td>\n",
       "      <td>598.501198</td>\n",
       "      <td>632.981845</td>\n",
       "      <td>1.0</td>\n",
       "    </tr>\n",
       "  </tbody>\n",
       "</table>\n",
       "</div>"
      ],
      "text/plain": [
       "   Subject id  Session id  Run id  Stimulus (ms)  Response (ms)  Stimulus id\n",
       "0           1           1       1     973.327049     862.947945          6.0\n",
       "1           1           1       1     677.519900     574.920276          2.0\n",
       "2           1           1       1     826.253049     870.995615          4.0\n",
       "3           1           1       1     677.854859     695.055098          2.0\n",
       "4           1           1       1     598.501198     632.981845          1.0"
      ]
     },
     "execution_count": 2,
     "metadata": {},
     "output_type": "execute_result"
    }
   ],
   "source": [
    "# Load data of Experiment 3 of [AWV12] from .csv file to a Pandas dataframe\n",
    "df = pd.read_csv('https://www2.helsinki.fi/sites/default/files/atoms/files/awv12_exp3.csv')\n",
    "\n",
    "# Remove unused columns (they deal with performance feedback, which we ignore in this lecture)\n",
    "df.drop(df.columns[[6, 7, 8]], axis=1, inplace=True)\n",
    "\n",
    "# Remove rows with NaNs\n",
    "df.dropna(axis=0, inplace=True)\n",
    "\n",
    "df.head()"
   ]
  },
  {
   "cell_type": "code",
   "execution_count": 3,
   "metadata": {},
   "outputs": [
    {
     "name": "stdout",
     "output_type": "stream",
     "text": [
      "s.shape: (2520,)\n",
      "r.shape: (2520,)\n"
     ]
    },
    {
     "data": {
      "image/png": "[encoded data removed]",
      "text/plain": [
       "<Figure size 432x288 with 1 Axes>"
      ]
     },
     "metadata": {
      "needs_background": "light"
     },
     "output_type": "display_data"
    }
   ],
   "source": [
    "# Example code to extract stimuli and responses for a single subject (here subject 1)\n",
    "subject = 1\n",
    "s = np.array(df['Stimulus (ms)'][df['Subject id'] == subject])\n",
    "r = np.array(df['Response (ms)'][df['Subject id'] == subject])\n",
    "print('s.shape:', s.shape)\n",
    "print('r.shape:', r.shape)\n",
    "\n",
    "plt.scatter(s, r)\n",
    "plt.xlabel('s (ms)')\n",
    "plt.ylabel('r (ms)')\n",
    "plt.title('Responses (subject ' + str(subject) + ')')\n",
    "plt.show()"
   ]
  },
  {
   "cell_type": "code",
   "execution_count": null,
   "metadata": {},
   "outputs": [],
   "source": []
  },
  {
   "cell_type": "markdown",
   "metadata": {},
   "source": [
    "# Question 2.4 (6 pts)\n",
    "\n",
    "> When fitting models to data, the experimenter may be interested in how model parameters are represented across the population (here represented by the group of subjects). A simple way to look at this is to look at the distribution of maximum-likelihood estimates for the parameters across subjects, in first instance by looking their mean and variability.\n",
    "\n",
    "We consider here the `idealgaussianobserverwithlapse` model. This model is the same as the `gaussianobserverwithlapse` of Question 2.3, but with $\\mu_\\text{prior} = 787.5$ ms and $\\sigma_\\text{prior} = 128.1$ ms fixed. Thus, the model has three free parameters, $\\theta = \\left(\\sigma, \\sigma_\\text{motor}, \\lambda \\right)$. Fit the model using maximum-likelihood estimation.\n",
    "\n",
    "- a) First, fit the `idealgaussianobserverwithlapse` model to the six subjects' datasets (separately for each subject's data). For each maximum-likelihood estimate (MLE) of parameters $\\sigma, \\sigma_\\text{motor}, \\lambda$, report in Moodle the mean and standard deviation across the six subjects. For the standard deviation, use the correction for degrees of freedom (that is, `np.std(..., ddof=1)`).\n",
    "- b) Now fit the pooled data of all subjects as a single dataset (as if all data were collected from a single uber-subject). Report the maximum-likelihood estimate of $\\sigma, \\sigma_\\text{motor}, \\lambda$ for the pooled data in Moodle.\n",
    "\n",
    "*Hints*: \n",
    "- If you use code for the `idealgaussianobserverwithlapse` model from the lectures, be careful about the model definition.\n",
    "- As a sanity check that you have coded the log-likelihood function correctly, check that the log-likelihood of the dataset of subject 1 for $\\theta_\\star = \\left(\\sigma = 90, \\sigma_\\text{motor} = 80, \\lambda = 0.02\\right)$ is $\\log \\mathcal{L}(\\theta_\\star; \\mathcal{D}_1) \\approx -14709.795\\ldots$\n",
    "\n",
    "*Note*: Fitting individual subjects' data is the best approach to describe invidual behavior in cognitive science, but sometimes you will see studies only looking at pooled/group data. Be careful that pooling might hide what really happens, only giving a snapshot of the average behavior of the group, which might not correspond to what individuals do."
   ]
  },
  {
   "cell_type": "code",
   "execution_count": null,
   "metadata": {},
   "outputs": [],
   "source": []
  }
 ],
 "metadata": {
  "kernelspec": {
   "display_name": "Python 3 (ipykernel)",
   "language": "python",
   "name": "python3"
  },
  "language_info": {
   "codemirror_mode": {
    "name": "ipython",
    "version": 3
   },
   "file_extension": ".py",
   "mimetype": "text/x-python",
   "name": "python",
   "nbconvert_exporter": "python",
   "pygments_lexer": "ipython3",
   "version": "3.9.7"
  }
 },
 "nbformat": 4,
 "nbformat_minor": 4
}
