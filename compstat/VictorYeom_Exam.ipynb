{
 "cells": [
  {
   "cell_type": "markdown",
   "metadata": {},
   "source": [
    "University of Helsinki, Master's Programme in Mathematics and Statistics  \n",
    "MAST32001 Computational Statistics, Autumn 2022  \n",
    "Luigi Acerbi  \n",
    "\n",
    "# Home exam\n",
    "\n",
    "**Deadline:** Friday 28 October at 23:55\n",
    "\n",
    "- Please return your solutions for Problem 2 as a separate Python source file `problem2.py` and the others in this notebook to Moodle.\n",
    "- **You must answer Problems 1-3. Please answer 2 out of 3 of the remaining problems (Problems 4-6).**\n",
    "- Each problem is worth 6 points. The maximum score is 30 points.\n",
    "- Please note that this exam is *not* teamwork. You must find the answers to the questions just by yourself with no help from others.\n",
    "- Please write your full name, email address and student ID number in the cell below. By doing so, you are confirming that you are the only author of the answers and solutions in the submitted notebook and code:"
   ]
  },
  {
   "cell_type": "markdown",
   "metadata": {},
   "source": [
    "## Home exam taker\n",
    "\n",
    "- **Name:** Victor Manuel Yeom Song\n",
    "- **Email address:** victor.yeomsong@helsinki.fi\n",
    "- **Student ID:** 015148944"
   ]
  },
  {
   "cell_type": "markdown",
   "metadata": {},
   "source": [
    "## General instructions (IMPORTANT!)\n",
    "\n",
    "1. When returning your solutions, please leave your code and output in the notebook. You will not get points for results that are not included in the notebook even if they could be obtained by running the code. You will not get results if you provide the solutions without the code used to generate them.\n",
    "2. When returning your solutions, please make sure the notebook can be run cleanly using \"Cell\" / \"Run All\".\n",
    "3. Please make sure there are no dependencies between solutions to different problems.\n",
    "4. Please make sure that your notebook will not depend on any local files.\n",
    "5. Please make sure that the solutions for each problem in your notebook will produce the same results when run multiple times, i.e. remember to seed any random number generators you use (e.g., `npr.seed()`!).\n",
    "6. Please make your code readable. You are not required to write high-quality code, but make some effort to clean it up and add comments when necessary so that it is easy to follow what's going on. (But do not exceed in the opposite direction of explaining every single line.)\n",
    "7. Make sure you only use the functions specified in the statement of each problem. You can use `matplotlib` plotting in all problems if you wish.\n",
    "8. The problems are meant to be solved based on contents of the course. You can reuse functions from the class exercises. You should not search for solutions online and in any case must not use any solutions possibly found.\n",
    "9. **Remember to fill in your full name, email address and student ID in the cell above.** (If for some reason you don't have a student ID yet, leave that empty.)"
   ]
  },
  {
   "cell_type": "markdown",
   "metadata": {},
   "source": [
    "---\n",
    "\n",
    "## COMPULSORY PROBLEMS\n",
    "\n",
    "---\n",
    "\n",
    "## 1. Check and fix my MCMC (COMPULSORY)\n",
    "\n",
    "Which of the MCMC algorithms presented below will *eventually* converge to produce samples from the target probability distribution defined by the corresponding `ltarget(x)` functions?\n",
    "\n",
    "- Justify your answers (both positive and negative) briefly.\n",
    "- For each sampler that will not converge to the correct distribution, suggest a change to fix it to converge to the intended target distribution.\n",
    "- You should never change the target distribution. \n",
    "- Your fix should keep the function `sample_q(x)` for drawing samples from the proposal the same, if possible. **Only change it if there is no other way to fix the sampler**.\n",
    "\n",
    "### Problem descriptions\n",
    "\n",
    "In all cases, we assume we are using a Metropolis-Hastings sampler that takes three arguments: \n",
    "- the log-target density `ltarget(x)`;\n",
    "- the proposal density `eval_logq(xp, x)` evaluating $\\log q(x';x)$, i.e. the log probability of proposing $x'$ denoted by `xp` when the current state is $x$; \n",
    "- a function `sample_q(x)` to draw samples $x'$ from the proposal $q(x' ; x)$.\n",
    "\n",
    "We assume that the sampler is initialized at a valid point `x0` (for which the log-target is not `-np.inf`). The sampler will take `2*n` samples, throwing away the first `n` for warmup. `n` is assumed to be a sufficiently large number to ensure convergence *if* the algorithm is correct. For some problems, the required `n` might be astronomically large, but that's fine: this problem is not asking about efficiency, but about *correctness*.\n",
    "\n",
    "The following snippet of code is used to draw the samples and compute the acceptance probability:\n",
    "``` {python}\n",
    "import numpy as np\n",
    "import numpy.random as npr\n",
    "import scipy.stats as sps\n",
    "\n",
    "xp = sample_q(x)\n",
    "accrate = np.minimum(1, np.exp(ltarget(xp) + eval_logq(x, xp) - ltarget(x) - eval_logq(xp, x)))\n",
    "```\n",
    "\n",
    "Many samplers are based on a symmetric proposal with $q(x';x) = q(x;x')$ and define `eval_logq(xp, x) = 0`. This is OK if the proposal really is symmetric, because then `eval_logq(x, xp) == eval_logq(xp, x)`, making the corresponding terms to cancel out in the above acceptance rate.\n",
    "\n",
    "*Notes and hints*: \n",
    "- Since the sampler is a Metropolis-Hastings sampler, what you need to check is mostly two things: (1) whether the log-proposal pdf is implemented correctly, and (2) if the proposal would allow the chain to (eventually) explore the entire target distribution.\n",
    "- **You are not required to run any code: answering the questions and providing code for the fixed functions is enough.**\n",
    "- Still, as a way to double-check your hypotheses and answers, sometimes it can be useful for you to write code and run the proposed Metropolis-Hastings samplers on the given problems. Write this test code in a separate file, not here.\n",
    "- For example, plot a normalized histogram of the samples obtained from the MCMC run overlaid on top of the (normalized) true target pdf.\n",
    "- However, note that the problem is asking if a sampler will *eventually* converge. If the sampler would converge with an astronomically large `n`, it would still count as converging for the purpose of this question. For some problems, you might be unable to see convergence by simply running the sampler on your computer (unless you can run it for an astronomically large `n`), in which case you will have to think asymptotically. In particular, finite-time diagnostic like $\\hat{R}$ are not necessarily informative about *asymptotic* convergence.\n",
    "- Do **not** submit your test code or test plots (those are only useful checks for you). Below, only write your answer and a brief justification including, if needed, a snippet of code for what needs to be fixed."
   ]
  },
  {
   "cell_type": "markdown",
   "metadata": {},
   "source": [
    "### The problems:\n",
    "\n",
    "\n",
    "Case 1:\n",
    "``` {python}\n",
    "    def ltarget1(x):\n",
    "        if np.abs(x) < np.pi:\n",
    "            return x*np.cos(x)\n",
    "        else:\n",
    "            return -np.inf\n",
    "\n",
    "    def eval_logq1(xp, x):\n",
    "        return 0\n",
    "\n",
    "    def sample_q1(x):\n",
    "        return npr.uniform(-np.pi/2, np.pi/2)\n",
    "```\n",
    "\n",
    "Case 2:\n",
    "``` {python}\n",
    "    def ltarget2(x):\n",
    "        return sps.t.logpdf(x-1, df=5)\n",
    "\n",
    "    def eval_logq2(xp, x):\n",
    "        return 0\n",
    "\n",
    "    def sample_q2(x):\n",
    "        return x-1 + npr.standard_t(df=1)\n",
    "\n",
    "```\n",
    "\n",
    "Case 3:\n",
    "``` {python}\n",
    "    def ltarget3(x):\n",
    "        if np.abs(x)>.99 and np.abs(x) < 3:\n",
    "            return sps.norm.logpdf(x, 0, 1)\n",
    "        else:\n",
    "            return -np.inf\n",
    "\n",
    "    def eval_logq3(xp, x):\n",
    "        return 0\n",
    "\n",
    "    def sample_q3(x):\n",
    "        return x + npr.triangular(-2,0,2)\n",
    "```\n",
    "\n",
    "Case 4:\n",
    "``` {python}\n",
    "    def ltarget4(x):\n",
    "        if np.abs(x) < 10:\n",
    "            return sps.dgamma.logpdf(x,2)\n",
    "        elif np.abs(x) > 20 and np.abs(x) < 25:\n",
    "            return -np.inf\n",
    "        else:\n",
    "            return -np.abs(x)\n",
    "\n",
    "    def eval_logq4(xp, x):\n",
    "        return 0\n",
    "\n",
    "    def sample_q4(x):\n",
    "        return x + npr.uniform(-2, 2)\n",
    "```\n",
    "Case 5:\n",
    "``` {python}\n",
    "    def ltarget5(x):\n",
    "        return -np.abs(x+1)\n",
    "\n",
    "    def eval_logq5(xp, x):\n",
    "        return sps.norm.logpdf(xp,loc=x,scale=1)\n",
    "\n",
    "    def sample_q5(x):\n",
    "        return x + npr.exponential(scale=1e-2) - npr.exponential(scale=1e-2)\n",
    "```\n",
    "\n",
    "Case 6:\n",
    "``` {python}\n",
    "    def ltarget6(x):\n",
    "        return np.sin(np.mod(x,2))\n",
    "\n",
    "    def eval_logq6(xp, x):\n",
    "        return sps.norm.logpdf(xp,loc=x,scale=1e-1)\n",
    "\n",
    "    def sample_q6(x):\n",
    "        return x + npr.normal(0, 3e-2)\n",
    "```"
   ]
  },
  {
   "cell_type": "markdown",
   "metadata": {
    "tags": []
   },
   "source": [
    "### Your answer:\n",
    "\n",
    "Mark if the samplers will eventually converge to a proper target distribution by removing the wrong answer:\n",
    "1. no\n",
    "2. yes\n",
    "3. yes\n",
    "4. no\n",
    "5. yes\n",
    "6. yes\n",
    "\n",
    "Briefly justify your answers and explain how to fix the samplers that would not asymptotically converge to the correct distribution:\n",
    "\n",
    "Note: In questions 1 through 4, the proposals are all symmetrical, so the samplers match their respective log probability densities.\n",
    "\n",
    "1. The target distribution has a range defined in $(-\\pi, \\pi)$, but the proposal only produces samples within the interval $\\left[-\\frac{\\pi}{2}, \\frac{\\pi}{2}\\right)$. This means that the chain would NOT be able to explore the entire target distribution. The sampler is symmetric, so this is not something we can fix by modifying the `eval_logq1()` function, we must modify the sampler used.\n",
    "\n",
    "This can be solved by expanding the range of the proposal:\n",
    "``` {python}\n",
    "    def sample_q1(x):\n",
    "        return npr.uniform(-np.pi, np.pi)\n",
    "```\n",
    "Or by centering the new sample around x:\n",
    "``` {python}\n",
    "    def sample_q1(x):\n",
    "        return x + npr.uniform(-np.pi/2, np.pi/2)\n",
    "```\n",
    "2. Both the target and the proposal follow Student's t-distribution centered around `x-1`, with the only difference being the degrees of freedom, so the proposal covers the whole range of the target. This means that the chain will converge\n",
    "3. The target is defined in the range $(-3, -0.99)\\cup(0.99, 3)$. The proposal covers a range from `x-2` to `x+2`. So if, for example, the last sample `x` is between 0.99 and 1, it could *possibly* jump over to -1 (since $0.99-2=-1.01$), and then it is more likely that the proposal will sample in the range $(-3, -0.99)$. It can take a long while, but it will eventually converge.\n",
    "4. The target is defined in the range $(-\\infty, -25)\\cup(-20, 20)\\cup(25, +\\infty)$. The proposal is a uniform distribution of width 4 centered around x. This means that, for example if x were equal to 20, it wouldn't be able to jump to 25 as the most it could \"jump to the right\" on the real line is 2. In other words, it is not able to explore the whole range for which the target is defined. Again, the sampler is based on a symmetric distribution, so this is not something we can fix by modifying `eval_logq4()`. A simple way to fix this would to make the uniform distribution's width bigger, to a bit bigger than 10 (because numpy's uniform distribution excludes the right boundary):\n",
    "\n",
    "``` {python}\n",
    "    def sample_q4(x):\n",
    "        return x + npr.uniform(-5.1, 5.1)\n",
    "```\n",
    "\n",
    "5. The sampler `sample_q5(x)` is defined by the subtraction of two IID random variables that follow the exponential distribution, centered around x. This is the definition of a Laplace distribution centered around x, which is known to be a symmetric distribution. The PDF used in the function `eval_logq5()` doesn't match exactly the sampler, but it evaluates a normal distribution centered around x, which is also symmetric. Therefore, since the generated samples are symmetric, they will cancel out in the evaluation of the rejection criterion. This will converge, since the target distribution is defined for $\\mathbb{R}$ and the sampler covers all $\\mathbb{R}$.\n",
    "\n",
    "6. The target is defined for all $\\mathbb{R}$, the modulo of the argument is well defined for all real numbers with numpy's mod function. The sampler in `sample_q6(x)` draws samples from a normal distribution centered around x with a standard deviation of `3e-2`, which covers all the reals, so it covers the range of the target. The function `eval_logq6()` evaluates the log-PDF of a normal distribution centered around x with a standard deviation of `1e-1`. Similarly to the previous point, this means that the logq's will cancel out in the evaluation of the rejection criterion, since both the PDF and the sampler are symmetric. An important thing to notice here, though, is that the target is *not normalized*, so it does not represent a true probability distribution; its integral across all $\\mathbb{R}$ does not converge. This means that for the algorithm to converge to the target, an infinite number of samples and time are needed. In practice, since computers have limited precision, the sampler will converge since there is a limit to the samples that can be produced through double precision."
   ]
  },
  {
   "cell_type": "markdown",
   "metadata": {},
   "source": [
    " ## 2. Numerical computation of probabilities (COMPULSORY)\n",
    "\n",
    "For each of the cases below, write a function to compute the requested log-probability densities in a numerically stable manner. The functions will be tested on a number of inputs and the scoring depends on the number of cases handled correctly. The functions will only be tested with valid inputs satisfying the constraints defined below.\n",
    "\n",
    "*Note*: Your code may only use basic `numpy`, `scipy.special`, and `scipy.linalg` functions (including `numpy.linalg`, `scipy.special.gammaln()`, and `scipy.special.multigammaln()`).\n",
    "\n",
    "**Remember to make sure your code includes necessary imports to run without any additional interaction!**\n",
    "\n",
    "**Return your solution as a separate file `problem2.py` that contains the definitions of the two functions `lp1()` and `lp2()` as outlined below to Moodle. Your functions should return a single scalar value.**\n",
    "\n",
    "1. The log-probability density $\\log p(x \\mid \\boldsymbol{\\alpha}, \\boldsymbol{w})$ of a mixture of $K$ double gamma distributions with\n",
    "$$p(x \\mid \\boldsymbol{\\alpha}, \\boldsymbol{w}) = \\sum_{k=1}^K w_k  \\mathrm{DG}(x;\\; \\alpha_k) \n",
    "  = \\sum_{k=1}^K w_k \\frac{1}{2 \\Gamma\\left(\\alpha_k\\right)} |x|^{\\alpha_k - 1} \\exp\\left(-|x|\\right). $$\n",
    "Here $0 \\le w_i \\le 1$, $\\sum_{k=1}^K w_k = 1$, $x \\in \\mathbb R$, and $\\alpha_k > 0$.\n",
    "2. The log-probability density $\\log p(\\boldsymbol{x} \\mid \\boldsymbol{V},n)$ of the Wishart distribution with\n",
    "$$p(\\boldsymbol{x} \\mid \\boldsymbol{V}, n) = \\frac{|\\boldsymbol{x}|^{(n-p-1)/2}} {2^{np/2} |\\boldsymbol{V}|^{n/2} \\Gamma_p \\left(\\frac{n}{2} \\right) } \\exp\\left( \\frac{-\\text{Tr}(\\boldsymbol{V}^{-1}\\boldsymbol{x})}{2} \\right),$$\n",
    "where $\\boldsymbol{x}, \\boldsymbol{V} \\in \\mathbb R^{p\\times p}$ symmetric and positive definite, $n>p-1$ degrees of freedom, $\\Gamma_p$ is the multivariate gamma function and $\\text{Tr}$ is the matrix trace.\n",
    "\n",
    "*Notes and hints*:\n",
    "- To compute $\\text{Tr}(\\boldsymbol{V}^{-1}\\boldsymbol{x})$, one solution is to calculate the explicit inverse $\\boldsymbol{V}^{-1}$ via Cholesky decomposition, and then get the trace of matrix product efficiently via [einsum](https://numpy.org/doc/stable/reference/generated/numpy.einsum.html?highlight=einsum#numpy.einsum) without having to compute the diagonal values before the trace. You are welcome to do a more efficient implementation.\n",
    "- Ensure that you are returning the log probability and not the probability.\n",
    "- Check that your code is numerically stable and robust to extreme values of the inputs.\n",
    "- The `problem2.py` file should be a standard Python source file (i.e., text), not a Jupyter notebook.\n",
    "- Failure to follow the instructions for code submission (e.g., failing to submit the functions as a separate file called `problem2.py`) will result in zero points from this exercise."
   ]
  },
  {
   "cell_type": "code",
   "execution_count": 1,
   "metadata": {},
   "outputs": [],
   "source": [
    "# Write your functions lp1() and lp2() to replace the functions here. Do not change the names of the functions.\n",
    "# Then copy the content of this cell into a separate file named 'problem2.py' to be submitted separately on Moodle.\n",
    "# The file should include these import instructions and no others.\n",
    "\n",
    "import numpy as np\n",
    "import numpy.linalg as lg\n",
    "import scipy.linalg as slg\n",
    "import scipy.special as scs\n",
    "\n",
    "def lp1(x, alpha, w):\n",
    "    \"\"\"Returns log p(x | \\alpha, w).\n",
    "    Input:\n",
    "    x: double\n",
    "    alpha: np.array, shape: (n,)\n",
    "    w: np.array, shape: (n,)\n",
    "    \"\"\"\n",
    "    log_denom = np.log(2) + scs.gammaln(alpha) # Compute the log of the denominator of the sum\n",
    "    log_num = np.log(w) + np.log(np.power(np.abs(x), alpha-1)) - np.abs(x) # log of the numerator of the sum\n",
    "    return scs.logsumexp(log_num - log_denom) # Exponentiate the log of the sum term, sum over all the terms, and return the log probability\n",
    "\n",
    "# Helper function to calculate the log-determinant with the Cholesky decomposition\n",
    "def cholLogDet(A):\n",
    "    L = lg.cholesky(A)\n",
    "    return 2*np.sum(np.log(L.diagonal()))\n",
    "\n",
    "def lp2(x, V, n):\n",
    "    \"\"\"Returns log p(x | V, n)\n",
    "    Input:\n",
    "    x: np.array, shape: (d,d)\n",
    "    V: np.array, shape: (d,d)\n",
    "    n: double, n > d-1\n",
    "    \"\"\"\n",
    "    p = x.shape[0] # Determine p\n",
    "    \n",
    "    # Calculate the explicit inverse of L with the Cholesky approach\n",
    "    inv_chol_L = slg.solve_triangular(lg.cholesky(V), np.eye(p), lower=True)\n",
    "    inv_V = np.matmul(inv_chol_L.T, inv_chol_L)\n",
    "    \n",
    "    # Calculate the log of the numerator and denominator\n",
    "    log_num = 0.5*(n-p-1) * cholLogDet(x) - 0.5*np.einsum(\"ij, ij->\", inv_V.T, x)\n",
    "    log_denom = 0.5*n*p*np.log(2) + 0.5*n*cholLogDet(V) + scs.multigammaln(0.5*n, p)\n",
    "    \n",
    "    # Return the log probability\n",
    "    return log_num - log_denom\n"
   ]
  },
  {
   "cell_type": "code",
   "execution_count": 2,
   "metadata": {},
   "outputs": [
    {
     "name": "stdout",
     "output_type": "stream",
     "text": [
      "-2.093933725898135\n",
      "-3.637839915493556\n"
     ]
    }
   ],
   "source": [
    "# Example invocations of the functions, should return a single scalar value\n",
    "\n",
    "test1 = lp1(.5, np.array([2.,3.]), np.array([0.75, 0.25]))\n",
    "print(test1)\n",
    "\n",
    "test2 = lp2(np.eye(2)-.1, np.eye(2)+.1, 3.)\n",
    "print(test2)"
   ]
  },
  {
   "cell_type": "markdown",
   "metadata": {},
   "source": [
    "### Your textual answer explaining your solutions:\n",
    "\n",
    "#### Part 1\n",
    "To keep numerical stability within the sum, it is best to calculate the log of the terms to avoid issues with double precision. This can be done in a vectorized manner with numpy functions. Then, to avoid over- or underflows in the calculation of the sum, the logsumexp trick is used, which also gives the log probability in this case.\n",
    "\n",
    "#### Part 2\n",
    "To keep numerical stability in the calculation of the log probability, we can apply the log first to not calculate the division explicitly, which is prone to errors due to float precision. The log of the numerator and the denominator are calculated.\n",
    "\n",
    "We need the log of the determinant of a matrix for both $\\mathbf{x}$ and $\\mathbf{V}$, which are both symmetric and positive definite, so we can use the Cholesky decomposition to calculate it efficiently. This is done in the helper function `cholLogDet()`. This function implements the formula in section 3.2.1 of the course's source material.\n",
    "\n",
    "To calculate $\\text{Tr}(\\mathbf{V}^{-1}\\mathbf{x})$ we can use the Cholesky approach to calculate the explicit inverse first. We find a matrix $\\mathbf{B} \\in \\mathbb{R}^{p\\times p}$ such that $\\mathbf{LB}=\\mathbf{I}_{p}$, where $\\mathbf{L}$ is the Cholesky Decomposition of $\\mathbf{V}$. We get the inverse of $\\mathbf{L}$, from which we can get $\\mathbf{V}^{-1} = \\mathbf{L}^{-\\intercal}\\mathbf{L}^{-1}$. This inverse is calculated efficiently with the solution of a system of linear equations with a triangular matrix. Then, we can calculate the trace with the Einstein summation over the diagonals of $\\mathbf{V}^{-1}$ and $\\mathbf{x}$.\n",
    "\n",
    "With this, all that is left is to calculate the log terms on the numerator and the denominator, then return the resulting log probability."
   ]
  },
  {
   "cell_type": "markdown",
   "metadata": {},
   "source": [
    "## 3. Approximating an expectation (COMPULSORY)\n",
    "\n",
    "Develop a Monte Carlo method for approximately evaluating the expectation\n",
    "$$ V = \\mathbb{E}_{p(\\theta)}\\left[\\theta^2\\right] = \\int_{0}^{\\infty} p(\\theta) \\cdot \\theta^2 \\,\\mathrm{d}\\theta $$\n",
    "over the (normalised) distribution\n",
    "$$ p(\\theta) = \\frac{2}{3} \\exp\\left(-2\\sqrt{\\theta+1}+2\\right) \\quad   \\text{for} \\; \\theta \\ge 0, \\qquad p(\\theta) = 0 \\quad \\text{for} \\; \\theta < 0.$$\n",
    "\n",
    "1. You should provide an estimate of $V$ that has an error of at most $\\pm 10^{-2}$, but the method must allow increasing the accuracy if needed (typically using more computation).\n",
    "2. Report both your estimate of $V$ and a 95% confidence interval for the value.\n",
    "3. Write a brief explanation of the methods used, why you could apply them, and justify why your solution would converge to the correct value given enough computation.\n",
    "\n",
    "You may use `numpy`, `numpy.random`, `scipy.special`, `scipy.stats`, `matplotlib`, `autograd` and `torch` functions for the task.\n",
    "\n",
    "*Hints*: \n",
    "- You can get a 95% confidence interval by running your procedure $N$ times, reporting the mean as value and using plus/minus two times the standard error of the mean ($\\mathrm{SE} = \\sigma / \\sqrt{N}$) for the interval.\n",
    "- We saw many Monte Carlo methods in the course that could be used to compute this expectation, such as rejection sampling, importance sampling, various Markov Chain Monte Carlo techniques, etc. Pick the one you think would be most suitable here. There are no extra points for choosing an unnecessarily complex method, if a simple one is sufficient.\n",
    "- Whichever method you use, remember to fully justify the validity of your solution (depending on the chosen method, this might require diagnostics, referring to the theory, or both)."
   ]
  },
  {
   "cell_type": "code",
   "execution_count": 3,
   "metadata": {},
   "outputs": [
    {
     "name": "stdout",
     "output_type": "stream",
     "text": [
      "0.008932151979215649\n",
      "Estimated expectation:  12.832283136997935\n",
      "Standard error on the estimation with N=20:  0.0019972899010885477\n",
      "Ground truth:  (12.833333333333332, 4.981383311285319e-10)\n"
     ]
    }
   ],
   "source": [
    "%matplotlib inline\n",
    "import matplotlib.pyplot as plt\n",
    "import numpy as np\n",
    "import numpy.random as npr\n",
    "import scipy.stats\n",
    "\n",
    "from scipy.integrate import quad # Only used to calculate the ground truth of the problem\n",
    "\n",
    "def log_target(theta):\n",
    "    return np.log(2) - np.log(3) - 2*np.sqrt(theta + 1) + 2\n",
    "\n",
    "npr.seed(0)\n",
    "\n",
    "N = 20\n",
    "expectations = np.zeros(N)\n",
    "param = 1\n",
    "scale_param = 10\n",
    "\n",
    "for i in range(N):\n",
    "    x_fisk = scipy.stats.fisk.rvs(param, scale=scale_param, size=int(1e6))\n",
    "    is_weights = np.exp(log_target(x_fisk) - scipy.stats.fisk.logpdf(x_fisk, param, scale=scale_param))\n",
    "    expectations[i] = np.mean(x_fisk**2 * is_weights)\n",
    "\n",
    "mean_importance = expectations.mean()\n",
    "print(expectations.std())\n",
    "standard_error = expectations.std()/np.sqrt(N)\n",
    "\n",
    "conf_interval = [mean_importance - 2*standard_error, mean_importance + 2*standard_error]\n",
    "\n",
    "ground_truth = quad(lambda x: np.exp(log_target(np.array([x])))*x**2, 0, np.inf)\n",
    "\n",
    "print(\"Estimated expectation: \", mean_importance)\n",
    "print(\"Standard error on the estimation with N=20: \", standard_error)\n",
    "print(\"Ground truth: \", ground_truth)"
   ]
  },
  {
   "cell_type": "markdown",
   "metadata": {},
   "source": [
    "#### Write your numerical answer below and its 95% confidence interval"
   ]
  },
  {
   "cell_type": "code",
   "execution_count": 4,
   "metadata": {},
   "outputs": [
    {
     "name": "stdout",
     "output_type": "stream",
     "text": [
      "V: 12.832283136997935\n",
      "95% confidence interval: [12.828288557195759, 12.836277716800112]\n"
     ]
    }
   ],
   "source": [
    "v_value = mean_importance # do not hard-code the number: assign the variable used in your previous computations\n",
    "print('V: {}'.format(v_value))\n",
    "\n",
    "v_ci = conf_interval # do not hard-code the number: assign the variable used in your previous computations\n",
    "print('95% confidence interval: {}'.format(v_ci))"
   ]
  },
  {
   "cell_type": "markdown",
   "metadata": {},
   "source": [
    "### Explanation of your solution and justification of its correctness\n",
    "\n",
    "An importance sampler is used, with a surrogate log-logistic or Fisk distribution. From scipy's documentation, the Fisk distribution has the PDF:\n",
    "\n",
    "$$g(x; c) = \\frac{cx^{c-1}}{(1+x^c)^2}$$\n",
    "\n",
    "With shape parameter $c$. Notice that if we set $c=1$, we get the following PDF:\n",
    "\n",
    "$$g(x; 1) = \\frac{1}{(1+x)^2}$$\n",
    "\n",
    "From the lecture notes, if we have a target with PDF $f(x)$, a surrogate distribution with pdf $g(x)$ and an arbitrary function $h(x)$ for which we wish to calculate the expectation, we need the following condition:\n",
    "\n",
    "$$g(x) = 0 \\Rightarrow h(x)f(x) = 0$$\n",
    "\n",
    "In this case, $g(x)$ approaches 0 only as $x\\rightarrow\\infty$, so the condition holds. It is also stated that to have low variance in the estimation, two conditions should be met:\n",
    "\n",
    "$$\\mathbb{V}_{f} \\left[ h(X) \\right] < \\infty, \\hspace{2em} \\frac{f(x)}{g(x)} < M \\forall x$$\n",
    "\n",
    "For some $M>0$. For this exercise, we will use only the second condition as diagnostic for variance of the estimator. We have:\n",
    "\n",
    "$$\\frac{f(x)}{g(x)} = \\frac{2}{3}e^{-2\\sqrt{x+1}+2}(1+x)^2$$\n",
    "\n",
    "Both functions are well defined for the range $x\\in [0, +\\infty]$, and the exponential function dominates the asymptotic behavior as $x\\rightarrow\\infty$. This is confirmed through the use of Wolfram Alpha through the calculation of $\\lim_{x\\to\\infty}\\frac{f(x)}{g(x)} = 0$.\n",
    "\n",
    "The condition for using importance sampling is met, and the diagnostic of the constant M implies that the estimator will have low variance. This justifies the correctness of the approach used. To verify the result, the ground truth of the expected value is calculated with scipy's `quad` function from the `integrate` module. Integrating over the target function, we see that the ground truth for the expected value is approximately $12.833$. The calculated value is relatively close, and the ground truth is contained within the 95% confidence interval, which validates the approach taken."
   ]
  },
  {
   "cell_type": "markdown",
   "metadata": {},
   "source": [
    "---\n",
    "\n",
    "## OPTIONAL PROBLEMS: CHOOSE 2 OUT OF 3\n",
    "---\n",
    "\n",
    "Please note that answering all three problems will not give you extra points.\n",
    "\n",
    "However, if you decide to return three problems, the problem with the lowest score out of the three will be discarded."
   ]
  },
  {
   "cell_type": "markdown",
   "metadata": {},
   "source": [
    "## 4. Resampling for automatic testing of exercise solutions\n",
    "\n",
    "A teacher of a course in computational statistics is developing exercises for the students. The exercises are checked by an automated system that can be set to accept answers falling to a specified interval $[l, u]$. The exercises involve randomness so the lecturer cannot be certain what values the students will get. The teacher wants to set up the system so that it will accept the solutions obtained by the students after running a given number of iterations with a high probability.\n",
    "\n",
    "In one specific exercise task, the students are studying the bootstrap confidence intervals of the *skewness* of a set of $N$ numbers $X = \\{ x_1, \\dots, x_N \\}$. For more information about the skewness of a distribution, see [here](https://en.wikipedia.org/wiki/Skewness) (but details are not needed for this problem). \n",
    "\n",
    "Roughly speaking, negative skewness indicates that the left tail of a distribution contains more mass than the right one, and vice versa for positive skewness. Finally, zero skewness means that both tails are evenly balanced. It is often used to indicate deviation from Gaussianity, since any symmetric distribution like the normal has zero skewness.\n",
    "\n",
    "The students are told to use the following (biased) estimator of the skewness:\n",
    "\n",
    "$$\\textrm{Skew}[X] = \\frac{\\mu_3}{\\sigma^3}  = \\frac{ \\frac{1}{N} \\sum_{n=1}^N (x_n - \\mu)^3}{\\left( \\frac{1}{N}\\sum_{n=1}^N (x_n - \\mu)^2\\right)^{3/2}},\n",
    "\\quad \\text{where } \\mu = \\frac{1}{N} \\sum_{n=1}^N x_n.$$\n",
    "The students' task is to draw 1000 bootstrap samples and estimate the central 95% confidence interval of the skewness from the samples.\n",
    "\n",
    "Your task is to develop a resampling method the teacher could use to accurately estimate central 95% confidence intervals for the end points of the confidence intervals the students will obtain from their simulation. The teacher has limited computational resources and the data set is big, so they can only estimate $\\textrm{Skew}$ for at most 10000 bootstrapped sets of the original data similar to the ones the students are using, but can perform futher computation on scalar values computed from these sets.\n",
    "\n",
    "1. Implement the student bootstrap solution. What is the confidence interval you obtain for the data set loaded below?\n",
    "2. Independently of your solution above, implement the teacher checker. Remember to respect the limits on computation but try to find the most accurate possible solution within these limits. Test your solution on the data set loaded below and report the confidence intervals obtained for the lower and upper ends of the confidence intervals obtained by the students.\n",
    "\n",
    "Remember to briefly explain the outline of your solution and to justify why it works.\n",
    "\n",
    "You may use basic `numpy`, `numpy.random`, `matplotlib` and `pandas` functions for the task."
   ]
  },
  {
   "cell_type": "code",
   "execution_count": 5,
   "metadata": {},
   "outputs": [
    {
     "name": "stdout",
     "output_type": "stream",
     "text": [
      "[-0.35441331 -0.27472859]\n",
      "[0.56460928 0.64233206]\n"
     ]
    }
   ],
   "source": [
    "import pandas as pd\n",
    "import numpy as np\n",
    "import numpy.random as npr\n",
    "\n",
    "p2_data = pd.read_csv('https://www2.helsinki.fi/sites/default/files/atoms/files/toydata2.txt', header=None).values[:,0]\n",
    "# print(np.mean(p2_data), np.std(p2_data))\n",
    "\n",
    "\"\"\" PART 1\"\"\"\n",
    "def skew(x):\n",
    "    \"\"\"Calculate the skewness on a dataset x\"\"\"\n",
    "    N = x.size # Size of the dataset\n",
    "    mu = np.mean(x) # Mean of the dataset\n",
    "    \n",
    "    # Calculate the numerator and denominator of the estimator\n",
    "    num = np.sum(np.power(x - mu, 3)) / N\n",
    "    den = np.power(np.sum(np.power(x - mu, 2)) / N, 1.5)\n",
    "    \n",
    "    # Return the estimation\n",
    "    return num/den\n",
    "\n",
    "def bootstrap(data, n_bootstrap, statistic, conf=0.95, return_sample = False):\n",
    "    \"\"\"Compute confidence interval of a given statistic (a function) via bootstrap.\"\"\"\n",
    "    n = len(data)\n",
    "    bootstrap = np.array([statistic(npr.choice(data, replace=True, size=n)) for i in range(n_bootstrap)])\n",
    "    confidence = np.percentile(bootstrap, [50 - 100*(conf/2), 50 + 100*(conf/2)])\n",
    "    if return_sample:\n",
    "        return confidence, bootstrap\n",
    "    return confidence\n",
    "\n",
    "npr.seed(42)\n",
    "\n",
    "student_conf = bootstrap(p2_data, 1000, skew)\n",
    "\n",
    "\"\"\" PART 2 \"\"\"\n",
    "def calculate_ci_set(sample, partition_size = 10):\n",
    "    partitions = np.split(sample_10k_skew, partition_size)\n",
    "    return np.array( [np.percentile(partition, [2.5, 97.5]) for partition in partitions])\n",
    "\n",
    "_, sample_10k_skew = bootstrap(p2_data, 10000, skew, return_sample=True)\n",
    "\n",
    "n_conf_intervals = 1000\n",
    "\n",
    "conf_intervals = np.zeros((n_conf_intervals, 2))\n",
    "\n",
    "for i in range(n_conf_intervals//10):\n",
    "    npr.shuffle(sample_10k_skew)\n",
    "    conf_intervals[i*10:i*10+10, :] = calculate_ci_set(sample_10k_skew, 10)\n",
    "\n",
    "lower_bound_ci = np.percentile(conf_intervals[:, 0], [2.5, 97.5])\n",
    "upper_bound_ci = np.percentile(conf_intervals[:, 1], [2.5, 97.5])\n",
    "\n",
    "print(lower_bound_ci)\n",
    "print(upper_bound_ci)"
   ]
  },
  {
   "cell_type": "markdown",
   "metadata": {},
   "source": [
    "#### Write your numerical answer to part 1 below: what's the 95% confidence interval?"
   ]
  },
  {
   "cell_type": "code",
   "execution_count": 6,
   "metadata": {},
   "outputs": [
    {
     "name": "stdout",
     "output_type": "stream",
     "text": [
      "95% confidence interval (students task): [-0.34449029  0.59255209]\n"
     ]
    }
   ],
   "source": [
    "skew_ci = student_conf # do not hard-code the number: assign the variable used in your previous computations\n",
    "print('95% confidence interval (student''s task): {}'.format(skew_ci))"
   ]
  },
  {
   "cell_type": "markdown",
   "metadata": {},
   "source": [
    "#### Write your numerical answer to part 2 below: what are the 95% confidence intervals for the lower and upper confidence intervals obtained by the students?"
   ]
  },
  {
   "cell_type": "code",
   "execution_count": 7,
   "metadata": {},
   "outputs": [
    {
     "name": "stdout",
     "output_type": "stream",
     "text": [
      "95% confidence interval on lower confidence interval: [-0.35441331 -0.27472859]\n",
      "95% confidence interval on upper confidence interval: [0.56460928 0.64233206]\n"
     ]
    }
   ],
   "source": [
    "skew_lower_ci_ci = lower_bound_ci # do not hard-code the number: assign the variables used in your previous computations\n",
    "skew_upper_ci_ci = upper_bound_ci # do not hard-code the number: assign the variables used in your previous computations\n",
    "\n",
    "print('95% confidence interval on lower confidence interval: {}'.format(skew_lower_ci_ci))\n",
    "print('95% confidence interval on upper confidence interval: {}'.format(skew_upper_ci_ci))"
   ]
  },
  {
   "cell_type": "markdown",
   "metadata": {},
   "source": [
    "### Your textual answer explaining your solutions:\n",
    "\n",
    "#### Part 1\n",
    "\n",
    "In this part, the data of interest is the dataset given of size 50. We wish to get the 95% confidence interval on its estimated skewness. For this, the `skew()` function implements the formula given in the exercise for skewness, while the `bootstrap()` function performs the bootstrap sampling. This function is adapted from lecture 4; it performs `n_bootstrap` amount of estimations of the `statistic` of interest on different permutations with replacement of `data`, after which it returns the confidence interval estimated with percentiles and, if the user specifies it with `return_sample`, the sets of statistics generated from the bootstrap. Using `bootstrap(p2_data, 1000, skew)` we're calculating the 95% confidence interval of the values of `skew()` calculated from 1000 permutations of the data.\n",
    "\n",
    "#### Part 2\n",
    "\n",
    "Here, our data of interest is *the confidence intervals generated by a student with 1000 bootstrap permutations*. The teacher can estimate skew for at most 10000 bootstrapped sets, which may be seen as 10 different bootstrap samples similar to the ones drawn by the student. An important thing to notice is that each of the 10000 sets is individual from each other, so they could have happened in any order, not just the original order estimated by the teacher. From these facts, we can follow these steps to estimate a confidence interval on the lower and upper bounds:\n",
    "\n",
    "1. Permute the 10000 bootstrap samples `sample_10k_skew` with `npr.shuffle()`\n",
    "2. Split the array of 10000 permuted skewness estimations into 10 sets of 1000 bootstrap samples similar to the one drawn by the student with `np.split()`\n",
    "3. Estimate the confidence interval on each of the 10 sets with percentiles, similar to the student solution. This yields 10 confidence intervals\n",
    "4. Repeat 1-3 until you get 1000 confidence intervals\n",
    "5. From the 1000 confidence intervals calculated, estimate the 95% confidence intervals on the lower and upper bounds. The lower bounds estimated can be grouped into one array and the upper bounds into another, and then from each array we can get the 2.5th and 97.5th percentiles to get an estimate of the 95% confidence interval of each bound\n",
    "\n",
    "This is basically a bootstrap approach to estimate true 95% confidence intervals on our data, where our statistic of interest is the percentiles for the confidence intervals. When we permute the 10000 teacher samples, we virtually get 10 new observations that a student could have estimated, out of which we can estimate 10 new confidence intervals. We can repeat this process until we get a sufficient amount of confidence intervals to estimate the teacher confidence intervals on the lower and upper bounds, which is done with percentiles."
   ]
  },
  {
   "cell_type": "markdown",
   "metadata": {},
   "source": [
    "## 5. MCMC sampling and convergence\n",
    "\n",
    "Implement a random walk Metropolis-Hastings MCMC sampler for the following model. Tune your sampler to work efficiently, and briefly justify and explain how you did this. **Carefully check the convergence of your sampler with adequate diagnostics** and briefly justify and explain how you did this.\n",
    "\n",
    "As our model we will consider a logistic regression model fitted to the observations $((\\boldsymbol{x}_1, y_1), (\\boldsymbol{x}_2, y_2), \\dots, (\\boldsymbol{x}_N, y_N))$. The code below will load the matrix $\\boldsymbol{x}$ (each row is one sample) and vector $\\boldsymbol{y}$.\n",
    "\n",
    "The values $\\boldsymbol{x}_1, \\dots, \\boldsymbol{x}_N$ are the *input values* and $y_1, \\dots, y_N$ are the binary *target values*.\n",
    "\n",
    "The data set comes from the Framingham Heart Study. The target variable (HAS_CHD) indicates whether the subject was diagnosed with heart disease. The input variables are in order:\n",
    "  1. systolic blood pressure (SBP),\n",
    "  2. diastolic blood pressure (DBP),\n",
    "  3. number of cigarettes smoked per day (CIG), and \n",
    "  4. age (AGE).\n",
    "\n",
    "The loading code normalises these to have zero mean and standard deviation $1/2$ to get the regression coefficients to a shared scale.\n",
    "\n",
    "The logistic regression model is defined with the help of a logistic link function\n",
    "$$ h_{\\beta_0, \\boldsymbol{\\beta}}(\\boldsymbol{x}_n) = \\frac{1}{1 + e^{-(\\beta_0 + x_{n1} \\beta_1 + \\dots + x_{n4} \\beta_4})}, $$\n",
    "where $\\beta_0$ is the intercept of the model and $\\boldsymbol{\\beta} = (\\beta_1, \\dots, \\beta_4)$ are the regression coefficients.\n",
    "The likelihood of the model is\n",
    "$$ p(\\boldsymbol{y} \\mid \\boldsymbol{x}, \\beta_0, \\boldsymbol{\\beta}) = \\prod_{n=1}^N h_{\\beta_0,\\boldsymbol{\\beta}}(\\boldsymbol{x}_n)^{y_n} (1 - h_{\\beta_0,\\boldsymbol{\\beta}}(\\boldsymbol{x}_n))^{(1-y_n)}. $$\n",
    "\n",
    "The regression weights $\\beta_0$ and $\\boldsymbol{\\beta}$ have the hierarchical prior\n",
    "$$ p(\\beta_j) = \\mathcal{N}(\\beta_j;\\; 0, \\sigma_{\\beta}^2), \\quad j = 0, 1, \\dots, 4, $$\n",
    "where $\\sigma_{\\beta}$ is the standard deviation of the prior of $\\beta_j$ with the prior \n",
    "$$ p(\\sigma_{\\beta}) = \\chi^2(df = 5), $$ \n",
    "a chi-squared distribution with degrees of freedom $df=5$.\n",
    "\n",
    "\n",
    "The full set of model parameters to infer is thus $\\theta = (\\sigma_{\\beta}, \\beta_0, \\beta_1, \\dots, \\beta_4)$. Note that $\\sigma_{\\beta} > 0$, while $\\beta_0, \\beta_1, \\ldots, \\beta_4 \\in (-\\infty, \\infty)$.\n",
    "\n",
    "Write an MCMC sampler to sample from the joint posterior distribution $p(\\theta \\mid \\boldsymbol{x}, \\boldsymbol{y}) = p(\\sigma_{\\beta}, \\beta_0, \\beta_1, \\dots, \\beta_4 \\mid \\boldsymbol{x}, \\boldsymbol{y})$ of all model parameters $\\theta$.\n",
    "Compute and print the posterior medians as well as 25% and 75% quantiles of the marginal posteriors of each parameter (also known as interquartile range).\n",
    "Plot scatter plots with 1000 representative points from the pairwise marginal distributions of all pairs of parameters. Are some pairs of parameters unusually strongly correlated?\n",
    "\n",
    "You may use `numpy`, `numpy.random`, `pandas`, `scipy.special`, `scipy.stats` and `matplotlib` functions for the task.\n",
    "\n",
    "*Hint*: You can use `scipy.stats.chi2` for the chi-squared distribution."
   ]
  },
  {
   "cell_type": "code",
   "execution_count": 8,
   "metadata": {},
   "outputs": [],
   "source": [
    "%matplotlib inline\n",
    "import numpy as np\n",
    "import numpy.random as npr\n",
    "import pandas as pd\n",
    "import matplotlib.pyplot as plt\n",
    "\n",
    "heart_data = pd.read_csv('https://www2.helsinki.fi/sites/default/files/atoms/files/heart_data.txt', sep='\\t')\n",
    "# Extract input variables\n",
    "p4_x = heart_data[['SBP', 'DBP', 'CIG', 'AGE']].values.astype(float)\n",
    "# Extract target variable\n",
    "p4_y = heart_data['HAS_CHD'].values.astype(float)\n",
    "# Remove mean from inputs\n",
    "p4_x -= np.mean(p4_x, 0)\n",
    "# Standardise input variance\n",
    "p4_x /= 2*np.std(p4_x, 0)"
   ]
  },
  {
   "cell_type": "markdown",
   "metadata": {},
   "source": [
    "#### Write your numerical answers below:"
   ]
  },
  {
   "cell_type": "code",
   "execution_count": 9,
   "metadata": {},
   "outputs": [
    {
     "name": "stdout",
     "output_type": "stream",
     "text": [
      "Posterior medians (50% quantiles): [nan nan nan nan nan nan]\n",
      "Posterior 25% quantiles: [nan nan nan nan nan nan]\n",
      "Posterior 75% quantiles: [nan nan nan nan nan nan]\n"
     ]
    }
   ],
   "source": [
    "posterior_median = np.nan * np.ones(6) # do not hard-code the number: assign the variables used in your previous computations\n",
    "posterior_lower = np.nan * np.ones(6) # do not hard-code the number: assign the variables used in your previous computations\n",
    "posterior_upper = np.nan * np.ones(6) # do not hard-code the number: assign the variables used in your previous computations\n",
    "\n",
    "print('Posterior medians (50% quantiles): {}'.format(posterior_median))\n",
    "print('Posterior 25% quantiles: {}'.format(posterior_lower))\n",
    "print('Posterior 75% quantiles: {}'.format(posterior_upper))"
   ]
  },
  {
   "cell_type": "markdown",
   "metadata": {},
   "source": [
    "### Justification/explanation for tuning of the sampler:\n",
    "\n",
    "*Replace this with your explanation*."
   ]
  },
  {
   "cell_type": "markdown",
   "metadata": {},
   "source": [
    "### Justification/explanation for the convergence checking:\n",
    "\n",
    "*Replace this with your explanation*."
   ]
  },
  {
   "cell_type": "markdown",
   "metadata": {},
   "source": [
    "## 6. Variational inference of a multivariate mixture distribution\n",
    "\n",
    "In this exercise you are asked to use variational inference to approximate a target density $p(\\boldsymbol{\\theta})$ with a variational approximation $q(\\boldsymbol{\\theta})$, with $\\boldsymbol{\\theta} = (\\theta_1, \\theta_2) \\in \\mathbb{R}^2$.\n",
    "\n",
    "The target density is a mixture of $K = 4$ products of [shifted (or non-standardized) Students' t distributions](https://docs.scipy.org/doc/scipy/reference/generated/scipy.stats.t.html) (each dimension of a mixture component has an independent shifted Student's t) defined as follows:\n",
    "$$\n",
    "p(\\boldsymbol{\\theta}; \\boldsymbol{\\mu}_1, \\ldots, \\boldsymbol{\\mu}_K, \\boldsymbol{\\nu}, \\boldsymbol{w}) = \\sum_{k=1}^K w_k \\prod_{d=1}^2 t_{\\nu_{k}}\\left(\\theta_d; \\mu_{k,d} \\right)\n",
    "$$\n",
    "where $\\nu_k$ are degrees of freedom for each component, $\\mu_{k,d}$ are the location parameters for each shift, and the mixture parameters are the following:\n",
    "- $\\boldsymbol{\\mu}_1 = (-4, 2)$, $\\boldsymbol{\\mu}_2 = (-2, -3.5)$, $\\boldsymbol{\\mu}_3 = (0, 0)$, $\\boldsymbol{\\mu}_4 = (3, 4)$\n",
    "- $\\boldsymbol{\\nu} = (40,45,3,30)$\n",
    "- $\\boldsymbol{w} = (0.3,0.21,0.08,0.41)$\n",
    "\n",
    "As variational distribution we will use a product of independent distributions,\n",
    "\n",
    "$$q(\\boldsymbol{\\theta}) = q(\\theta_1) \\cdot q(\\theta_2)$$\n",
    "\n",
    "where  $q(\\theta_1)$ and $q(\\theta_2)$ are normal distributions. Fit the variational approximation $q(\\boldsymbol{\\theta})$ to the density $p(\\boldsymbol{\\theta})$. Please note that the independence assumption above is equivalent to saying that $q(\\boldsymbol{\\theta})$ is a multivariate normal with diagonal covariance matrix $\\boldsymbol{\\Sigma}$.\n",
    "\n",
    "For the best variational solution you find (according to the ELBO), report the means and standard deviations of $q(\\theta_1)$ and $q(\\theta_2)$ and its ELBO. Describe how you validated your results and discuss your observations.\n",
    "\n",
    "You may use `numpy`, `numpy.random`, `scipy.special`, `scipy.stats`, `matplotlib` functions for the task, and any linear algebra function you may need (e.g., `numpy.linalg`). You may use `autograd` and `torch`.\n",
    "\n",
    "*Hint*: Use the formula of the ELBO found in section 0 of the Lecture 11 class tasks.\n",
    "\n",
    "[//]: # ($$\\log{\\left(w_k \\prod_{d=1}^2 t_{\\nu_{k}}\\left(\\theta_d; \\mu_{k,d} \\right)\\right)} = \\log{w_k} + \\sum_{d=1}^2 \\log{t_{\\nu_{k}}\\left(\\theta_d; \\mu_{k,d} \\right)}$$)"
   ]
  },
  {
   "cell_type": "code",
   "execution_count": 10,
   "metadata": {
    "tags": []
   },
   "outputs": [
    {
     "data": {
      "image/png": "[encoded data removed]",
      "text/plain": [
       "<Figure size 432x288 with 1 Axes>"
      ]
     },
     "metadata": {
      "needs_background": "light"
     },
     "output_type": "display_data"
    },
    {
     "data": {
      "image/png": "[encoded data removed]",
      "text/plain": [
       "<Figure size 432x288 with 1 Axes>"
      ]
     },
     "metadata": {
      "needs_background": "light"
     },
     "output_type": "display_data"
    },
    {
     "name": "stdout",
     "output_type": "stream",
     "text": [
      "Best m for ELBO:  [2.96340888 3.92934067]\n",
      "Best c for ELBO:  [1.00833229 1.05656051]\n",
      "Best ELBO found:  -0.8796953678299704\n"
     ]
    }
   ],
   "source": [
    "%matplotlib inline\n",
    "import matplotlib.pyplot as plt\n",
    "import autograd\n",
    "import autograd.numpy as np\n",
    "import autograd.numpy.random as npr\n",
    "import autograd.scipy.special as scs\n",
    "import autograd.scipy.stats as stats\n",
    "import autograd.scipy.integrate as integrate\n",
    "\n",
    "# Define constants for mixture distribution\n",
    "mu_mix = np.array([[-4.0, 2.0],\n",
    "                   [-2.0, -3.5],\n",
    "                   [0.0, 0.0],\n",
    "                   [3.0, 4.0]])\n",
    "nu_mix = np.array([40.0, 45.0, 3.0, 30.0])\n",
    "w_mix = np.array([0.3, 0.21, 0.08, 0.41])\n",
    "\n",
    "def lnormpdf(x, mu, sigma):\n",
    "    \"\"\"Log pdf of normal distribution with mean mu and standard deviation sigma.\"\"\"\n",
    "    return -0.5*np.log(2*np.pi*sigma**2) - 0.5*(x-mu)**2/sigma**2\n",
    "\n",
    "def dsvi(sample_z, m0, c0, gradient, rho_0, record_history = False, niters=10000):\n",
    "    \"\"\"Doubly stochastic variational inference from\n",
    "    Algorithm 1 of Titsias and Lázaro-Gredilla (2014)\"\"\"\n",
    "    m = m0\n",
    "    c = c0\n",
    "    if record_history:\n",
    "        mhist = np.zeros((niters, len(m0)))\n",
    "        chist = np.zeros((niters, len(c0)))\n",
    "    for t in range(niters):\n",
    "        z = sample_z(size=2)\n",
    "        theta = c*z + m\n",
    "        g = gradient(theta)\n",
    "        m = m + rho_0/(100 + t) * g\n",
    "        c = c + rho_0/(100 + 2) * (g * z + 1/c)\n",
    "        if record_history:\n",
    "            mhist[t] = m\n",
    "            chist[t] = np.abs(c)\n",
    "    if record_history:\n",
    "        return m, np.abs(c), mhist, chist\n",
    "    return m, np.abs(c)\n",
    "\n",
    "def logTargetDSVI(theta, mu = mu_mix, nu = nu_mix, w = w_mix):\n",
    "    \"\"\"Log pdf of the target distribution for DSVI gradient\"\"\"\n",
    "    sum_log = stats.t.logpdf(theta[0], nu, loc=mu[:, 0]) + \\\n",
    "              stats.t.logpdf(theta[1], nu, loc=mu[:, 1])\n",
    "    return scs.logsumexp (np.log(w) + sum_log, axis=0)\n",
    "\n",
    "def logTargetELBO(theta, mu = mu_mix, nu = nu_mix, w = w_mix):\n",
    "    \"\"\"Log pdf of the target distribution for ELBO Monte Carlo calculation\"\"\"\n",
    "    sum_log = np.zeros(theta.shape[0])\n",
    "    for i in range(4):\n",
    "        sum_log += np.exp(stats.t.logpdf(theta[:, 0], nu[i], loc=mu[i][0]) + \n",
    "                   stats.t.logpdf(theta[:, 1], nu[i], loc=mu[i][1]) + \n",
    "                   np.log(w[i]))\n",
    "    return np.log(sum_log)\n",
    "\n",
    "def estimate_elbo(m,c,logp,ns=int(1e6)):\n",
    "    \"\"\"Estimate ELBO via Monte Carlo.\"\"\"  # Could you use other methods here?\n",
    "    # ELBO = E_q[log p] - E_q[log q]\n",
    "    H = stats.multivariate_normal.entropy(mean=np.zeros(2), cov=np.eye(2))\n",
    "    x = np.multiply(c, npr.randn(ns, 2)) + m\n",
    "    return np.mean(logp(x)) + np.sum(np.log(c)) + H\n",
    "\n",
    "def plot_utility(history):\n",
    "    plt.plot(history)\n",
    "    plt.xlabel('Iterations')\n",
    "    plt.ylabel('Measure of components')\n",
    "    plt.show()\n",
    "    return\n",
    "\n",
    "def explore_wide_range_elbo(logTarget=logTargetDSVI, N_search = 10, change_m = False):\n",
    "    \"\"\"Function for initial parameter exploration. Looks for parameters that maximize the ELBO of the log target\n",
    "    In a range defined by N_search. The parameter change_m defines which parameter is fixed; if true, c is fixed\n",
    "    and the ELBO maximization is done by varying the value of m, otherwise m is fixed and ELBO maximization is\n",
    "    done through variation in c\n",
    "    RETURN VALUE: A tuple with the maximum ELBO estimated and the corresponding m or c\"\"\"\n",
    "    opt_elbo = -np.inf\n",
    "    opt_space = np.zeros(2)\n",
    "    if change_m:\n",
    "        # Search space for maximization of parameters for m\n",
    "        prob_space_0 = np.linspace(-N_search, N_search, 2*N_search)\n",
    "        prob_space_1 = np.linspace(-N_search, N_search, 2*N_search)\n",
    "        \n",
    "        for m0 in prob_space_0:\n",
    "            for m1 in prob_space_1:\n",
    "                tested_vars = np.array([m0, m1])\n",
    "                m, c = dsvi(lambda size: npr.normal(size=size), tested_vars, np.ones(2), autograd.grad(logTarget), 0.6, niters=500) # c0 is fixed to [1,1]. To start in another point, change it manually here\n",
    "                elbo_estimated = estimate_elbo(m, c, logTargetELBO, 500)\n",
    "                if opt_elbo < elbo_estimated:\n",
    "                    opt_elbo = elbo_estimated\n",
    "                    opt_space = m\n",
    "    else:\n",
    "        # Search space for maximization of parameters for c. Since the absolute value of C is taken, we limit the\n",
    "        # search to positives\n",
    "        prob_space_0 = np.linspace(1, N_search, N_search)\n",
    "        prob_space_1 = np.linspace(1, N_search, N_search)\n",
    "        \n",
    "        for c0 in prob_space_0:\n",
    "            for c1 in prob_space_1:\n",
    "                tested_vars = np.array([c0, c1])\n",
    "                m, c = dsvi(lambda size: npr.normal(size=size), np.zeros(2), tested_vars, autograd.grad(logTarget), 0.6, niters=500) # m0 is fixed to [0,0]. To start in another point, change it manually here\n",
    "                elbo_estimated = estimate_elbo(m, c, logTargetELBO, 500)\n",
    "                if opt_elbo < elbo_estimated:\n",
    "                    opt_elbo = elbo_estimated\n",
    "                    opt_space = c\n",
    "    return opt_elbo, opt_space\n",
    "\n",
    "npr.seed(0)\n",
    "m0 = np.array( [ 3.06, 4.08 ] )\n",
    "c0 = np.array( [ 2.3, 2.6 ] )\n",
    "m, c, mv, cv = dsvi(lambda size: npr.normal(size=size), m0, c0, autograd.grad(logTargetDSVI), 0.5, True)\n",
    "\n",
    "plot_utility(mv)\n",
    "plot_utility(cv)\n",
    "\n",
    "best_elbo = estimate_elbo(m,c,logTargetELBO)\n",
    "\n",
    "print(\"Best m for ELBO: \", m)\n",
    "print(\"Best c for ELBO: \", c)\n",
    "print(\"Best ELBO found: \", best_elbo)"
   ]
  },
  {
   "cell_type": "code",
   "execution_count": 11,
   "metadata": {
    "tags": []
   },
   "outputs": [],
   "source": [
    "\"\"\" \n",
    "EXPLORATORY SEARCH FOR RANGE OF VALUES THAT MAXIMIZE ELBO\n",
    "\n",
    "UNCOMMENT THE CODE IN THIS CELL TO LOOK FOR ELBO ESTIMATES IN A RANGE OF VALUES BETWEEN -10 AND 10\n",
    "FOR BOTH M AND C. THE FUNCTION explore_wide_range_elbo() IS SLOW, SO IT IS RAN LITTLE TIMES TO FIND A\n",
    "ROUGH VALUE FOR M AND C TO FINE TUNE LATER\n",
    "\"\"\"\n",
    "npr.seed(0)\n",
    "# m_elbo, m = explore_wide_range_elbo(change_m = True)\n",
    "# print(m_elbo, m)\n",
    "# c_elbo, c = explore_wide_range_elbo(change_m = False)\n",
    "# print(c_elbo, c)"
   ]
  },
  {
   "cell_type": "code",
   "execution_count": 12,
   "metadata": {},
   "outputs": [
    {
     "data": {
      "image/png": "[encoded data removed]",
      "text/plain": [
       "<Figure size 1080x1080 with 1 Axes>"
      ]
     },
     "metadata": {
      "needs_background": "light"
     },
     "output_type": "display_data"
    }
   ],
   "source": [
    "def visualize_fit():\n",
    "    \"\"\"VISUALIZATION OF THE FIT WITH THE TARGET MIXTURE DISTRIBUTION\"\"\"\n",
    "    n = 100\n",
    "    X = np.linspace(-7, 7, n)\n",
    "    Y = np.linspace(-7, 7, n)\n",
    "\n",
    "    # Meshgrid and evaluation of the target and the multivariate normal distributions to visualize the fit\n",
    "    X, Y = np.meshgrid(X,Y)\n",
    "    Z_target = np.zeros( (n, n) )\n",
    "    Z_q = np.zeros( (n, n) )\n",
    "    for i in range(n):\n",
    "        for j in range(n):\n",
    "            Z_target[i][j] = np.exp(logTargetDSVI( np.array([X[i][j], Y[i][j]])))\n",
    "            Z_q[i][j] = stats.multivariate_normal.pdf( np.array([X[i][j], Y[i][j]]), mean=m, cov=np.diag(c))\n",
    "\n",
    "    # Creation of the plot\n",
    "    fig, ax = plt.subplots(1,1, figsize=(15, 15))\n",
    "    ax.contourf(X, Y, Z_target, cmap='viridis')\n",
    "    ax.contour(X, Y, Z_q, cmap='binary')\n",
    "    ax.set_xlabel(\"theta0\")\n",
    "    ax.set_ylabel(\"theta1\")\n",
    "    ax.set_title(\"Contour plot of the distributions. Target is in viridis colormap filled contour, fit normal in binary colormap contour\")\n",
    "    # ax.view_init(90, 30)\n",
    "    plt.show()\n",
    "    return\n",
    "\n",
    "visualize_fit()"
   ]
  },
  {
   "cell_type": "markdown",
   "metadata": {},
   "source": [
    "#### Write your numerical answers below:"
   ]
  },
  {
   "cell_type": "code",
   "execution_count": 13,
   "metadata": {},
   "outputs": [
    {
     "name": "stdout",
     "output_type": "stream",
     "text": [
      "Variational posterior means: [2.96340888 3.92934067]\n",
      "Variational posterior standard deviations: [1.00833229 1.05656051]\n",
      "ELBO of best solution: -0.8796953678299704\n"
     ]
    }
   ],
   "source": [
    "vp_means = m # do not hard-code the number: assign the variables used in your previous computations\n",
    "vp_stds = c # do not hard-code the number: assign the variables used in your previous computations\n",
    "best_elbo = best_elbo # do not hard-code the number: assign the variables used in your previous computations\n",
    "\n",
    "print('Variational posterior means: {}'.format(vp_means))\n",
    "print('Variational posterior standard deviations: {}'.format(vp_stds))\n",
    "print('ELBO of best solution: {}'.format(best_elbo))"
   ]
  },
  {
   "cell_type": "markdown",
   "metadata": {},
   "source": [
    "### Your textual answer explaining your solution:\n",
    "\n",
    "The function `logTarget()` implements the log-target distribution as defined by the problem statement. \n",
    "\n",
    "The function `estimate_elbo():` calculates an estimation of the ELBO through a Monte Carlo approach. It calculates an approximation of the ELBO defined by the formula:\n",
    "\n",
    "$$\n",
    "\\text{ELBO}(\\psi) = \\mathbb{E}_{q_\\psi(\\theta)}\\left[ \\log p_\\text{target}(\\theta)\\right] - \\mathbb{E}_{q_\\psi(\\theta)}\\left[\\log q_\\psi(\\theta)\\right]\n",
    "$$\n",
    "\n",
    "This function was taken from the solutions for lecture 11 and adapted for the 2-dimensional theta of this case.\n",
    "\n",
    "The function `dsvi()` is taken from the solution of week 5's assignment, it implements the doubly-stochastic variational inference algorithm proposed by Titsias and Lázaro-Gredilla (2014).\n",
    "\n",
    "The function `explore_wide_range_elbo()`, serves as an exploration of a wide range of possible values for m and c to use in `dsvi()`. Since this is a gradient method, we should explore a relatively wide range of possible values for m and c so as to not get stuck in a local maximum, evaluating the maximized ELBO after running `dsvi()` at each point. To do this, we set fixed values for either m or c and calculate the maximum elbo by changing the values of the unfixed variables. This is just to get a rough view of which range of values should be used on each parameter to maximize ELBO. To make sure that the solution isn't overfitting to some local maximum, different fixed values of m and c were tested to check for the values of ELBO, with which we get values for m around `[3, 4]` and values for c around `[1, 1]`. This is a hint that the gaussian approximation is mostly wrapping around the Student T distribution of the mixture that has a mean around `[3, 4]`\n",
    "\n",
    "After finding the range of values for maximized ELBO, we run `dsvi()` with a finer rho around the points obtained in the previous point to fine tune the values of `m` and `c`, and then we can diagnose if they have converged by plotting their variational optimization trace. We can see that the values of standard deviation fluctuate within a band of around 0.1, which may be due to the approximation of the mixture distribution with just a normal distribution. Since the target distribution is multimodal, the standard deviation of the normal distribution being fit may be hard to estimate.\n",
    "\n",
    "Another visual aid was made to visually validate the fit with the function `visualize_fit()`. ). This plot gives a visual confirmation that indeed the gaussian fit is just wrapping the Student T distribution with the biggest weight in the mixture model. This is similar to what was seen in lecture 11's example with a multimodal distribution, where the gaussian fit just wrapped around one of the modes. A reason why this may happen is that the algorithm tends to underestimate variance as mentioned in chapter 12 of the lecture notes."
   ]
  }
 ],
 "metadata": {
  "kernelspec": {
   "display_name": "Python 3 (ipykernel)",
   "language": "python",
   "name": "python3"
  },
  "language_info": {
   "codemirror_mode": {
    "name": "ipython",
    "version": 3
   },
   "file_extension": ".py",
   "mimetype": "text/x-python",
   "name": "python",
   "nbconvert_exporter": "python",
   "pygments_lexer": "ipython3",
   "version": "3.10.6"
  }
 },
 "nbformat": 4,
 "nbformat_minor": 4
}
