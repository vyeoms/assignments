{
 "cells": [
  {
   "cell_type": "markdown",
   "metadata": {},
   "source": [
    "University of Helsinki, Master's Programme in Mathematics and Statistics  \n",
    "MAST32001 Computational Statistics, Autumn 2022  \n",
    "Luigi Acerbi\n",
    "\n",
    "# Week 4 exercises"
   ]
  },
  {
   "cell_type": "markdown",
   "metadata": {},
   "source": [
    "## 1. MCMC convergence diagnostics (4 pts)\n",
    "\n",
    "The file loaded below contains samples from 3 chains of Metropolis-Hastings sampling for the bimodal target \n",
    "$$\\pi^*(\\theta) = \\exp(-\\gamma (\\theta^2-1)^2)$$\n",
    "with $\\gamma = 4$. Warm-up samples have already been removed from the saved results, so you do not need to remove warm-up samples.\n",
    "\n",
    "1. Evaluate the $\\hat{R}$-statistic defined in Sec. 8.1.1 of the course notes using the original 3 chains. Report your result in Moodle.\n",
    "2. Evaluate the split-$\\hat{R}$ (see Sec. 8.1.1) by splitting the chains in half to obtain 6 chains. Report your result in Moodle.\n",
    "3. Compute the effective sample size (ESS) for the first chain (1000 samples), when we know the estimates $\\mu = 0$, $\\sigma^2 = 0.9185$ from an independent long simulation. Use the truncated sum estimate from Sec. 8.1.2 of the course notes. Report your result in Moodle.\n",
    "   *Hint*:  Use Eqs. 8.1 and 8.4, for which you will have to find the upper bound $K$ of the sum as indicated."
   ]
  },
  {
   "cell_type": "code",
   "execution_count": 1,
   "metadata": {},
   "outputs": [
    {
     "name": "stdout",
     "output_type": "stream",
     "text": [
      "1.025898298169984\n"
     ]
    }
   ],
   "source": [
    "%matplotlib inline\n",
    "import pandas as pd\n",
    "import numpy as np\n",
    "\n",
    "samples = pd.read_csv('https://www2.helsinki.fi/sites/default/files/atoms/files/bimod_samples.txt', header=None, sep='\\t').values\n",
    "\n",
    "# Part 1\n",
    "\n",
    "def calcR(chains):\n",
    "    n = chains.shape[0]\n",
    "    m = chains.shape[1]\n",
    "    theta_j = 1/n * np.sum(chains, axis=0)\n",
    "    theta_dots = 1/m * np.sum(theta_j)\n",
    "    B = n/(m-1) * np.sum( (theta_j - theta_dots)**2 )\n",
    "    s_j2 = 1/(n-1) * np.sum( (chains - theta_j)**2, axis=0 )\n",
    "    W = 1/m * np.sum(s_j2)\n",
    "    var = (n-1)/n * W + 1/n * B\n",
    "    return np.sqrt(var/W)\n",
    "\n",
    "print(calcR(samples))"
   ]
  },
  {
   "cell_type": "code",
   "execution_count": 2,
   "metadata": {},
   "outputs": [
    {
     "name": "stdout",
     "output_type": "stream",
     "text": [
      "1.1155720873796102\n"
     ]
    }
   ],
   "source": [
    "# Part 2\n",
    "\n",
    "reshaped_samples = np.hstack(np.split(samples, 2))\n",
    "print(calcR(reshaped_samples))"
   ]
  },
  {
   "cell_type": "code",
   "execution_count": 3,
   "metadata": {},
   "outputs": [
    {
     "name": "stdout",
     "output_type": "stream",
     "text": [
      "13.763929528261746\n"
     ]
    }
   ],
   "source": [
    "# Part 3\n",
    "\n",
    "first_chain = samples[:,0]\n",
    "\n",
    "def rho(chain, k, i=0):\n",
    "    index1 = 0\n",
    "    index2 = k\n",
    "    mean = 0\n",
    "    while index2 < len(chain):\n",
    "        mean += chain[index1] * chain[index2] # mu is 0 so no need to take it into account here\n",
    "        index1 += 1\n",
    "        index2 += 1\n",
    "    mean /= len(chain)\n",
    "    return mean/0.9185\n",
    "\n",
    "def findK(chain):\n",
    "    k = 1\n",
    "    while ( rho(chain, k) + rho(chain, k+1) >= 0 ):\n",
    "        k += 2\n",
    "    return k-2\n",
    "\n",
    "def calcESS(chain, K):\n",
    "    M = len(chain)\n",
    "    ESS = 0\n",
    "    denom = 0\n",
    "    for k in range(1, K+1):\n",
    "        denom += rho(chain, k)\n",
    "    denom = denom*2 + 1\n",
    "    return M/denom\n",
    "\n",
    "K = findK(first_chain)\n",
    "print(calcESS(first_chain, K))"
   ]
  },
  {
   "cell_type": "markdown",
   "metadata": {},
   "source": [
    "## 2. MCMC sampling for a Bayesian regression model (6 pts)\n",
    "\n",
    "In this task we will apply MCMC sampling to a linear regression model that predicts the birth weight ('bwt', $y_i$) for old mothers (age >= 30) as a function of the age of the mother, duration of the pregnancy and weight of the mother ('age', 'gestation', 'weight'; $\\mathbf{x}_i$).\n",
    "\n",
    "As our model we will consider a linear regression model fitted to the observations $((\\mathbf{x}_1, y_1), (\\mathbf{x}_2, y_2), \\dots, (\\mathbf{x}_n, y_n))$. The code below will load the matrix `x` (each row is one sample) and vector `y`. The values $\\mathbf{x}_1, \\dots, \\mathbf{x}_n$ are the *input values* and $y_1, \\dots, y_n$ are the *target values*. The loading code normalises all data to have zero mean and unit variance to get the regression coefficients to a shared scale.\n",
    "\n",
    "We model the data with a linear regression model\n",
    "$$ y_i = \\mathbf{x}_i \\boldsymbol{\\beta} + \\epsilon_i, $$\n",
    "where $\\mathbf{x}_i$ is a row vector of input values, $\\boldsymbol{\\beta} = (\\beta_1, \\beta_2, \\beta_3)^T$ is a column vector of regression coefficients and $\\epsilon_i$ is a Gaussian noise term $\\epsilon_i \\sim \\mathcal{N}(0, \\sigma_x^2)$.\n",
    "\n",
    "The likelihood of the model is\n",
    "$$ p(Y \\mid X, \\beta, \\sigma_x) = \\prod_{i=1}^n \\mathcal{N}(y_i; \\mathbf{x}_i \\boldsymbol{\\beta}, \\sigma_x^2). $$\n",
    "\n",
    "The regression coefficients $\\beta_j$ have a hierarchical prior\n",
    "$$ p(\\beta_j | \\sigma_{\\beta}) = \\mathcal{N}(\\beta_j;\\; 0, \\sigma_{\\beta}^2), \\quad j = 1, 2, 3, $$\n",
    "with standard deviation $\\sigma_{\\beta}$.\n",
    "Its prior is\n",
    "$$ p(\\sigma_{\\beta}) = \\mathrm{Gamma}(k_{\\beta} = 2, \\theta_{\\beta} = 1/2) $$\n",
    "with shape $k_{\\beta}=2$ and scale $\\theta_{\\beta} = 1/2$.\n",
    "The prior of the noise standard deviation $\\sigma_x$ is\n",
    "$$ p(\\sigma_{x}) = \\mathrm{Gamma}(k_{x} = 2, \\theta_{x} = 1/2) $$\n",
    "with shape $k_{x}=2$ and scale $\\theta_{x} = 1/2$.\n",
    "As usual, we assume the prior factorizes as $p(\\sigma_\\beta, \\sigma_x) = p(\\sigma_\\beta) p(\\sigma_x)$.\n",
    "\n",
    "To ensure the standard deviations are positive, express them as $\\sigma_{\\beta} = \\exp(s_{\\beta})$ and $\\sigma_x = \\exp(s_x)$. Remember to apply the density transformation to transform the priors over $\\sigma_{\\beta}$ and $\\sigma_x$ to those over $s_{\\beta}$ and $s_x$!\n",
    "\n",
    "The full set of model parameters for MCMC is thus $\\theta = (s_{\\beta}, s_x, \\beta_1, \\beta_2, \\beta_3)$.\n",
    "\n",
    "Write a Metropolis-Hastings MCMC sampler to sample from the joint posterior distribution of all model parameters $\\theta$, $$p(\\theta \\mid X, Y) = p(s_{\\beta}, s_x, \\beta_1, \\beta_2, \\beta_3 \\mid X, Y).$$\n",
    "\n",
    "1. Implement a Metropolis-Hastings MCMC sampler with proposal $q(\\theta' ; \\theta) = \\mathcal{N}(\\theta';\\; \\theta, 0.04^2 \\mathbf{I})$, i.e. a multivariate normal proposal centred around the current state with standard deviation 0.04 for each component.\n",
    "2. Run the sampler for 5000 iterations starting from each of the 4 initial points defined by the columns of `inits`. Discard the first 2500 iterations for each run as warm-up. Compute the split-$\\hat{R}$ statistic for the samples of $\\theta$. Report the largest split-$\\hat{R}$ over different components to Moodle.\n",
    "3. Check which variable is having convergence issues. Increase the proposal standard deviation for that component to 0.4 while keeping the proposals for the other components the same. Repeat the sampling as above and report the largest split-$\\hat{R}$ over different components to Moodle.\n",
    "4. Report the posterior mean of the log-standard deviation $s_{\\beta}$ obtained from combining all the 10000 retained samples from the latter sampler to Moodle.\n",
    "\n",
    "*Notes*: \n",
    "- Please note that all computations and results are based on the unbounded variables $s_{\\beta}$ and $s_x$. For the purpose of this exercise, there is no need to transform anything back to the original space of $\\sigma_{\\beta}$ and $\\sigma_x$.\n",
    "- The [Gamma distribution](https://en.wikipedia.org/wiki/Gamma_distribution) has two common representations, one in terms of shape and scale parameters ($k$ and $\\theta$) and one in terms of shape and rate parameters ($\\alpha$ and $\\beta$). Please check that you are using the correct one."
   ]
  },
  {
   "cell_type": "code",
   "execution_count": 4,
   "metadata": {},
   "outputs": [
    {
     "name": "stdout",
     "output_type": "stream",
     "text": [
      "(367, 3)\n",
      "(367,)\n"
     ]
    }
   ],
   "source": [
    "import pandas as pd\n",
    "import numpy as np\n",
    "import numpy.random as npr\n",
    "\n",
    "# Load the data set\n",
    "babies_full = pd.read_csv(\"https://www2.helsinki.fi/sites/default/files/atoms/files/babies2.txt\", sep='\\t')\n",
    "\n",
    "# Pick a subset\n",
    "babies = babies_full.loc[(babies_full['age']>=30).values,:]\n",
    "\n",
    "x = babies[['age', 'gestation', 'weight']].values.astype(float)\n",
    "y = babies[['bwt']].values.astype(float).squeeze()\n",
    "\n",
    "# Remove mean from inputs\n",
    "x -= np.mean(x, 0)\n",
    "# Standardise input variance\n",
    "x /= np.std(x, 0)\n",
    "\n",
    "# Remove mean from outputs\n",
    "y -= np.mean(y, 0)\n",
    "# Standardise output variance\n",
    "y /= np.std(y, 0)\n",
    "\n",
    "inits = np.array([[ 1.67272789, -0.02134183, -0.78116796, -1.77420787],\n",
    "                  [-0.6030697,   0.4464263,   0.3627991,  -0.7342916 ],\n",
    "                  [-1.32685026, -0.37427079, -0.06744599,  0.21175491],\n",
    "                  [ 0.87702047, -0.54171875, -0.44736686, -2.39045985],\n",
    "                  [ 1.00631791, -1.34638203, -0.40343913, -0.64535026]])\n",
    "\n",
    "print(x.shape)\n",
    "print(y.shape)"
   ]
  },
  {
   "cell_type": "code",
   "execution_count": 31,
   "metadata": {
    "scrolled": false
   },
   "outputs": [
    {
     "name": "stdout",
     "output_type": "stream",
     "text": [
      "Acceptance rate: 0.4184\n",
      "Acceptance rate: 0.4052\n",
      "Acceptance rate: 0.398\n",
      "Acceptance rate: 0.3972\n",
      "[1.32652883 0.99883607 1.0346852  0.99821745 1.01429116]\n"
     ]
    }
   ],
   "source": [
    "def d_mhsample(theta0, n, log_target, drawproposal):\n",
    "    \"\"\"\n",
    "    Metropolis-Hastings sampler for n samples from starting point theta0 in arbitrary dimension.\n",
    "    log_target is the log of the target pdf, and \n",
    "    drawproposal samples from the proposal (assumed symmetric).\n",
    "    \"\"\"    \n",
    "    theta = theta0\n",
    "    d = len(theta0)\n",
    "    accepts = 0\n",
    "    lp = log_target(theta)\n",
    "    thetas = np.zeros([n, d])\n",
    "    for i in range(n):\n",
    "        theta_prop = drawproposal(theta)\n",
    "        l_prop = log_target(theta_prop)\n",
    "        if np.log(npr.rand()) < l_prop - lp:\n",
    "            theta = theta_prop\n",
    "            lp = l_prop\n",
    "            accepts += 1\n",
    "        thetas[i] = theta\n",
    "    print('Acceptance rate:', accepts/n)\n",
    "    return thetas\n",
    "\n",
    "def logPriorS(s):\n",
    "    return 2*( np.log(2) + s - np.exp(s) )\n",
    "\n",
    "def lnormpdf(x, mu, sigma):\n",
    "    \"\"\"Log pdf of normal density.\"\"\"\n",
    "    return -0.5*np.log(2*np.pi) - np.log(sigma) - 0.5*(x-mu)**2/sigma**2\n",
    "\n",
    "target = lambda theta: np.sum(lnormpdf(y, x @ theta[2:], np.exp(theta[1]) ) ) + logPriorS(theta[0]) + \\\n",
    "            logPriorS(theta[1]) + lnormpdf(theta[2], 0, np.exp(theta[0])) + \\\n",
    "            lnormpdf(theta[3], 0, np.exp(theta[0])) + lnormpdf(theta[4], 0, np.exp(theta[0]))\n",
    "\n",
    "propose_draws = lambda theta, w: theta + w * npr.randn(*theta.shape)\n",
    "\n",
    "w = 0.04\n",
    "\n",
    "# npr.seed(0)\n",
    "\n",
    "theta = [None]*4\n",
    "\n",
    "for i in range(4):\n",
    "    theta[i] = d_mhsample(inits.T[i,:], 5000, target, lambda theta: propose_draws(theta, w))\n",
    "    theta[i] = theta[i][len(theta[i])//2:]\n",
    "\n",
    "split_Rs = np.zeros(5)\n",
    "\n",
    "for i in range(5):\n",
    "    param_chains = [None]*4\n",
    "    for j in range(4):\n",
    "        param_chains[j] = theta[j][:, i]\n",
    "    param_chains = np.array(param_chains)\n",
    "    reshaped_samples = np.hstack(np.split(param_chains, 2))\n",
    "    split_Rs[i] = calcR(reshaped_samples)\n",
    "\n",
    "print(split_Rs)"
   ]
  },
  {
   "cell_type": "code",
   "execution_count": 6,
   "metadata": {},
   "outputs": [
    {
     "name": "stdout",
     "output_type": "stream",
     "text": [
      "Acceptance rate: 0.3466\n",
      "Acceptance rate: 0.3484\n",
      "Acceptance rate: 0.3456\n",
      "Acceptance rate: 0.3582\n",
      "[1.00655139 1.00620723 1.01110571 0.99279024 0.98396721]\n"
     ]
    }
   ],
   "source": [
    "target = lambda theta: np.sum(lnormpdf(y, x @ theta[2:], np.exp(theta[1]) ) ) + logPriorS(theta[0]) + \\\n",
    "            logPriorS(theta[1]) + lnormpdf(theta[2], 0, np.exp(theta[0])) + \\\n",
    "            lnormpdf(theta[3], 0, np.exp(theta[0])) + lnormpdf(theta[4], 0, np.exp(theta[0]))\n",
    "\n",
    "propose_draws = lambda theta, w: theta + w * npr.randn(*theta.shape)\n",
    "\n",
    "w = np.array( [0.4, 0.04, 0.04, 0.04, 0.04] )\n",
    "\n",
    "npr.seed(0)\n",
    "\n",
    "theta = [None]*4\n",
    "\n",
    "for i in range(4):\n",
    "    theta[i] = d_mhsample(inits.T[i,:], 5000, target, lambda theta: propose_draws(theta, w))\n",
    "    theta[i] = theta[i][len(theta[i])//2:]\n",
    "\n",
    "split_Rs = np.zeros(5)\n",
    "\n",
    "for i in range(5):\n",
    "    param_chains = [None]*4\n",
    "    for j in range(4):\n",
    "        param_chains[j] = theta[j][:, i]\n",
    "    param_chains = np.array(param_chains)\n",
    "    reshaped_samples = np.hstack(np.split(param_chains, 2))\n",
    "    split_Rs[i] = calcR(reshaped_samples)\n",
    "\n",
    "print(split_Rs)"
   ]
  },
  {
   "cell_type": "code",
   "execution_count": 7,
   "metadata": {},
   "outputs": [
    {
     "name": "stdout",
     "output_type": "stream",
     "text": [
      "-0.8205737722874792\n"
     ]
    }
   ],
   "source": [
    "s_beta = []\n",
    "\n",
    "for i in range(4):\n",
    "    s_beta.append( theta[i][:,0] )\n",
    "\n",
    "print(np.mean(np.concatenate(s_beta)))"
   ]
  },
  {
   "cell_type": "markdown",
   "metadata": {},
   "source": [
    "## 3. Importance sampling (4 pts)\n",
    "\n",
    "Develop an importance sampler for the bimodal target\n",
    "$$\\pi(\\theta) = \\sum_{i=1}^2 p_i \\mathcal{N}(\\theta ; \\mu_i, \\sigma_i^2),$$\n",
    "where $p_1 = p_2 = 1/2$ and $\\mu_1 = -1, \\mu_2 = 1$.\n",
    "Use $\\mathrm{Laplace}(0, b)$ with a suitable $b$ as the proposal and evaluate the expectation $\\mathbb{E}[(\\theta-1)^2]$ when\n",
    "1. $\\sigma_1^2 = \\sigma_2^2 = 0.5$.\n",
    "2. $\\sigma_1^2 = \\sigma_2^2 = 0.1$.\n",
    "\n",
    "The required tolerance for the answer is $\\pm 0.1$.\n",
    "\n",
    "In order to estimate the accuracy of your answer, it is recommended to run the sampler a few times and compute the standard deviation of the values you obtain. Monte Carlo error scales as $1/\\sqrt{n}$ with the number of iterations $n$."
   ]
  },
  {
   "cell_type": "code",
   "execution_count": 8,
   "metadata": {
    "scrolled": true
   },
   "outputs": [
    {
     "name": "stdout",
     "output_type": "stream",
     "text": [
      "Average expectation is 2.4974261535474933 with SD 0.03387243727127632\n"
     ]
    }
   ],
   "source": [
    "from scipy.stats import norm, laplace\n",
    "\n",
    "# f(x) = pi(x), g(x) = laplace(x)\n",
    "\n",
    "def target(theta, sigma_sq):\n",
    "    return 0.5*norm.pdf(theta, -1, np.sqrt(sigma_sq)) + 0.5*norm.pdf(theta, 1, np.sqrt(sigma_sq))\n",
    "\n",
    "def sample(iters, b, sigma_sq):\n",
    "\n",
    "    theta = npr.laplace(0, b, iters)\n",
    "\n",
    "    return np.mean((theta - 1)**2 * target(theta, sigma_sq) / laplace.pdf(theta, 0, b))\n",
    "\n",
    "# part 1\n",
    "expectations = np.zeros(100)\n",
    "npr.seed(0)\n",
    "for i in range(100):\n",
    "    expectations[i] = sample(10000, 1.5, 0.5)\n",
    "    \n",
    "print(f'Average expectation is {expectations.mean()} with SD {expectations.std()}')"
   ]
  },
  {
   "cell_type": "code",
   "execution_count": 9,
   "metadata": {},
   "outputs": [
    {
     "name": "stdout",
     "output_type": "stream",
     "text": [
      "Average expectation is 2.095833306652417 with SD 0.016375714444056413\n"
     ]
    }
   ],
   "source": [
    "expectations = np.zeros(10)\n",
    "npr.seed(0)\n",
    "for i in range(10):\n",
    "    expectations[i] = sample(100000, 1, 0.1)\n",
    "    \n",
    "print(f'Average expectation is {expectations.mean()} with SD {expectations.std()}')"
   ]
  },
  {
   "cell_type": "markdown",
   "metadata": {},
   "source": [
    "## 4. Rejection ABC for a dynamical model (6 pts)\n",
    "\n",
    "In this task we will develop an ABC sampler for the autoregressive (AR) model:\n",
    "$$ x_{t+1} = a x_t + \\epsilon_t, \\quad \\epsilon_t \\sim \\mathcal{N}(0, \\sigma^2). $$\n",
    "Throughout the exercise, we assume $x_0 = 1$. The model has two parameters, $a$ and $\\sigma$. We set priors\n",
    "$$ p(a) = \\mathrm{Uniform}(a;\\; 0, 1), \\quad p(\\sigma) = \\mathrm{Gamma}(\\sigma;\\; k_\\sigma, \\theta_\\sigma) $$\n",
    "with $k_\\sigma = 8, \\theta_\\sigma = 1/8$. Note that we use the shape/scale parametrisation also used by NumPy and that the prior is over $\\sigma$, not $\\sigma^2$ (also more consistent with NumPy parametrisation).\n",
    "\n",
    "1. Implement a function to simulate the AR process. Test your function by generating and plotting two independent realisations of length 200 with $a = 0.75$, $\\sigma = 0.2$. Notice how the sequences diverge relatively quickly and are essentially independent toward the end. *Hint*: Length 200 means that the generated sequence will take values $x_0, x_1, \\ldots, x_{199}$.\n",
    "2. Sample 5000 sequences from the AR process of length 200 with $a = 0.75$, $\\sigma = 0.2$. For each sequence, extract the last value. Compute the standard deviation of the last values across the 5000 simulated sequences and report it in Moodle.\n",
    "3. For the purpose of ABC sampling, we are going to summarize the sequences with the 2-dimensional summary statistics\n",
    "$$ S(X) = \\left( \\frac{1}{N} \\sum_{i=0}^{N-1} x_i^2, \\frac{1}{N-1} \\sum_{i=0}^{N-2} x_i x_{i+1} \\right). $$\n",
    "Load the the single observed sequence $X$ (the data) with the code below and evaluate $S(X)$ on the provided sequence. Report the two summary statistics of the data in Moodle.\n",
    "4. Implement an ABC sampler to infer the posterior over $a$ and $\\sigma$ given the single observed sequence $X$ loaded below using the simulator implemented above and the 2-dimensional summary statistics defined above. Run your sampler to generate samples with acceptance threshold $\\| S(X) - S(X^\\star)\\|_2 \\le \\epsilon$ with $\\epsilon = 0.2$.\n",
    "5. Report the approximate posterior means and standard deviations of $a$ and $\\sigma$ to Moodle.\n",
    "\n",
    "The required tolerance on the posterior means and standard deviations is $\\pm 0.03$.\n",
    "\n",
    "*Hints*:\n",
    "- Note that for the acceptance threshold we are using the standard Euclidean metric: $\\|v\\|_2 = \\sqrt{\\sum_{i} v_i^2}$.\n",
    "- The ABC sampler here can easily require tens of seconds or more when the number of samples is large, so you should be careful when increasing the number of samples. A reasonably good implementation should be able to reach the required accuracy in less than a minute."
   ]
  },
  {
   "cell_type": "code",
   "execution_count": 10,
   "metadata": {},
   "outputs": [],
   "source": [
    "import pandas as pd\n",
    "\n",
    "dataframe = pd.read_csv('https://www2.helsinki.fi/sites/default/files/atoms/files/ar_time_series_data.txt', header=None, sep='\\t')\n",
    "data = dataframe.values[:,0]"
   ]
  },
  {
   "cell_type": "code",
   "execution_count": 11,
   "metadata": {},
   "outputs": [
    {
     "data": {
      "image/png": "[encoded data removed]",
      "text/plain": [
       "<Figure size 432x288 with 1 Axes>"
      ]
     },
     "metadata": {
      "needs_background": "light"
     },
     "output_type": "display_data"
    }
   ],
   "source": [
    "import matplotlib.pyplot as plt\n",
    "\n",
    "# Part 1\n",
    "\n",
    "def generateRealisation(a, sigma, n=200):\n",
    "    x = np.zeros(n)\n",
    "    x[0] = 1\n",
    "    for i in range(1, n):\n",
    "        x[i] = a*x[i-1] + npr.normal(0, sigma)\n",
    "    return x\n",
    "\n",
    "realisation1 = generateRealisation(0.75, 0.2)\n",
    "realisation2 = generateRealisation(0.75, 0.2)\n",
    "\n",
    "plt.plot(realisation1)\n",
    "plt.plot(realisation2)\n",
    "plt.show()"
   ]
  },
  {
   "cell_type": "code",
   "execution_count": 12,
   "metadata": {},
   "outputs": [
    {
     "name": "stdout",
     "output_type": "stream",
     "text": [
      "0.3091100436463519\n"
     ]
    }
   ],
   "source": [
    "# Part 2\n",
    "\n",
    "npr.seed(0)\n",
    "part2sd = np.std( [generateRealisation(0.75, 0.2)[199] for _ in range(5000)] )\n",
    "print(part2sd)"
   ]
  },
  {
   "cell_type": "code",
   "execution_count": 13,
   "metadata": {},
   "outputs": [
    {
     "name": "stdout",
     "output_type": "stream",
     "text": [
      "Summary statistics: [1.30559239 1.18492572]\n"
     ]
    }
   ],
   "source": [
    "# Part 3\n",
    "\n",
    "def generateSummary(x):\n",
    "    N = len(x)\n",
    "    stat1 = 1/N * np.sum( x**2 )\n",
    "    stat2 = 1/(N-1) * np.sum( np.array([i*j for i, j in zip(x, x[1:])]) )\n",
    "    return np.array([stat1, stat2])\n",
    "\n",
    "print(f'Summary statistics: {generateSummary(data)}')"
   ]
  },
  {
   "cell_type": "code",
   "execution_count": 14,
   "metadata": {},
   "outputs": [
    {
     "name": "stdout",
     "output_type": "stream",
     "text": [
      "For a, we have mean=0.8162378107951243 and SD=0.06887973488075542\n",
      "For sigma, we have mean=0.6793969825391248 and SD=0.11170365675187066\n"
     ]
    }
   ],
   "source": [
    "# Part 4\n",
    "\n",
    "def abc(x, N, epsilon = 0.2, Ndata=len(data)):\n",
    "    samples = np.zeros((N, 2))\n",
    "    nsamples = 0\n",
    "    orig_summary = generateSummary(x)\n",
    "    while nsamples < N:\n",
    "        a = npr.uniform(0, 1)\n",
    "        sigma = npr.gamma(8, 1/8)\n",
    "        mydata = generateRealisation(a, sigma, Ndata)\n",
    "        myerr = np.sqrt(np.sum((orig_summary - generateSummary(mydata))**2))\n",
    "        if myerr <= epsilon:\n",
    "            samples[nsamples,0] = a\n",
    "            samples[nsamples,1] = sigma\n",
    "            nsamples += 1\n",
    "    return samples\n",
    "\n",
    "npr.seed(0)\n",
    "samples = abc(data, 1000)\n",
    "\n",
    "print(f'For a, we have mean={np.mean(samples[:, 0])} and SD={np.std(samples[:, 0])}' )\n",
    "print(f'For sigma, we have mean={np.mean(samples[:, 1])} and SD={np.std(samples[:, 1])}' )"
   ]
  }
 ],
 "metadata": {
  "kernelspec": {
   "display_name": "Python 3 (ipykernel)",
   "language": "python",
   "name": "python3"
  },
  "language_info": {
   "codemirror_mode": {
    "name": "ipython",
    "version": 3
   },
   "file_extension": ".py",
   "mimetype": "text/x-python",
   "name": "python",
   "nbconvert_exporter": "python",
   "pygments_lexer": "ipython3",
   "version": "3.10.6"
  },
  "vscode": {
   "interpreter": {
    "hash": "916dbcbb3f70747c44a77c7bcd40155683ae19c65e1c03b4aa3499c5328201f1"
   }
  }
 },
 "nbformat": 4,
 "nbformat_minor": 1
}
