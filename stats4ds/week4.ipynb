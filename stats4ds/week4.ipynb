{
 "cells": [
  {
   "cell_type": "markdown",
   "id": "244f4576",
   "metadata": {},
   "source": [
    "# Imports"
   ]
  },
  {
   "cell_type": "code",
   "execution_count": 1,
   "id": "dec0fd79",
   "metadata": {},
   "outputs": [],
   "source": [
    "import numpy as np\n",
    "import numpy.random as npr\n",
    "import matplotlib.pyplot as plt\n",
    "import scipy as scp\n",
    "import seaborn as sns"
   ]
  },
  {
   "cell_type": "markdown",
   "id": "88d3c026",
   "metadata": {},
   "source": [
    "# Exercise 1\n",
    "\n",
    "## Part A\n",
    "\n",
    "The confusion matrix for the exercise looks like this:\n",
    "\n",
    "| Proportion  | H0 retained | H0 rejected   |\n",
    "| :---:       |    :----:   |          :---:|\n",
    "| H0 true     | TN          | FP (Type I)   |\n",
    "| H1 true     | FN (Type II)|       TP      |\n",
    "\n",
    "With the definitions given in the lectures for $\\alpha$ and $\\beta$, we have that each proportion may be determined by:\n",
    "\n",
    "$$\n",
    "TN = n_0 (1-\\alpha)\\\\\n",
    "FP = \\alpha n_0\\\\\n",
    "FN = n_1(1-\\beta)\\\\\n",
    "TP = \\beta n_1\n",
    "$$\n",
    "\n",
    "Where $n_0$ is the number of hypotheses that are true ($H_0$) and $n_1$ is the number of hypotheses that are false ($H_1$). Then the probability that $H_1$ is true given that $H_0$ is rejected is given by the proportion:\n",
    "\n",
    "$$ \\frac{TP}{TP + FP} $$"
   ]
  },
  {
   "cell_type": "code",
   "execution_count": 2,
   "id": "5247eba0",
   "metadata": {},
   "outputs": [
    {
     "name": "stdout",
     "output_type": "stream",
     "text": [
      "Calculations with alpha=0.05, beta=0.8, n0=100, n1=100\n",
      "P(H1|H0 rejected): 0.9411764705882353\n",
      "Calculations with alpha=0.05, beta=0.5, n0=100, n1=100\n",
      "P(H1|H0 rejected): 0.9090909090909091\n",
      "Calculations with alpha=0.05, beta=0.2, n0=100, n1=100\n",
      "P(H1|H0 rejected): 0.8\n",
      "Calculations with alpha=0.05, beta=0.8, n0=900, n1=100\n",
      "P(H1|H0 rejected): 0.64\n",
      "Calculations with alpha=0.05, beta=0.5, n0=900, n1=100\n",
      "P(H1|H0 rejected): 0.5263157894736842\n",
      "Calculations with alpha=0.05, beta=0.2, n0=900, n1=100\n",
      "P(H1|H0 rejected): 0.3076923076923077\n",
      "Calculations with alpha=0.05, beta=0.8, n0=99900, n1=100\n",
      "P(H1|H0 rejected): 0.015763546798029555\n"
     ]
    }
   ],
   "source": [
    "def calculateProps(alpha, beta, n0, n1):\n",
    "    print(f'Calculations with alpha={alpha}, beta={beta}, n0={n0}, n1={n1}')\n",
    "#     print(f'TN = {n0*(1-alpha)}')\n",
    "#     print(f'FP = {alpha*n0}')\n",
    "#     print(f'FN = {n1*(1-beta)}')\n",
    "#     print(f'TP = {beta*n1}')\n",
    "    TP = beta*n1\n",
    "    FP = alpha*n0\n",
    "    print(f'P(H1|H0 rejected): {TP/(TP+FP)}')\n",
    "\n",
    "props = [(100, 100), (900, 100)]\n",
    "betas = [0.8, 0.5, 0.2]\n",
    "\n",
    "for prop in props:\n",
    "    for beta in betas:\n",
    "        calculateProps(0.05, beta, prop[0], prop[1])\n",
    "calculateProps(0.05, 0.8, 99900, 100)"
   ]
  },
  {
   "cell_type": "markdown",
   "id": "c63dba5a",
   "metadata": {},
   "source": [
    "## Part B\n",
    "\n",
    "The probabilities where the populations of true $H_0$ and $H_1$ are similar are high, which is what we would like to see when we reject the null hypothesis. These probabilities also become lower when the power of the test decreases. The definition of power is \"the probability that $H_0$ is rejected when $H_0$ is false\", so this result is also expected.\n",
    "\n",
    "However, when we skew the proportion of hypothesis results toward $H_0$ we can see that the probabilities drop drastically. This shows one of the weaknesses of NHST, where if we have underrepresented groups of data we will not get accurate results."
   ]
  },
  {
   "cell_type": "markdown",
   "id": "030e7e89",
   "metadata": {},
   "source": [
    "# Exercise 2\n",
    "\n",
    "## Part A"
   ]
  },
  {
   "cell_type": "code",
   "execution_count": 3,
   "id": "73d09a13",
   "metadata": {},
   "outputs": [
    {
     "name": "stdout",
     "output_type": "stream",
     "text": [
      "3.9446199162650353\n",
      "7.979997860951826e-05\n"
     ]
    }
   ],
   "source": [
    "def waldStat(x, y):\n",
    "    return ( np.mean(x) - np.mean(y) ) / np.sqrt( np.var(x)/x.size + np.var(y)/y.size )\n",
    "\n",
    "def waldP(x_lim):\n",
    "    return 2*(1 - scp.stats.norm.cdf(x_lim))\n",
    "\n",
    "twain = np.array([.225, .262, .217, .240, .230, .229, .235, .217])\n",
    "snodgrass = np.array( [.209, .205, .196, .210, .202, .207, .224, .223, .220, .201] )\n",
    "print( waldStat(twain, snodgrass) )\n",
    "print(waldP(3.945))"
   ]
  },
  {
   "cell_type": "markdown",
   "id": "fdc63dbd",
   "metadata": {},
   "source": [
    "The Wald statistic for this test is approximately 3.945. The rejection region is defined by $R = \\{|Z| > 3.945\\}$, where Z corresponds to the Wald statistic. Thus, the p-value is given by:\n",
    "\n",
    "$$ P\\left( |Z| > 3.945 \\right) = 2\\cdot P\\left(Z > 3.945 \\right) = 2 \\cdot \\left( 1 - P(Z \\leq 3.945) \\right) = 2\\cdot (1 - \\Phi(3.945) ) $$\n",
    "\n",
    "because the distribution of Z is approximately normal with mean 0 and variance 1 for a Wald test. For a normal distribution, this probability is given by:\n",
    "\n",
    "$$ 2\\cdot \\left(1 - \\int_{-\\infty}^{3.945} \\frac{1}{\\sqrt{2\\pi}} e^{ -\\frac{x^2}{2} } dx \\right) = 2\\cdot(1-\\Phi(3.945))  \\approx 0.0000798 $$\n",
    "\n",
    "The confidence interval is given by $\\overline{X} - \\overline{Y} \\pm 2\\sqrt{ \\frac{s_1^2}{8} + \\frac{s_2^2}{10} } $"
   ]
  },
  {
   "cell_type": "code",
   "execution_count": 4,
   "id": "4ff2e0b1",
   "metadata": {},
   "outputs": [
    {
     "name": "stdout",
     "output_type": "stream",
     "text": [
      "X_mean - Y_mean, with X being Twain and Snodgrass Y: 0.022175\n",
      "Sample variance metric: 0.011243161810629607\n",
      "Confidence interval: [0.010931838189370394, 0.03341816181062961]\n"
     ]
    }
   ],
   "source": [
    "mean_diff = np.mean(twain) - np.mean(snodgrass)\n",
    "var_metric = 2*np.sqrt( np.var(twain)/twain.size + np.var(snodgrass)/snodgrass.size )\n",
    "conf_interval = [ mean_diff - var_metric, mean_diff + var_metric]\n",
    "\n",
    "print(f'X_mean - Y_mean, with X being Twain and Snodgrass Y: {mean_diff}')\n",
    "\n",
    "print(f'Sample variance metric: {var_metric}')\n",
    "\n",
    "print(f'Confidence interval: {conf_interval}')"
   ]
  },
  {
   "cell_type": "markdown",
   "id": "81cb8263",
   "metadata": {},
   "source": [
    "The p-value indicates that the result is statistically significant, but the confidence interval $(0.1, 0.3)$ is small. Since the confidence interval is so small, you could argue that the authors aren't different people\n",
    "\n",
    "## Part B\n"
   ]
  },
  {
   "cell_type": "code",
   "execution_count": 5,
   "id": "02624b38",
   "metadata": {},
   "outputs": [
    {
     "name": "stdout",
     "output_type": "stream",
     "text": [
      "0.0008999100089991002\n"
     ]
    }
   ],
   "source": [
    "B = 10000\n",
    "p_val = 1/(B+1)\n",
    "permute_space = np.concatenate( (twain, snodgrass) )\n",
    "\n",
    "npr.seed(0)\n",
    "for i in range(B):\n",
    "    permute = npr.permutation(permute_space)\n",
    "    p_val += ( waldStat( permute[:8], permute[8:] ) > 3.945 ) / (B+1)\n",
    "\n",
    "print(p_val)"
   ]
  },
  {
   "cell_type": "markdown",
   "id": "bd124e8b",
   "metadata": {},
   "source": [
    "The p-value using permutation testing is almost 10 times bigger than the one calculated in the previous section, so the evidence against the null is weaker."
   ]
  },
  {
   "cell_type": "markdown",
   "id": "577356fc",
   "metadata": {},
   "source": [
    "# Exercise 3\n",
    "\n",
    "## Part A\n",
    "\n",
    "The distributions for the drug trials are modeled as Bernoulli, with a success rate $p$. The plug-in estimator for the expected value is $\\hat{p} = \\frac{successes}{n}$, with n trials. The variance is given by $\\hat{p}(1-\\hat{p})$"
   ]
  },
  {
   "cell_type": "code",
   "execution_count": 6,
   "id": "4f3f1bd3",
   "metadata": {},
   "outputs": [
    {
     "name": "stdout",
     "output_type": "stream",
     "text": [
      "Drug:Chlorpromazine, stat=-2.7643637780027186, odds ratio=1.4933333333333334,p-value=0.005703391555257786\n",
      "Drug:Dimenhydrinate, stat=0.6429872617820929, odds ratio=0.8873949579831933,p-value=0.5202323654229468\n",
      "Drug:Pentobarbital100mg, stat=-0.4864275028950293, odds ratio=1.091684434968017,p-value=0.6266640947313891\n",
      "Drug:Pentobarbital150mg, stat=-1.6466051393070562, odds ratio=1.2907563025210085,p-value=0.09963923341820236\n"
     ]
    }
   ],
   "source": [
    "def statisticsEx3(n, nausea):\n",
    "    drug_no_nausea = n - nausea\n",
    "    placebo_p = 35 / 80\n",
    "    drug_p = drug_no_nausea/n\n",
    "    \n",
    "    wald = (placebo_p - drug_p) / np.sqrt( placebo_p*(1-placebo_p)/80 + drug_p*(1-drug_p)/n )\n",
    "    odds_ratio = drug_p / placebo_p\n",
    "    p_val = waldP( np.abs(wald) )\n",
    "    return wald, odds_ratio, p_val\n",
    "\n",
    "drugs_dict = {\n",
    "    'Chlorpromazine': statisticsEx3(75, 26),\n",
    "    'Dimenhydrinate': statisticsEx3(85, 52),\n",
    "    'Pentobarbital100mg' : statisticsEx3(67, 35),\n",
    "    'Pentobarbital150mg' : statisticsEx3(85, 37),\n",
    "}\n",
    "\n",
    "for key in drugs_dict:\n",
    "    print(f'Drug:{key}, stat={drugs_dict[key][0]}, odds ratio={drugs_dict[key][1]},p-value={drugs_dict[key][2]}')"
   ]
  },
  {
   "cell_type": "markdown",
   "id": "02cd3646",
   "metadata": {},
   "source": [
    "With a Wald statistic test, we see that for a 5 per cent level the only drug that has a statistically significant value is Chlorpromazine, with a p-value of ~0,006 and an odds ratio of ~1,49. Dimenhydrinate is the only drug that presents an odds ratio smaller than 1, so we can infer that it's the only drug that performed worse than a placebo during this trial.\n",
    "\n",
    "## Part B\n",
    "\n",
    "With Bonferroni, we only divide the p-value cutoff by the number of tests realized. In this case, we had 4 tests, so $\\frac{\\alpha}{4} = \\frac{0.05}{4} = 0.0125$. With this new cutoff, the p-value of Chlorpromazine is still statistically significant. The Bonferroni adjustment is also stricter than FDR, so this p-value must also be statistically significant under FDR."
   ]
  },
  {
   "cell_type": "markdown",
   "id": "9e6688c1",
   "metadata": {},
   "source": [
    "# Exercise 4\n",
    "\n",
    "## Part A\n",
    "\n"
   ]
  },
  {
   "cell_type": "code",
   "execution_count": 7,
   "id": "4830ae0b",
   "metadata": {},
   "outputs": [
    {
     "name": "stdout",
     "output_type": "stream",
     "text": [
      "Distribution with multinomial: [0.1  0.1  0.1  0.15 0.1  0.15 0.25 0.   0.05 0.  ]\n"
     ]
    },
    {
     "data": {
      "image/png": "[encoded data removed]",
      "text/plain": [
       "<Figure size 432x288 with 1 Axes>"
      ]
     },
     "metadata": {
      "needs_background": "light"
     },
     "output_type": "display_data"
    }
   ],
   "source": [
    "n = 20\n",
    "seq = np.array([6,3,7,4,6,9,2,6,7,4,3,7,7,2,5,4,1,7,5,1])\n",
    "\n",
    "p = np.zeros(10)\n",
    "\n",
    "for j in range(10):\n",
    "    p[j] = np.sum(seq == j+1) / n\n",
    "\n",
    "print(f'Distribution with multinomial: {p}')\n",
    "plt.plot(p, 'o')\n",
    "plt.show()"
   ]
  },
  {
   "cell_type": "markdown",
   "id": "468e4f7b",
   "metadata": {},
   "source": [
    "## Part B\n",
    "\n"
   ]
  },
  {
   "cell_type": "code",
   "execution_count": 8,
   "id": "ac073c85",
   "metadata": {},
   "outputs": [
    {
     "name": "stdout",
     "output_type": "stream",
     "text": [
      "Distribution with Dirichlet using alpha_i = 0.1: [2.1 2.1 2.1 3.1 2.1 3.1 5.1 0.1 1.1 0.1]\n",
      "Mean estimates using alpha_i=0.1: [0.1        0.1        0.1        0.14761905 0.1        0.14761905\n",
      " 0.24285714 0.0047619  0.05238095 0.0047619 ]\n",
      "\n"
     ]
    },
    {
     "data": {
      "image/png": "[encoded data removed]",
      "text/plain": [
       "<Figure size 432x288 with 1 Axes>"
      ]
     },
     "metadata": {
      "needs_background": "light"
     },
     "output_type": "display_data"
    },
    {
     "name": "stdout",
     "output_type": "stream",
     "text": [
      "Distribution with Dirichlet using alpha_i = 1: [3. 3. 3. 4. 3. 4. 6. 1. 2. 1.]\n",
      "Mean estimates using alpha_i=1: [0.1        0.1        0.1        0.13333333 0.1        0.13333333\n",
      " 0.2        0.03333333 0.06666667 0.03333333]\n",
      "\n"
     ]
    },
    {
     "data": {
      "image/png": "[encoded data removed]",
      "text/plain": [
       "<Figure size 432x288 with 1 Axes>"
      ]
     },
     "metadata": {
      "needs_background": "light"
     },
     "output_type": "display_data"
    },
    {
     "name": "stdout",
     "output_type": "stream",
     "text": [
      "Distribution with Dirichlet using alpha_i = 10: [12. 12. 12. 13. 12. 13. 15. 10. 11. 10.]\n",
      "Mean estimates using alpha_i=10: [0.1        0.1        0.1        0.10833333 0.1        0.10833333\n",
      " 0.125      0.08333333 0.09166667 0.08333333]\n",
      "\n"
     ]
    },
    {
     "data": {
      "image/png": "[encoded data removed]",
      "text/plain": [
       "<Figure size 432x288 with 1 Axes>"
      ]
     },
     "metadata": {
      "needs_background": "light"
     },
     "output_type": "display_data"
    }
   ],
   "source": [
    "alpha_priors = [0.1, 1, 10]\n",
    "\n",
    "for alpha_prior in alpha_priors:\n",
    "    alphas = np.full(10, alpha_prior)\n",
    "    estimated_alpha = np.zeros(10)\n",
    "    for i in range(10):\n",
    "        estimated_alpha[i] = alphas[i] + np.sum( seq == i+1 )\n",
    "    alpha_0 = np.sum(estimated_alpha)\n",
    "    print(f'Distribution with Dirichlet using alpha_i = {alpha_prior}: {estimated_alpha}')\n",
    "    print(f'Mean estimates using alpha_i={alpha_prior}: {estimated_alpha / alpha_0}\\n')\n",
    "    plt.plot(estimated_alpha / alpha_0, 'o')\n",
    "    plt.title(f'Mean estimates using alpha_i = {alpha_prior}')\n",
    "    plt.show()"
   ]
  },
  {
   "cell_type": "markdown",
   "id": "a6880955",
   "metadata": {},
   "source": [
    "# Exercise 5\n",
    "\n",
    "## Part A"
   ]
  },
  {
   "cell_type": "code",
   "execution_count": 9,
   "id": "93731600",
   "metadata": {},
   "outputs": [
    {
     "name": "stderr",
     "output_type": "stream",
     "text": [
      "/tmp/ipykernel_14375/3132669160.py:11: UserWarning: \n",
      "\n",
      "`distplot` is a deprecated function and will be removed in seaborn v0.14.0.\n",
      "\n",
      "Please adapt your code to use either `displot` (a figure-level function with\n",
      "similar flexibility) or `kdeplot` (an axes-level function for kernel density plots).\n",
      "\n",
      "For a guide to updating your code to use the new functions, please see\n",
      "https://gist.github.com/mwaskom/de44147ed2974457ad6372750bbe5751\n",
      "\n",
      "  sns.distplot(prior, label='prior', hist=False)\n",
      "/tmp/ipykernel_14375/3132669160.py:12: UserWarning: \n",
      "\n",
      "`distplot` is a deprecated function and will be removed in seaborn v0.14.0.\n",
      "\n",
      "Please adapt your code to use either `displot` (a figure-level function with\n",
      "similar flexibility) or `kdeplot` (an axes-level function for kernel density plots).\n",
      "\n",
      "For a guide to updating your code to use the new functions, please see\n",
      "https://gist.github.com/mwaskom/de44147ed2974457ad6372750bbe5751\n",
      "\n",
      "  sns.distplot(likelihood, label='likelihood', hist=False)\n",
      "/tmp/ipykernel_14375/3132669160.py:13: UserWarning: \n",
      "\n",
      "`distplot` is a deprecated function and will be removed in seaborn v0.14.0.\n",
      "\n",
      "Please adapt your code to use either `displot` (a figure-level function with\n",
      "similar flexibility) or `kdeplot` (an axes-level function for kernel density plots).\n",
      "\n",
      "For a guide to updating your code to use the new functions, please see\n",
      "https://gist.github.com/mwaskom/de44147ed2974457ad6372750bbe5751\n",
      "\n",
      "  sns.distplot(posterior, label='posterior', hist=False)\n"
     ]
    },
    {
     "data": {
      "image/png": "[encoded data removed]",
      "text/plain": [
       "<Figure size 432x288 with 1 Axes>"
      ]
     },
     "metadata": {
      "needs_background": "light"
     },
     "output_type": "display_data"
    },
    {
     "name": "stdout",
     "output_type": "stream",
     "text": [
      "The approximate confidence interval with sigma_0=0.4 is:  [-0.14777774  0.1505073 ]\n"
     ]
    }
   ],
   "source": [
    "seq = [-0.02, -0.03, 0.82, -1.05, -0.76, 0.46, -0.06, 0.34, -0.08, -0.24, 1.43, 1.07, -2.5 , 1.48, 2.16, 1.23, -0.21, -0.69, 0.73, -0.62]\n",
    "seq = np.array(seq)\n",
    "\n",
    "sigma_sq = 1\n",
    "\n",
    "def posteriorPartA_B(data, sigma_0):\n",
    "    mean_X = np.mean(data)\n",
    "    likelihood = npr.normal(mean_X, 1/len(data), 10000)\n",
    "    prior = npr.normal(0, sigma_0, 10000)\n",
    "    posterior = prior*likelihood\n",
    "    sns.distplot(prior, label='prior', hist=False)\n",
    "    sns.distplot(likelihood, label='likelihood', hist=False)\n",
    "    sns.distplot(posterior, label='posterior', hist=False)\n",
    "    plt.legend()\n",
    "    plt.show()\n",
    "    \n",
    "    return np.quantile( posterior, [0.025, 0.975] )\n",
    "\n",
    "conf_interval = posteriorPartA_B(seq, 0.4)\n",
    "\n",
    "print('The approximate confidence interval with sigma_0=0.4 is: ', conf_interval)"
   ]
  },
  {
   "cell_type": "markdown",
   "id": "db6e7fd5",
   "metadata": {},
   "source": [
    "## Part B"
   ]
  },
  {
   "cell_type": "code",
   "execution_count": 10,
   "id": "bfc34b1b",
   "metadata": {
    "scrolled": false
   },
   "outputs": [
    {
     "name": "stderr",
     "output_type": "stream",
     "text": [
      "/tmp/ipykernel_14375/3132669160.py:11: UserWarning: \n",
      "\n",
      "`distplot` is a deprecated function and will be removed in seaborn v0.14.0.\n",
      "\n",
      "Please adapt your code to use either `displot` (a figure-level function with\n",
      "similar flexibility) or `kdeplot` (an axes-level function for kernel density plots).\n",
      "\n",
      "For a guide to updating your code to use the new functions, please see\n",
      "https://gist.github.com/mwaskom/de44147ed2974457ad6372750bbe5751\n",
      "\n",
      "  sns.distplot(prior, label='prior', hist=False)\n",
      "/tmp/ipykernel_14375/3132669160.py:12: UserWarning: \n",
      "\n",
      "`distplot` is a deprecated function and will be removed in seaborn v0.14.0.\n",
      "\n",
      "Please adapt your code to use either `displot` (a figure-level function with\n",
      "similar flexibility) or `kdeplot` (an axes-level function for kernel density plots).\n",
      "\n",
      "For a guide to updating your code to use the new functions, please see\n",
      "https://gist.github.com/mwaskom/de44147ed2974457ad6372750bbe5751\n",
      "\n",
      "  sns.distplot(likelihood, label='likelihood', hist=False)\n",
      "/tmp/ipykernel_14375/3132669160.py:13: UserWarning: \n",
      "\n",
      "`distplot` is a deprecated function and will be removed in seaborn v0.14.0.\n",
      "\n",
      "Please adapt your code to use either `displot` (a figure-level function with\n",
      "similar flexibility) or `kdeplot` (an axes-level function for kernel density plots).\n",
      "\n",
      "For a guide to updating your code to use the new functions, please see\n",
      "https://gist.github.com/mwaskom/de44147ed2974457ad6372750bbe5751\n",
      "\n",
      "  sns.distplot(posterior, label='posterior', hist=False)\n"
     ]
    },
    {
     "data": {
      "image/png": "[encoded data removed]",
      "text/plain": [
       "<Figure size 432x288 with 1 Axes>"
      ]
     },
     "metadata": {
      "needs_background": "light"
     },
     "output_type": "display_data"
    },
    {
     "name": "stderr",
     "output_type": "stream",
     "text": [
      "/tmp/ipykernel_14375/3132669160.py:11: UserWarning: \n",
      "\n",
      "`distplot` is a deprecated function and will be removed in seaborn v0.14.0.\n",
      "\n",
      "Please adapt your code to use either `displot` (a figure-level function with\n",
      "similar flexibility) or `kdeplot` (an axes-level function for kernel density plots).\n",
      "\n",
      "For a guide to updating your code to use the new functions, please see\n",
      "https://gist.github.com/mwaskom/de44147ed2974457ad6372750bbe5751\n",
      "\n",
      "  sns.distplot(prior, label='prior', hist=False)\n"
     ]
    },
    {
     "name": "stdout",
     "output_type": "stream",
     "text": [
      "The approximate confidence interval with sigma_0=2 is:  [-0.72882256  0.75824428]\n"
     ]
    },
    {
     "name": "stderr",
     "output_type": "stream",
     "text": [
      "/tmp/ipykernel_14375/3132669160.py:12: UserWarning: \n",
      "\n",
      "`distplot` is a deprecated function and will be removed in seaborn v0.14.0.\n",
      "\n",
      "Please adapt your code to use either `displot` (a figure-level function with\n",
      "similar flexibility) or `kdeplot` (an axes-level function for kernel density plots).\n",
      "\n",
      "For a guide to updating your code to use the new functions, please see\n",
      "https://gist.github.com/mwaskom/de44147ed2974457ad6372750bbe5751\n",
      "\n",
      "  sns.distplot(likelihood, label='likelihood', hist=False)\n",
      "/tmp/ipykernel_14375/3132669160.py:13: UserWarning: \n",
      "\n",
      "`distplot` is a deprecated function and will be removed in seaborn v0.14.0.\n",
      "\n",
      "Please adapt your code to use either `displot` (a figure-level function with\n",
      "similar flexibility) or `kdeplot` (an axes-level function for kernel density plots).\n",
      "\n",
      "For a guide to updating your code to use the new functions, please see\n",
      "https://gist.github.com/mwaskom/de44147ed2974457ad6372750bbe5751\n",
      "\n",
      "  sns.distplot(posterior, label='posterior', hist=False)\n"
     ]
    },
    {
     "data": {
      "image/png": "[encoded data removed]",
      "text/plain": [
       "<Figure size 432x288 with 1 Axes>"
      ]
     },
     "metadata": {
      "needs_background": "light"
     },
     "output_type": "display_data"
    },
    {
     "name": "stdout",
     "output_type": "stream",
     "text": [
      "The approximate confidence interval with sigma_0=0.01 is:  [-0.00361051  0.00356359]\n"
     ]
    }
   ],
   "source": [
    "conf_interval = posteriorPartA_B(seq, 2)\n",
    "print('The approximate confidence interval with sigma_0=2 is: ', conf_interval)\n",
    "\n",
    "conf_interval = posteriorPartA_B(seq, 0.01)\n",
    "print('The approximate confidence interval with sigma_0=0.01 is: ', conf_interval)"
   ]
  },
  {
   "cell_type": "markdown",
   "id": "7a8f1610",
   "metadata": {},
   "source": [
    "## Part C"
   ]
  },
  {
   "cell_type": "code",
   "execution_count": 11,
   "id": "ab784b48",
   "metadata": {},
   "outputs": [
    {
     "name": "stderr",
     "output_type": "stream",
     "text": [
      "/tmp/ipykernel_14375/1373847589.py:8: UserWarning: \n",
      "\n",
      "`distplot` is a deprecated function and will be removed in seaborn v0.14.0.\n",
      "\n",
      "Please adapt your code to use either `displot` (a figure-level function with\n",
      "similar flexibility) or `kdeplot` (an axes-level function for kernel density plots).\n",
      "\n",
      "For a guide to updating your code to use the new functions, please see\n",
      "https://gist.github.com/mwaskom/de44147ed2974457ad6372750bbe5751\n",
      "\n",
      "  sns.distplot(prior, label='prior', hist=False)\n",
      "/tmp/ipykernel_14375/1373847589.py:9: UserWarning: \n",
      "\n",
      "`distplot` is a deprecated function and will be removed in seaborn v0.14.0.\n",
      "\n",
      "Please adapt your code to use either `displot` (a figure-level function with\n",
      "similar flexibility) or `kdeplot` (an axes-level function for kernel density plots).\n",
      "\n",
      "For a guide to updating your code to use the new functions, please see\n",
      "https://gist.github.com/mwaskom/de44147ed2974457ad6372750bbe5751\n",
      "\n",
      "  sns.distplot(likelihood, label='likelihood', hist=False)\n",
      "/tmp/ipykernel_14375/1373847589.py:10: UserWarning: \n",
      "\n",
      "`distplot` is a deprecated function and will be removed in seaborn v0.14.0.\n",
      "\n",
      "Please adapt your code to use either `displot` (a figure-level function with\n",
      "similar flexibility) or `kdeplot` (an axes-level function for kernel density plots).\n",
      "\n",
      "For a guide to updating your code to use the new functions, please see\n",
      "https://gist.github.com/mwaskom/de44147ed2974457ad6372750bbe5751\n",
      "\n",
      "  sns.distplot(posterior, label='posterior', hist=False)\n"
     ]
    },
    {
     "data": {
      "image/png": "[encoded data removed]",
      "text/plain": [
       "<Figure size 432x288 with 1 Axes>"
      ]
     },
     "metadata": {
      "needs_background": "light"
     },
     "output_type": "display_data"
    },
    {
     "name": "stdout",
     "output_type": "stream",
     "text": [
      "The approximate confidence interval with alpha_0=2, beta_0=1 is:  [0.61232244 1.94426336]\n"
     ]
    }
   ],
   "source": [
    "def partC(data, alpha_0, beta_0):\n",
    "    mean_X = np.mean(data)\n",
    "    prior = scp.stats.invgamma.rvs(alpha_0, scale=beta_0, size=10000)\n",
    "    alpha_prime = alpha_0 + len(data)/2\n",
    "    beta_prime = beta_0 + np.sum(data**2)/2\n",
    "    posterior = scp.stats.invgamma.rvs(alpha_prime, scale=beta_prime, size=10000)\n",
    "    likelihood = posterior/prior\n",
    "    sns.distplot(prior, label='prior', hist=False)\n",
    "    sns.distplot(likelihood, label='likelihood', hist=False)\n",
    "    sns.distplot(posterior, label='posterior', hist=False)\n",
    "    plt.legend()\n",
    "    plt.show()\n",
    "    \n",
    "    return np.quantile( posterior, [0.025, 0.975] )\n",
    "\n",
    "conf_interval = partC(seq, 2, 1)\n",
    "\n",
    "print('The approximate confidence interval with alpha_0=2, beta_0=1 is: ', conf_interval)"
   ]
  },
  {
   "cell_type": "code",
   "execution_count": 12,
   "id": "59cb416c",
   "metadata": {},
   "outputs": [
    {
     "name": "stderr",
     "output_type": "stream",
     "text": [
      "/tmp/ipykernel_14375/1373847589.py:8: UserWarning: \n",
      "\n",
      "`distplot` is a deprecated function and will be removed in seaborn v0.14.0.\n",
      "\n",
      "Please adapt your code to use either `displot` (a figure-level function with\n",
      "similar flexibility) or `kdeplot` (an axes-level function for kernel density plots).\n",
      "\n",
      "For a guide to updating your code to use the new functions, please see\n",
      "https://gist.github.com/mwaskom/de44147ed2974457ad6372750bbe5751\n",
      "\n",
      "  sns.distplot(prior, label='prior', hist=False)\n",
      "/tmp/ipykernel_14375/1373847589.py:9: UserWarning: \n",
      "\n",
      "`distplot` is a deprecated function and will be removed in seaborn v0.14.0.\n",
      "\n",
      "Please adapt your code to use either `displot` (a figure-level function with\n",
      "similar flexibility) or `kdeplot` (an axes-level function for kernel density plots).\n",
      "\n",
      "For a guide to updating your code to use the new functions, please see\n",
      "https://gist.github.com/mwaskom/de44147ed2974457ad6372750bbe5751\n",
      "\n",
      "  sns.distplot(likelihood, label='likelihood', hist=False)\n",
      "/tmp/ipykernel_14375/1373847589.py:10: UserWarning: \n",
      "\n",
      "`distplot` is a deprecated function and will be removed in seaborn v0.14.0.\n",
      "\n",
      "Please adapt your code to use either `displot` (a figure-level function with\n",
      "similar flexibility) or `kdeplot` (an axes-level function for kernel density plots).\n",
      "\n",
      "For a guide to updating your code to use the new functions, please see\n",
      "https://gist.github.com/mwaskom/de44147ed2974457ad6372750bbe5751\n",
      "\n",
      "  sns.distplot(posterior, label='posterior', hist=False)\n"
     ]
    },
    {
     "data": {
      "image/png": "[encoded data removed]",
      "text/plain": [
       "<Figure size 432x288 with 1 Axes>"
      ]
     },
     "metadata": {
      "needs_background": "light"
     },
     "output_type": "display_data"
    },
    {
     "name": "stdout",
     "output_type": "stream",
     "text": [
      "The approximate confidence interval with alpha_0=0.1, beta_0=0.1 is:  [0.64427955 2.26143322]\n"
     ]
    }
   ],
   "source": [
    "conf_interval = partC(seq, 0.1, 0.1)\n",
    "\n",
    "print('The approximate confidence interval with alpha_0=0.1, beta_0=0.1 is: ', conf_interval)"
   ]
  }
 ],
 "metadata": {
  "kernelspec": {
   "display_name": "Python 3 (ipykernel)",
   "language": "python",
   "name": "python3"
  },
  "language_info": {
   "codemirror_mode": {
    "name": "ipython",
    "version": 3
   },
   "file_extension": ".py",
   "mimetype": "text/x-python",
   "name": "python",
   "nbconvert_exporter": "python",
   "pygments_lexer": "ipython3",
   "version": "3.10.6"
  }
 },
 "nbformat": 4,
 "nbformat_minor": 5
}
