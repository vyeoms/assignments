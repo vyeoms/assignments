{
 "cells": [
  {
   "cell_type": "markdown",
   "id": "aa94a685-1529-466d-9b5f-91630908ad23",
   "metadata": {},
   "source": [
    "# Exercise 5\n",
    "## Part A"
   ]
  },
  {
   "cell_type": "code",
   "execution_count": 9,
   "id": "82483027-449e-4b7d-8312-f31a64aae6d9",
   "metadata": {},
   "outputs": [
    {
     "data": {
      "text/plain": [
       "\n",
       "Call:\n",
       "glm(formula = ISUNHAPPY ~ SEX + RACE + DEGREE + POLVIEWS + nAGE, \n",
       "    family = binomial(link = \"logit\"), data = survey_data)\n",
       "\n",
       "Deviance Residuals: \n",
       "    Min       1Q   Median       3Q      Max  \n",
       "-1.1027  -0.6063  -0.5294  -0.3982   2.3855  \n",
       "\n",
       "Coefficients:\n",
       "                              Estimate Std. Error z value Pr(>|z|)    \n",
       "(Intercept)                  -2.507515   0.343041  -7.310 2.68e-13 ***\n",
       "SEXMALE                       0.184562   0.129192   1.429 0.153121    \n",
       "RACEOTHER                    -0.018170   0.248427  -0.073 0.941695    \n",
       "RACEWHITE                    -0.362574   0.171020  -2.120 0.034000 *  \n",
       "DEGREEGRADUATE                0.229964   0.298405   0.771 0.440917    \n",
       "DEGREEHIGH SCHOOL             0.804846   0.214426   3.753 0.000174 ***\n",
       "DEGREEJUNIOR COLLEGE          0.661178   0.313280   2.111 0.034815 *  \n",
       "DEGREELT HIGH SCHOOL          1.251467   0.243588   5.138 2.78e-07 ***\n",
       "POLVIEWSEXTREMELY LIBERAL    -0.035858   0.361059  -0.099 0.920889    \n",
       "POLVIEWSEXTRMLY CONSERVATIVE  0.535853   0.305397   1.755 0.079326 .  \n",
       "POLVIEWSLIBERAL               0.124636   0.238556   0.522 0.601350    \n",
       "POLVIEWSMODERATE             -0.061453   0.191974  -0.320 0.748883    \n",
       "POLVIEWSSLGHTLY CONSERVATIVE -0.214527   0.249205  -0.861 0.389323    \n",
       "POLVIEWSSLIGHTLY LIBERAL     -0.123948   0.252550  -0.491 0.623579    \n",
       "nAGE                          0.005958   0.003660   1.628 0.103563    \n",
       "---\n",
       "Signif. codes:  0 ‘***’ 0.001 ‘**’ 0.01 ‘*’ 0.05 ‘.’ 0.1 ‘ ’ 1\n",
       "\n",
       "(Dispersion parameter for binomial family taken to be 1)\n",
       "\n",
       "    Null deviance: 1670.3  on 1968  degrees of freedom\n",
       "Residual deviance: 1612.6  on 1954  degrees of freedom\n",
       "AIC: 1642.6\n",
       "\n",
       "Number of Fisher Scoring iterations: 5\n"
      ]
     },
     "metadata": {},
     "output_type": "display_data"
    }
   ],
   "source": [
    "survey_data = read.csv( \"https://www.cs.helsinki.fi/u/ahonkela/teaching/stats4ds/data/gss2010.txt\", sep='\\t' )\n",
    "\n",
    "survey_data$SEX = as.factor(survey_data$SEX)\n",
    "survey_data$RACE = as.factor(survey_data$RACE)\n",
    "survey_data$DEGREE = as.factor(survey_data$DEGREE)\n",
    "survey_data$POLVIEWS = as.factor(survey_data$POLVIEWS)\n",
    "# survey_data$ISUNHAPPY = as.factor(survey_data$ISUNHAPPY)\n",
    "\n",
    "survey_data = na.omit(survey_data)\n",
    "\n",
    "survey_data = survey_data[ , !names(survey_data) %in% c(\"HAPPY\", \"AGE\")]\n",
    "\n",
    "fit = glm( ISUNHAPPY ~ SEX + RACE + DEGREE + POLVIEWS + nAGE, data=survey_data, \n",
    "         family = binomial(link=\"logit\") )\n",
    "summary(fit)\n",
    "# survey_data"
   ]
  },
  {
   "cell_type": "markdown",
   "id": "24ddaae7-3b66-44e1-ba4d-5b51eed0340c",
   "metadata": {},
   "source": [
    "From the data we can see that the feature with the most association with happiness is education, in particular highschool level education. Other features that seem to have a certain amount of significance, although not as strong, are race and junior college level education."
   ]
  },
  {
   "cell_type": "markdown",
   "id": "a876b154-2962-4434-8566-6dabc9eda34a",
   "metadata": {},
   "source": [
    "## Part B"
   ]
  },
  {
   "cell_type": "code",
   "execution_count": 17,
   "id": "b4c9d48a-e8a7-4748-9ca8-e4ac3f0c671a",
   "metadata": {},
   "outputs": [
    {
     "data": {
      "text/plain": [
       "\n",
       "Call:\n",
       "glm(formula = ISUNHAPPY ~ SEX + RACE + DEGREE + POLVIEWS + nAGE, \n",
       "    family = binomial(link = \"logit\"), data = survey_data)\n",
       "\n",
       "Deviance Residuals: \n",
       "    Min       1Q   Median       3Q      Max  \n",
       "-1.1361  -0.6155  -0.5331  -0.3997   2.3664  \n",
       "\n",
       "Coefficients:\n",
       "                              Estimate Std. Error z value Pr(>|z|)    \n",
       "(Intercept)                  -2.372727   0.333125  -7.123 1.06e-12 ***\n",
       "SEXMALE                       0.212149   0.125168   1.695 0.090092 .  \n",
       "RACEOTHER                    -0.108224   0.236690  -0.457 0.647500    \n",
       "RACEWHITE                    -0.434431   0.162319  -2.676 0.007442 ** \n",
       "DEGREEGRADUATE                0.204493   0.296328   0.690 0.490137    \n",
       "DEGREEHIGH SCHOOL             0.784974   0.210782   3.724 0.000196 ***\n",
       "DEGREEJUNIOR COLLEGE          0.674460   0.303210   2.224 0.026122 *  \n",
       "DEGREELT HIGH SCHOOL          1.266587   0.235504   5.378 7.52e-08 ***\n",
       "POLVIEWSEXTREMELY LIBERAL     0.001811   0.350537   0.005 0.995878    \n",
       "POLVIEWSEXTRMLY CONSERVATIVE  0.546497   0.304721   1.793 0.072904 .  \n",
       "POLVIEWSLIBERAL               0.135528   0.236083   0.574 0.565922    \n",
       "POLVIEWSMODERATE             -0.009003   0.187870  -0.048 0.961780    \n",
       "POLVIEWSSLGHTLY CONSERVATIVE -0.183514   0.244284  -0.751 0.452512    \n",
       "POLVIEWSSLIGHTLY LIBERAL     -0.075463   0.246174  -0.307 0.759192    \n",
       "nAGE                          0.004157   0.003544   1.173 0.240823    \n",
       "---\n",
       "Signif. codes:  0 ‘***’ 0.001 ‘**’ 0.01 ‘*’ 0.05 ‘.’ 0.1 ‘ ’ 1\n",
       "\n",
       "(Dispersion parameter for binomial family taken to be 1)\n",
       "\n",
       "    Null deviance: 1767.1  on 2043  degrees of freedom\n",
       "Residual deviance: 1703.3  on 2029  degrees of freedom\n",
       "AIC: 1733.3\n",
       "\n",
       "Number of Fisher Scoring iterations: 5\n"
      ]
     },
     "metadata": {},
     "output_type": "display_data"
    }
   ],
   "source": [
    "# install.packages(\"VIM\")\n",
    "library(VIM)\n",
    "\n",
    "survey_data = read.csv( \"https://www.cs.helsinki.fi/u/ahonkela/teaching/stats4ds/data/gss2010.txt\", sep='\\t' )\n",
    "survey_data$SEX = as.factor(survey_data$SEX)\n",
    "survey_data$RACE = as.factor(survey_data$RACE)\n",
    "survey_data$DEGREE = as.factor(survey_data$DEGREE)\n",
    "survey_data$POLVIEWS = as.factor(survey_data$POLVIEWS)\n",
    "\n",
    "survey_data = survey_data[ , !names(survey_data) %in% c(\"HAPPY\", \"AGE\")]\n",
    "\n",
    "survey_data = kNN(survey_data)\n",
    "\n",
    "fit = glm( ISUNHAPPY ~ SEX + RACE + DEGREE + POLVIEWS + nAGE, data=survey_data, \n",
    "         family = binomial(link=\"logit\") )\n",
    "summary(fit)"
   ]
  },
  {
   "cell_type": "markdown",
   "id": "872e0f26-98f8-4594-bc11-75115f9663c7",
   "metadata": {},
   "source": [
    "After imputing the data with kNN and running the same analysis, we can see that race becomes more prominent in the determination of happiness."
   ]
  }
 ],
 "metadata": {
  "kernelspec": {
   "display_name": "R",
   "language": "R",
   "name": "ir"
  },
  "language_info": {
   "codemirror_mode": "r",
   "file_extension": ".r",
   "mimetype": "text/x-r-source",
   "name": "R",
   "pygments_lexer": "r",
   "version": "4.2.1"
  }
 },
 "nbformat": 4,
 "nbformat_minor": 5
}
