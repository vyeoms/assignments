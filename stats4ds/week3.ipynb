{
 "cells": [
  {
   "cell_type": "markdown",
   "id": "83f213b5",
   "metadata": {},
   "source": [
    "# Exercise 2"
   ]
  },
  {
   "cell_type": "code",
   "execution_count": 1,
   "id": "d76508f4",
   "metadata": {},
   "outputs": [
    {
     "name": "stdout",
     "output_type": "stream",
     "text": [
      "Coverage for the MAD with normal:  0.93\n",
      "Coverage for the MAD with percentile:  0.933\n",
      "Coverage for the MAD with pivot:  0.922\n",
      "Coverage for the skew with normal:  0.299\n",
      "Coverage for the skew with percentile:  0.255\n",
      "Coverage for the skew with pivot:  0.296\n"
     ]
    }
   ],
   "source": [
    "import numpy as np\n",
    "import numpy.random as npr\n",
    "import math\n",
    "\n",
    "def mad(x):\n",
    "    return 1/len(x) * np.sum( np.abs(x - np.mean(x)) )\n",
    "\n",
    "def skew(x):\n",
    "    mean = np.mean(x)\n",
    "    sigma = np.std(x)\n",
    "    return 1/len(x) * np.sum( ((x - mean)**3)/sigma**3 )\n",
    "\n",
    "R = 1000\n",
    "within_mad = [0.0, 0.0, 0.0]\n",
    "within_skew = [0.0, 0.0, 0.0]\n",
    "theo_mad = 2*np.exp(0.5)*math.erf(1/(2*np.sqrt(2)))\n",
    "theo_skew = (np.e + 2) * np.sqrt(np.e - 1)\n",
    "\n",
    "npr.seed(0)\n",
    "for _ in range(R):\n",
    "    x = np.exp(npr.normal(0, 1, 500)) # Generate sample from specified distribution\n",
    "    \n",
    "    bootstrap_mad = np.array([mad(npr.choice(x, replace=True, size=500)) for _ in range(1000)])\n",
    "    sample_mad = np.mean(bootstrap_mad)\n",
    "    se = np.sqrt(np.var(bootstrap_mad))\n",
    "    norm_range_mad = [sample_mad - 1.96*se, sample_mad + 1.96*se]\n",
    "    perc_range_mad = np.percentile(bootstrap_mad, [2.5, 97.5])\n",
    "    pivot_range_mad = [2*sample_mad - perc_range_mad[1], 2*sample_mad - perc_range_mad[0]] \n",
    "    within_mad[0] += (norm_range_mad[0] <= theo_mad) and (norm_range_mad[1] >= theo_mad)\n",
    "    within_mad[1] += (perc_range_mad[0] <= theo_mad) and (perc_range_mad[1] >= theo_mad)\n",
    "    within_mad[2] += (pivot_range_mad[0] <= theo_mad) and (pivot_range_mad[1] >= theo_mad)\n",
    "    \n",
    "    bootstrap_skew = np.array([skew(npr.choice(x, replace=True, size=500)) for _ in range(1000)])\n",
    "    sample_skew = np.mean(bootstrap_skew)\n",
    "    se = np.sqrt(np.var(bootstrap_skew))\n",
    "    norm_range_skew = [sample_skew - 1.96*se, sample_skew + 1.96*se]\n",
    "    perc_range_skew = np.percentile(bootstrap_skew, [2.5, 97.5])\n",
    "    pivot_range_skew = [2*sample_skew - perc_range_skew[1], 2*sample_skew - perc_range_skew[0]] \n",
    "    within_skew[0] += (norm_range_skew[0] <= theo_skew) and (norm_range_skew[1] >= theo_skew)\n",
    "    within_skew[1] += (perc_range_skew[0] <= theo_skew) and (perc_range_skew[1] >= theo_skew)\n",
    "    within_skew[2] += (pivot_range_skew[0] <= theo_skew) and (pivot_range_skew[1] >= theo_skew)\n",
    "\n",
    "print('Coverage for the MAD with normal: ', within_mad[0]/R)\n",
    "print('Coverage for the MAD with percentile: ', within_mad[1]/R)\n",
    "print('Coverage for the MAD with pivot: ', within_mad[2]/R)\n",
    "\n",
    "print('Coverage for the skew with normal: ', within_skew[0]/R)\n",
    "print('Coverage for the skew with percentile: ', within_skew[1]/R)\n",
    "print('Coverage for the skew with pivot: ', within_skew[2]/R)"
   ]
  },
  {
   "cell_type": "markdown",
   "id": "e14db6f1",
   "metadata": {},
   "source": [
    "## Discussion on coverage\n",
    "\n",
    "The coverage calculated for the skewness is clearly much lower than for the MAD. This is possibly due to the distribution of the skewness measure not being symmetric, so the proposed ways to calculate a confidence interval may be ill-posed to represent the measure. We may verify this plotting a histogram of the values of the bootstrapped skewness"
   ]
  },
  {
   "cell_type": "code",
   "execution_count": 12,
   "id": "92df6e53",
   "metadata": {},
   "outputs": [
    {
     "data": {
      "image/png": "[encoded data removed]",
      "text/plain": [
       "<Figure size 432x288 with 1 Axes>"
      ]
     },
     "metadata": {
      "needs_background": "light"
     },
     "output_type": "display_data"
    },
    {
     "data": {
      "image/png": "[encoded data removed]",
      "text/plain": [
       "<Figure size 432x288 with 1 Axes>"
      ]
     },
     "metadata": {
      "needs_background": "light"
     },
     "output_type": "display_data"
    }
   ],
   "source": [
    "import matplotlib.pyplot as plt\n",
    "\n",
    "x = np.exp(npr.normal(0, 1, 500)) # Generate sample from specified distribution\n",
    "bootstrap_skew = np.array([skew(npr.choice(x, replace=True, size=500)) for _ in range(10000)])\n",
    "\n",
    "plt.hist(bootstrap_skew, bins=100, density=True)\n",
    "plt.show()\n",
    "\n",
    "bootstrap_mad = np.array([mad(npr.choice(x, replace=True, size=500)) for _ in range(10000)])\n",
    "plt.hist(bootstrap_mad, bins=100, density=True)\n",
    "plt.show()"
   ]
  },
  {
   "cell_type": "markdown",
   "id": "bbc3da8e",
   "metadata": {},
   "source": [
    "From different executions of the previous code block, the distribution of the bootstrapped skewness seems inconsistent, sometimes following a multimodal and sometimes following something resembling a normal distribution, while the MAD follows a more unimodal distribution very consistently. This is probably why the confidence interval of the skewedness has a much lower coverage"
   ]
  },
  {
   "cell_type": "markdown",
   "id": "5a06746a",
   "metadata": {},
   "source": [
    "# Exercise 5"
   ]
  },
  {
   "cell_type": "code",
   "execution_count": 2,
   "id": "6fcc35e5",
   "metadata": {},
   "outputs": [
    {
     "name": "stdout",
     "output_type": "stream",
     "text": [
      "MSE:  0.015194947483219656\n"
     ]
    }
   ],
   "source": [
    "errors = []\n",
    "for i in range(100000):\n",
    "    sample = npr.uniform(1, 3, 10)\n",
    "    estimation = (np.amax(sample) + np.amin(sample))/2\n",
    "    errors.append( (estimation - 2)**2 )\n",
    "\n",
    "print('MSE: ', np.sum(errors)/len(errors))"
   ]
  }
 ],
 "metadata": {
  "kernelspec": {
   "display_name": "Python 3 (ipykernel)",
   "language": "python",
   "name": "python3"
  },
  "language_info": {
   "codemirror_mode": {
    "name": "ipython",
    "version": 3
   },
   "file_extension": ".py",
   "mimetype": "text/x-python",
   "name": "python",
   "nbconvert_exporter": "python",
   "pygments_lexer": "ipython3",
   "version": "3.10.6"
  }
 },
 "nbformat": 4,
 "nbformat_minor": 5
}
